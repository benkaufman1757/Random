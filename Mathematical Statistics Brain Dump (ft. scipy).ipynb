{
 "cells": [
  {
   "cell_type": "markdown",
   "metadata": {},
   "source": [
    "Note: most of this comes from Wikipedia and my textbook: Mathematical Statistics with Applications 7th Edition"
   ]
  },
  {
   "cell_type": "code",
   "execution_count": 2,
   "metadata": {
    "collapsed": false
   },
   "outputs": [
    {
     "data": {
      "text/html": [
       "\n",
       "    <div class=\"bk-root\">\n",
       "        <a href=\"http://bokeh.pydata.org\" target=\"_blank\" class=\"bk-logo bk-logo-small bk-logo-notebook\"></a>\n",
       "        <span id=\"488beadc-41bf-40af-8ac2-bfe331162aee\">Loading BokehJS ...</span>\n",
       "    </div>"
      ]
     },
     "metadata": {},
     "output_type": "display_data"
    },
    {
     "data": {
      "application/javascript": [
       "\n",
       "(function(global) {\n",
       "  function now() {\n",
       "    return new Date();\n",
       "  }\n",
       "\n",
       "  if (typeof (window._bokeh_onload_callbacks) === \"undefined\") {\n",
       "    window._bokeh_onload_callbacks = [];\n",
       "  }\n",
       "\n",
       "  function run_callbacks() {\n",
       "    window._bokeh_onload_callbacks.forEach(function(callback) { callback() });\n",
       "    delete window._bokeh_onload_callbacks\n",
       "    console.info(\"Bokeh: all callbacks have finished\");\n",
       "  }\n",
       "\n",
       "  function load_libs(js_urls, callback) {\n",
       "    window._bokeh_onload_callbacks.push(callback);\n",
       "    if (window._bokeh_is_loading > 0) {\n",
       "      console.log(\"Bokeh: BokehJS is being loaded, scheduling callback at\", now());\n",
       "      return null;\n",
       "    }\n",
       "    if (js_urls == null || js_urls.length === 0) {\n",
       "      run_callbacks();\n",
       "      return null;\n",
       "    }\n",
       "    console.log(\"Bokeh: BokehJS not loaded, scheduling load and callback at\", now());\n",
       "    window._bokeh_is_loading = js_urls.length;\n",
       "    for (var i = 0; i < js_urls.length; i++) {\n",
       "      var url = js_urls[i];\n",
       "      var s = document.createElement('script');\n",
       "      s.src = url;\n",
       "      s.async = false;\n",
       "      s.onreadystatechange = s.onload = function() {\n",
       "        window._bokeh_is_loading--;\n",
       "        if (window._bokeh_is_loading === 0) {\n",
       "          console.log(\"Bokeh: all BokehJS libraries loaded\");\n",
       "          run_callbacks()\n",
       "        }\n",
       "      };\n",
       "      s.onerror = function() {\n",
       "        console.warn(\"failed to load library \" + url);\n",
       "      };\n",
       "      console.log(\"Bokeh: injecting script tag for BokehJS library: \", url);\n",
       "      document.getElementsByTagName(\"head\")[0].appendChild(s);\n",
       "    }\n",
       "  };\n",
       "\n",
       "  var js_urls = ['https://cdn.pydata.org/bokeh/release/bokeh-0.12.0.min.js', 'https://cdn.pydata.org/bokeh/release/bokeh-widgets-0.12.0.min.js', 'https://cdn.pydata.org/bokeh/release/bokeh-compiler-0.12.0.min.js'];\n",
       "\n",
       "  var inline_js = [\n",
       "    function(Bokeh) {\n",
       "      Bokeh.set_log_level(\"info\");\n",
       "    },\n",
       "    \n",
       "    function(Bokeh) {\n",
       "      Bokeh.$(\"#488beadc-41bf-40af-8ac2-bfe331162aee\").text(\"BokehJS successfully loaded\");\n",
       "    },\n",
       "    function(Bokeh) {\n",
       "      console.log(\"Bokeh: injecting CSS: https://cdn.pydata.org/bokeh/release/bokeh-0.12.0.min.css\");\n",
       "      Bokeh.embed.inject_css(\"https://cdn.pydata.org/bokeh/release/bokeh-0.12.0.min.css\");\n",
       "      console.log(\"Bokeh: injecting CSS: https://cdn.pydata.org/bokeh/release/bokeh-widgets-0.12.0.min.css\");\n",
       "      Bokeh.embed.inject_css(\"https://cdn.pydata.org/bokeh/release/bokeh-widgets-0.12.0.min.css\");\n",
       "    }\n",
       "  ];\n",
       "\n",
       "  function run_inline_js() {\n",
       "    for (var i = 0; i < inline_js.length; i++) {\n",
       "      inline_js[i](window.Bokeh);\n",
       "    }\n",
       "  }\n",
       "\n",
       "  if (window._bokeh_is_loading === 0) {\n",
       "    console.log(\"Bokeh: BokehJS loaded, going straight to plotting\");\n",
       "    run_inline_js();\n",
       "  } else {\n",
       "    load_libs(js_urls, function() {\n",
       "      console.log(\"Bokeh: BokehJS plotting callback run at\", now());\n",
       "      run_inline_js();\n",
       "    });\n",
       "  }\n",
       "}(this));"
      ]
     },
     "metadata": {},
     "output_type": "display_data"
    }
   ],
   "source": [
    "import numpy as np\n",
    "import matplotlib.pyplot as plt\n",
    "%matplotlib inline\n",
    "\n",
    "from scipy.stats import norm, binom, geom, poisson\n",
    "\n",
    "import numpy as np\n",
    "from bokeh.plotting import figure, show\n",
    "from bokeh.layouts import row\n",
    "from bokeh.io import output_notebook, push_notebook\n",
    "output_notebook()\n",
    "\n",
    "from ipywidgets import interact\n",
    "from bokeh.models import ColumnDataSource"
   ]
  },
  {
   "cell_type": "markdown",
   "metadata": {},
   "source": [
    "# Discrete Random Variables"
   ]
  },
  {
   "cell_type": "markdown",
   "metadata": {},
   "source": [
    "## Expectation\n",
    "$E(Y) = \\mu = \\sum\\limits_{y} yp(y)$\n",
    "\n",
    "## Variance\n",
    "$V(Y) = \\sigma^2 = E[(Y-\\mu)^2] = E(Y^2) - \\mu^2$"
   ]
  },
  {
   "cell_type": "markdown",
   "metadata": {},
   "source": [
    "## Binomial Distribution, $\\mathcal{B}(n,p)$\n",
    "\n",
    "$\\mathcal{B}(n,p)$: $\\mu = np, \\sigma^2 = np(1-p), \\tilde{\\mu}_3 = \\frac{1-2p}{\\sqrt{np(1-p)}}, \\tilde{\\mu}_4 = \\frac{1-6p(1-p)}{np(1-p)}$\n",
    "\n",
    "PDF: $p(y) = \\binom{n}{y}p^y q^{n-y}$\n",
    "\n",
    "MGF: $m(t) = [pe^t + (1-p)]^n$"
   ]
  },
  {
   "cell_type": "code",
   "execution_count": 4,
   "metadata": {
    "collapsed": false
   },
   "outputs": [
    {
     "name": "stdout",
     "output_type": "stream",
     "text": [
      "4.0 3.2 0.3354101966249685 0.012499999999999942\n"
     ]
    }
   ],
   "source": [
    "n, p = 20, 0.2\n",
    "mean, var, skew, kurt = binom.stats(n, p, moments='mvsk')\n",
    "print(mean, var, skew, kurt)"
   ]
  },
  {
   "cell_type": "code",
   "execution_count": 3,
   "metadata": {
    "collapsed": false
   },
   "outputs": [
    {
     "data": {
      "text/plain": [
       "<bokeh.models.renderers.GlyphRenderer at 0x10ecc9eb8>"
      ]
     },
     "execution_count": 3,
     "metadata": {},
     "output_type": "execute_result"
    }
   ],
   "source": [
    "binomial_pdf = figure(title=\"Binomial PDF\", width=400, height=400)\n",
    "binomial_cdf = figure(title=\"Binomial CDF\", width=400, height=400)\n",
    "\n",
    "n, p = 10, 0.5\n",
    "x = np.arange(binom.ppf(0.01, n, p), binom.ppf(0.99, n, p))\n",
    "rv = binom(n, p)\n",
    "\n",
    "bin_pdf = ColumnDataSource(data=dict(x=x, y=rv.pmf(x)))\n",
    "bin_cdf = ColumnDataSource(data=dict(x=x, y=rv.cdf(x)))\n",
    "\n",
    "binomial_pdf.scatter(bin_pdf.data[\"x\"],bin_pdf.data[\"y\"],source=bin_pdf,color=\"blue\", size=10)\n",
    "binomial_cdf.scatter(bin_cdf.data[\"x\"],bin_cdf.data[\"y\"],source=bin_cdf,color=\"red\", size=10)"
   ]
  },
  {
   "cell_type": "code",
   "execution_count": 4,
   "metadata": {
    "collapsed": true
   },
   "outputs": [],
   "source": [
    "def binomial_update(n,p):\n",
    "    x = np.arange(binom.ppf(0.01, n, p), binom.ppf(0.99, n, p))\n",
    "    rv = binom(n, p)\n",
    "    bin_pdf.data['x'] = x\n",
    "    bin_pdf.data['y'] = rv.pmf(x)\n",
    "    bin_cdf.data['x'] = x\n",
    "    bin_cdf.data['y'] = rv.cdf(x)\n",
    "    push_notebook()"
   ]
  },
  {
   "cell_type": "code",
   "execution_count": 5,
   "metadata": {
    "collapsed": false
   },
   "outputs": [
    {
     "data": {
      "text/html": [
       "\n",
       "\n",
       "    <div class=\"bk-root\">\n",
       "        <div class=\"plotdiv\" id=\"4bda1355-6551-4531-b161-530a33523fd0\"></div>\n",
       "    </div>\n",
       "<script type=\"text/javascript\">\n",
       "  \n",
       "  (function(global) {\n",
       "    function now() {\n",
       "      return new Date();\n",
       "    }\n",
       "  \n",
       "    if (typeof (window._bokeh_onload_callbacks) === \"undefined\") {\n",
       "      window._bokeh_onload_callbacks = [];\n",
       "    }\n",
       "  \n",
       "    function run_callbacks() {\n",
       "      window._bokeh_onload_callbacks.forEach(function(callback) { callback() });\n",
       "      delete window._bokeh_onload_callbacks\n",
       "      console.info(\"Bokeh: all callbacks have finished\");\n",
       "    }\n",
       "  \n",
       "    function load_libs(js_urls, callback) {\n",
       "      window._bokeh_onload_callbacks.push(callback);\n",
       "      if (window._bokeh_is_loading > 0) {\n",
       "        console.log(\"Bokeh: BokehJS is being loaded, scheduling callback at\", now());\n",
       "        return null;\n",
       "      }\n",
       "      if (js_urls == null || js_urls.length === 0) {\n",
       "        run_callbacks();\n",
       "        return null;\n",
       "      }\n",
       "      console.log(\"Bokeh: BokehJS not loaded, scheduling load and callback at\", now());\n",
       "      window._bokeh_is_loading = js_urls.length;\n",
       "      for (var i = 0; i < js_urls.length; i++) {\n",
       "        var url = js_urls[i];\n",
       "        var s = document.createElement('script');\n",
       "        s.src = url;\n",
       "        s.async = false;\n",
       "        s.onreadystatechange = s.onload = function() {\n",
       "          window._bokeh_is_loading--;\n",
       "          if (window._bokeh_is_loading === 0) {\n",
       "            console.log(\"Bokeh: all BokehJS libraries loaded\");\n",
       "            run_callbacks()\n",
       "          }\n",
       "        };\n",
       "        s.onerror = function() {\n",
       "          console.warn(\"failed to load library \" + url);\n",
       "        };\n",
       "        console.log(\"Bokeh: injecting script tag for BokehJS library: \", url);\n",
       "        document.getElementsByTagName(\"head\")[0].appendChild(s);\n",
       "      }\n",
       "    };var element = document.getElementById(\"4bda1355-6551-4531-b161-530a33523fd0\");\n",
       "    if (element == null) {\n",
       "      console.log(\"Bokeh: ERROR: autoload.js configured with elementid '4bda1355-6551-4531-b161-530a33523fd0' but no matching script tag was found. \")\n",
       "      return false;\n",
       "    }\n",
       "  \n",
       "    var js_urls = [];\n",
       "  \n",
       "    var inline_js = [\n",
       "      function(Bokeh) {\n",
       "        Bokeh.$(function() {\n",
       "            var docs_json = {\"30677a4a-baef-4efe-b60c-095f0a12c19f\":{\"roots\":{\"references\":[{\"attributes\":{},\"id\":\"5765f645-1815-47f4-a24b-e71208d3306f\",\"type\":\"BasicTicker\"},{\"attributes\":{},\"id\":\"6cc6e567-02a4-4e56-88b9-31fbb5b346bc\",\"type\":\"ToolEvents\"},{\"attributes\":{\"formatter\":{\"id\":\"61bc063b-ed94-4d9b-9cd7-763d71944676\",\"type\":\"BasicTickFormatter\"},\"plot\":{\"id\":\"56230f9b-c7ce-46ed-b320-ff6eb8215d5c\",\"subtype\":\"Figure\",\"type\":\"Plot\"},\"ticker\":{\"id\":\"88adb273-7d6b-4912-9e8d-c3a1357a5222\",\"type\":\"BasicTicker\"}},\"id\":\"899fc40c-c180-49cb-bf6f-82f984a63b41\",\"type\":\"LinearAxis\"},{\"attributes\":{\"below\":[{\"id\":\"899fc40c-c180-49cb-bf6f-82f984a63b41\",\"type\":\"LinearAxis\"}],\"left\":[{\"id\":\"30b11ce8-7f40-4269-8a28-6aab40ac069f\",\"type\":\"LinearAxis\"}],\"plot_height\":400,\"plot_width\":400,\"renderers\":[{\"id\":\"899fc40c-c180-49cb-bf6f-82f984a63b41\",\"type\":\"LinearAxis\"},{\"id\":\"e0836e89-c14e-4431-93e0-290c9d05d1d6\",\"type\":\"Grid\"},{\"id\":\"30b11ce8-7f40-4269-8a28-6aab40ac069f\",\"type\":\"LinearAxis\"},{\"id\":\"47285259-ba92-4852-9d76-0167eacdbbe6\",\"type\":\"Grid\"},{\"id\":\"3bc85fb1-3014-4f22-a261-2903109a8a24\",\"type\":\"BoxAnnotation\"},{\"id\":\"a4ef21d2-d7af-4ff2-a151-9e32a7e264f0\",\"type\":\"GlyphRenderer\"}],\"title\":{\"id\":\"b0c8e805-56c4-43a4-8c1f-f61024cd7cb6\",\"type\":\"Title\"},\"tool_events\":{\"id\":\"6cc6e567-02a4-4e56-88b9-31fbb5b346bc\",\"type\":\"ToolEvents\"},\"toolbar\":{\"id\":\"b40e360e-c2ca-4c78-a5c8-99b017e02581\",\"type\":\"Toolbar\"},\"x_range\":{\"id\":\"d3acfeaa-9d97-4f45-9eb0-9bf00acc97d6\",\"type\":\"DataRange1d\"},\"y_range\":{\"id\":\"f69a2ddd-3a3b-4f04-b508-97a209ecd622\",\"type\":\"DataRange1d\"}},\"id\":\"56230f9b-c7ce-46ed-b320-ff6eb8215d5c\",\"subtype\":\"Figure\",\"type\":\"Plot\"},{\"attributes\":{\"plot\":null,\"text\":\"Binomial CDF\"},\"id\":\"b0c8e805-56c4-43a4-8c1f-f61024cd7cb6\",\"type\":\"Title\"},{\"attributes\":{},\"id\":\"837291d6-bcdf-40f5-8dd1-7719cf519229\",\"type\":\"BasicTickFormatter\"},{\"attributes\":{\"fill_alpha\":{\"value\":0.1},\"fill_color\":{\"value\":\"#1f77b4\"},\"line_alpha\":{\"value\":0.1},\"line_color\":{\"value\":\"#1f77b4\"},\"size\":{\"units\":\"screen\",\"value\":10},\"x\":{\"field\":\"x\"},\"y\":{\"field\":\"y\"}},\"id\":\"4d5285e2-8da7-4127-807c-da3c3399bc97\",\"type\":\"Circle\"},{\"attributes\":{\"plot\":{\"id\":\"56230f9b-c7ce-46ed-b320-ff6eb8215d5c\",\"subtype\":\"Figure\",\"type\":\"Plot\"}},\"id\":\"f0cf40bf-058f-4a51-86c6-3eecad914e98\",\"type\":\"SaveTool\"},{\"attributes\":{\"plot\":{\"id\":\"9f645fee-ab78-4f93-b897-524da9a76755\",\"subtype\":\"Figure\",\"type\":\"Plot\"}},\"id\":\"fad773d0-9333-4990-901b-bf75527b79ea\",\"type\":\"ResetTool\"},{\"attributes\":{\"callback\":null,\"column_names\":[\"x\",\"y\",\"x\",\"y\"],\"data\":{\"x\":[1.0,2.0,3.0,4.0,5.0,6.0,7.0,8.0],\"y\":[0.010742187499999998,0.054687500000000014,0.17187499999999994,0.3769531250000001,0.6230468749999999,0.828125,0.9453125,0.9892578125]}},\"id\":\"2805721a-a439-4cdb-b6a4-120ab678c2e9\",\"type\":\"ColumnDataSource\"},{\"attributes\":{\"below\":[{\"id\":\"4912a4f9-8e25-4ee3-a1fb-c655011a4871\",\"type\":\"LinearAxis\"}],\"left\":[{\"id\":\"24306539-966d-4612-91ec-c9bfd483d73a\",\"type\":\"LinearAxis\"}],\"plot_height\":400,\"plot_width\":400,\"renderers\":[{\"id\":\"4912a4f9-8e25-4ee3-a1fb-c655011a4871\",\"type\":\"LinearAxis\"},{\"id\":\"678bb7d1-553f-4348-9c56-56707a79c60e\",\"type\":\"Grid\"},{\"id\":\"24306539-966d-4612-91ec-c9bfd483d73a\",\"type\":\"LinearAxis\"},{\"id\":\"343ce31e-571c-41aa-98e8-aabdd1ba37a6\",\"type\":\"Grid\"},{\"id\":\"5e8352f4-546b-4744-8f90-58e7532940e4\",\"type\":\"BoxAnnotation\"},{\"id\":\"66ba1bb2-55fb-4045-a657-ea765551a6c2\",\"type\":\"GlyphRenderer\"}],\"title\":{\"id\":\"2fc56208-e261-49c3-a241-e81ba89fff02\",\"type\":\"Title\"},\"tool_events\":{\"id\":\"c32c13ff-4fb9-40af-af19-6129aa303fa4\",\"type\":\"ToolEvents\"},\"toolbar\":{\"id\":\"4fa389cb-3914-4f5f-b7ef-41901f4f2455\",\"type\":\"Toolbar\"},\"x_range\":{\"id\":\"74c2eded-d7af-4dc1-89f9-671875c57ba5\",\"type\":\"DataRange1d\"},\"y_range\":{\"id\":\"826733a4-7696-4e52-93f6-94d460b195cb\",\"type\":\"DataRange1d\"}},\"id\":\"9f645fee-ab78-4f93-b897-524da9a76755\",\"subtype\":\"Figure\",\"type\":\"Plot\"},{\"attributes\":{\"fill_alpha\":{\"value\":0.1},\"fill_color\":{\"value\":\"#1f77b4\"},\"line_alpha\":{\"value\":0.1},\"line_color\":{\"value\":\"#1f77b4\"},\"size\":{\"units\":\"screen\",\"value\":10},\"x\":{\"field\":\"x\"},\"y\":{\"field\":\"y\"}},\"id\":\"900ed294-476f-4300-9f6c-8cdc44b6772c\",\"type\":\"Circle\"},{\"attributes\":{\"overlay\":{\"id\":\"5e8352f4-546b-4744-8f90-58e7532940e4\",\"type\":\"BoxAnnotation\"},\"plot\":{\"id\":\"9f645fee-ab78-4f93-b897-524da9a76755\",\"subtype\":\"Figure\",\"type\":\"Plot\"}},\"id\":\"0953907a-3ced-4e8f-aeab-e0d735a08ba4\",\"type\":\"BoxZoomTool\"},{\"attributes\":{\"active_drag\":\"auto\",\"active_scroll\":\"auto\",\"active_tap\":\"auto\",\"tools\":[{\"id\":\"9bffe051-16e0-42c6-a5d2-f5165c4d3911\",\"type\":\"PanTool\"},{\"id\":\"b24004e8-6529-4559-bf56-1c25e3a70968\",\"type\":\"WheelZoomTool\"},{\"id\":\"0953907a-3ced-4e8f-aeab-e0d735a08ba4\",\"type\":\"BoxZoomTool\"},{\"id\":\"5af594a1-37fd-4e63-af34-d988c065af52\",\"type\":\"SaveTool\"},{\"id\":\"fad773d0-9333-4990-901b-bf75527b79ea\",\"type\":\"ResetTool\"},{\"id\":\"aa427902-c486-485f-963c-2305ccfa1cf5\",\"type\":\"HelpTool\"}]},\"id\":\"4fa389cb-3914-4f5f-b7ef-41901f4f2455\",\"type\":\"Toolbar\"},{\"attributes\":{\"formatter\":{\"id\":\"01963528-4a1f-43b2-9089-f4c431da9700\",\"type\":\"BasicTickFormatter\"},\"plot\":{\"id\":\"9f645fee-ab78-4f93-b897-524da9a76755\",\"subtype\":\"Figure\",\"type\":\"Plot\"},\"ticker\":{\"id\":\"5765f645-1815-47f4-a24b-e71208d3306f\",\"type\":\"BasicTicker\"}},\"id\":\"4912a4f9-8e25-4ee3-a1fb-c655011a4871\",\"type\":\"LinearAxis\"},{\"attributes\":{\"data_source\":{\"id\":\"065c2b70-6157-408b-925b-cfa6b78d9c8c\",\"type\":\"ColumnDataSource\"},\"glyph\":{\"id\":\"becf9783-3a50-409e-9309-bad386510d49\",\"type\":\"Circle\"},\"hover_glyph\":null,\"nonselection_glyph\":{\"id\":\"900ed294-476f-4300-9f6c-8cdc44b6772c\",\"type\":\"Circle\"},\"selection_glyph\":null},\"id\":\"66ba1bb2-55fb-4045-a657-ea765551a6c2\",\"type\":\"GlyphRenderer\"},{\"attributes\":{\"dimension\":1,\"plot\":{\"id\":\"56230f9b-c7ce-46ed-b320-ff6eb8215d5c\",\"subtype\":\"Figure\",\"type\":\"Plot\"},\"ticker\":{\"id\":\"468094eb-f204-4d85-8adc-e1c1f77a9ffa\",\"type\":\"BasicTicker\"}},\"id\":\"47285259-ba92-4852-9d76-0167eacdbbe6\",\"type\":\"Grid\"},{\"attributes\":{\"bottom_units\":\"screen\",\"fill_alpha\":{\"value\":0.5},\"fill_color\":{\"value\":\"lightgrey\"},\"left_units\":\"screen\",\"level\":\"overlay\",\"line_alpha\":{\"value\":1.0},\"line_color\":{\"value\":\"black\"},\"line_dash\":[4,4],\"line_width\":{\"value\":2},\"plot\":null,\"render_mode\":\"css\",\"right_units\":\"screen\",\"top_units\":\"screen\"},\"id\":\"3bc85fb1-3014-4f22-a261-2903109a8a24\",\"type\":\"BoxAnnotation\"},{\"attributes\":{},\"id\":\"468094eb-f204-4d85-8adc-e1c1f77a9ffa\",\"type\":\"BasicTicker\"},{\"attributes\":{\"plot\":{\"id\":\"56230f9b-c7ce-46ed-b320-ff6eb8215d5c\",\"subtype\":\"Figure\",\"type\":\"Plot\"},\"ticker\":{\"id\":\"88adb273-7d6b-4912-9e8d-c3a1357a5222\",\"type\":\"BasicTicker\"}},\"id\":\"e0836e89-c14e-4431-93e0-290c9d05d1d6\",\"type\":\"Grid\"},{\"attributes\":{},\"id\":\"61bc063b-ed94-4d9b-9cd7-763d71944676\",\"type\":\"BasicTickFormatter\"},{\"attributes\":{\"children\":[{\"id\":\"9f645fee-ab78-4f93-b897-524da9a76755\",\"subtype\":\"Figure\",\"type\":\"Plot\"},{\"id\":\"56230f9b-c7ce-46ed-b320-ff6eb8215d5c\",\"subtype\":\"Figure\",\"type\":\"Plot\"}]},\"id\":\"cbc5b4d9-83fe-4f08-9991-f6374d93cd21\",\"type\":\"Row\"},{\"attributes\":{\"plot\":{\"id\":\"9f645fee-ab78-4f93-b897-524da9a76755\",\"subtype\":\"Figure\",\"type\":\"Plot\"}},\"id\":\"b24004e8-6529-4559-bf56-1c25e3a70968\",\"type\":\"WheelZoomTool\"},{\"attributes\":{\"fill_color\":{\"value\":\"red\"},\"line_color\":{\"value\":\"red\"},\"size\":{\"units\":\"screen\",\"value\":10},\"x\":{\"field\":\"x\"},\"y\":{\"field\":\"y\"}},\"id\":\"9ba0203a-1851-4548-9418-d6b9741cff29\",\"type\":\"Circle\"},{\"attributes\":{\"callback\":null},\"id\":\"826733a4-7696-4e52-93f6-94d460b195cb\",\"type\":\"DataRange1d\"},{\"attributes\":{\"plot\":{\"id\":\"56230f9b-c7ce-46ed-b320-ff6eb8215d5c\",\"subtype\":\"Figure\",\"type\":\"Plot\"}},\"id\":\"3ffd84dd-9c8f-41c2-be04-bc2efb7dc1a1\",\"type\":\"HelpTool\"},{\"attributes\":{\"active_drag\":\"auto\",\"active_scroll\":\"auto\",\"active_tap\":\"auto\",\"tools\":[{\"id\":\"b903cf86-7f39-4473-852f-58b6ac7d18e6\",\"type\":\"PanTool\"},{\"id\":\"9d0f4902-4e2b-4472-82cc-0af625dff119\",\"type\":\"WheelZoomTool\"},{\"id\":\"c33ddc28-f8ad-442c-a726-57717966a3cf\",\"type\":\"BoxZoomTool\"},{\"id\":\"f0cf40bf-058f-4a51-86c6-3eecad914e98\",\"type\":\"SaveTool\"},{\"id\":\"d43a7421-3b85-4cf5-851f-eedbece6ad37\",\"type\":\"ResetTool\"},{\"id\":\"3ffd84dd-9c8f-41c2-be04-bc2efb7dc1a1\",\"type\":\"HelpTool\"}]},\"id\":\"b40e360e-c2ca-4c78-a5c8-99b017e02581\",\"type\":\"Toolbar\"},{\"attributes\":{\"formatter\":{\"id\":\"4076ec09-b707-4ef9-8344-3a89a598e47c\",\"type\":\"BasicTickFormatter\"},\"plot\":{\"id\":\"9f645fee-ab78-4f93-b897-524da9a76755\",\"subtype\":\"Figure\",\"type\":\"Plot\"},\"ticker\":{\"id\":\"f03ab2e6-37a0-43ce-8457-8cebdde45ee4\",\"type\":\"BasicTicker\"}},\"id\":\"24306539-966d-4612-91ec-c9bfd483d73a\",\"type\":\"LinearAxis\"},{\"attributes\":{\"callback\":null},\"id\":\"74c2eded-d7af-4dc1-89f9-671875c57ba5\",\"type\":\"DataRange1d\"},{\"attributes\":{\"plot\":{\"id\":\"56230f9b-c7ce-46ed-b320-ff6eb8215d5c\",\"subtype\":\"Figure\",\"type\":\"Plot\"}},\"id\":\"b903cf86-7f39-4473-852f-58b6ac7d18e6\",\"type\":\"PanTool\"},{\"attributes\":{},\"id\":\"f03ab2e6-37a0-43ce-8457-8cebdde45ee4\",\"type\":\"BasicTicker\"},{\"attributes\":{\"data_source\":{\"id\":\"2805721a-a439-4cdb-b6a4-120ab678c2e9\",\"type\":\"ColumnDataSource\"},\"glyph\":{\"id\":\"9ba0203a-1851-4548-9418-d6b9741cff29\",\"type\":\"Circle\"},\"hover_glyph\":null,\"nonselection_glyph\":{\"id\":\"4d5285e2-8da7-4127-807c-da3c3399bc97\",\"type\":\"Circle\"},\"selection_glyph\":null},\"id\":\"a4ef21d2-d7af-4ff2-a151-9e32a7e264f0\",\"type\":\"GlyphRenderer\"},{\"attributes\":{\"overlay\":{\"id\":\"3bc85fb1-3014-4f22-a261-2903109a8a24\",\"type\":\"BoxAnnotation\"},\"plot\":{\"id\":\"56230f9b-c7ce-46ed-b320-ff6eb8215d5c\",\"subtype\":\"Figure\",\"type\":\"Plot\"}},\"id\":\"c33ddc28-f8ad-442c-a726-57717966a3cf\",\"type\":\"BoxZoomTool\"},{\"attributes\":{\"bottom_units\":\"screen\",\"fill_alpha\":{\"value\":0.5},\"fill_color\":{\"value\":\"lightgrey\"},\"left_units\":\"screen\",\"level\":\"overlay\",\"line_alpha\":{\"value\":1.0},\"line_color\":{\"value\":\"black\"},\"line_dash\":[4,4],\"line_width\":{\"value\":2},\"plot\":null,\"render_mode\":\"css\",\"right_units\":\"screen\",\"top_units\":\"screen\"},\"id\":\"5e8352f4-546b-4744-8f90-58e7532940e4\",\"type\":\"BoxAnnotation\"},{\"attributes\":{},\"id\":\"01963528-4a1f-43b2-9089-f4c431da9700\",\"type\":\"BasicTickFormatter\"},{\"attributes\":{\"plot\":{\"id\":\"56230f9b-c7ce-46ed-b320-ff6eb8215d5c\",\"subtype\":\"Figure\",\"type\":\"Plot\"}},\"id\":\"9d0f4902-4e2b-4472-82cc-0af625dff119\",\"type\":\"WheelZoomTool\"},{\"attributes\":{\"callback\":null},\"id\":\"d3acfeaa-9d97-4f45-9eb0-9bf00acc97d6\",\"type\":\"DataRange1d\"},{\"attributes\":{\"plot\":{\"id\":\"9f645fee-ab78-4f93-b897-524da9a76755\",\"subtype\":\"Figure\",\"type\":\"Plot\"}},\"id\":\"9bffe051-16e0-42c6-a5d2-f5165c4d3911\",\"type\":\"PanTool\"},{\"attributes\":{\"fill_color\":{\"value\":\"blue\"},\"line_color\":{\"value\":\"blue\"},\"size\":{\"units\":\"screen\",\"value\":10},\"x\":{\"field\":\"x\"},\"y\":{\"field\":\"y\"}},\"id\":\"becf9783-3a50-409e-9309-bad386510d49\",\"type\":\"Circle\"},{\"attributes\":{\"callback\":null},\"id\":\"f69a2ddd-3a3b-4f04-b508-97a209ecd622\",\"type\":\"DataRange1d\"},{\"attributes\":{\"formatter\":{\"id\":\"837291d6-bcdf-40f5-8dd1-7719cf519229\",\"type\":\"BasicTickFormatter\"},\"plot\":{\"id\":\"56230f9b-c7ce-46ed-b320-ff6eb8215d5c\",\"subtype\":\"Figure\",\"type\":\"Plot\"},\"ticker\":{\"id\":\"468094eb-f204-4d85-8adc-e1c1f77a9ffa\",\"type\":\"BasicTicker\"}},\"id\":\"30b11ce8-7f40-4269-8a28-6aab40ac069f\",\"type\":\"LinearAxis\"},{\"attributes\":{\"plot\":{\"id\":\"56230f9b-c7ce-46ed-b320-ff6eb8215d5c\",\"subtype\":\"Figure\",\"type\":\"Plot\"}},\"id\":\"d43a7421-3b85-4cf5-851f-eedbece6ad37\",\"type\":\"ResetTool\"},{\"attributes\":{\"dimension\":1,\"plot\":{\"id\":\"9f645fee-ab78-4f93-b897-524da9a76755\",\"subtype\":\"Figure\",\"type\":\"Plot\"},\"ticker\":{\"id\":\"f03ab2e6-37a0-43ce-8457-8cebdde45ee4\",\"type\":\"BasicTicker\"}},\"id\":\"343ce31e-571c-41aa-98e8-aabdd1ba37a6\",\"type\":\"Grid\"},{\"attributes\":{\"plot\":null,\"text\":\"Binomial PDF\"},\"id\":\"2fc56208-e261-49c3-a241-e81ba89fff02\",\"type\":\"Title\"},{\"attributes\":{\"plot\":{\"id\":\"9f645fee-ab78-4f93-b897-524da9a76755\",\"subtype\":\"Figure\",\"type\":\"Plot\"}},\"id\":\"5af594a1-37fd-4e63-af34-d988c065af52\",\"type\":\"SaveTool\"},{\"attributes\":{},\"id\":\"4076ec09-b707-4ef9-8344-3a89a598e47c\",\"type\":\"BasicTickFormatter\"},{\"attributes\":{\"plot\":{\"id\":\"9f645fee-ab78-4f93-b897-524da9a76755\",\"subtype\":\"Figure\",\"type\":\"Plot\"}},\"id\":\"aa427902-c486-485f-963c-2305ccfa1cf5\",\"type\":\"HelpTool\"},{\"attributes\":{\"callback\":null,\"column_names\":[\"x\",\"y\",\"x\",\"y\"],\"data\":{\"x\":[1.0,2.0,3.0,4.0,5.0,6.0,7.0,8.0],\"y\":[0.00976562500000001,0.04394531249999999,0.11718750000000014,0.20507812500000022,0.24609375000000025,0.20507812500000022,0.11718750000000014,0.04394531249999999]}},\"id\":\"065c2b70-6157-408b-925b-cfa6b78d9c8c\",\"type\":\"ColumnDataSource\"},{\"attributes\":{},\"id\":\"c32c13ff-4fb9-40af-af19-6129aa303fa4\",\"type\":\"ToolEvents\"},{\"attributes\":{},\"id\":\"88adb273-7d6b-4912-9e8d-c3a1357a5222\",\"type\":\"BasicTicker\"},{\"attributes\":{\"plot\":{\"id\":\"9f645fee-ab78-4f93-b897-524da9a76755\",\"subtype\":\"Figure\",\"type\":\"Plot\"},\"ticker\":{\"id\":\"5765f645-1815-47f4-a24b-e71208d3306f\",\"type\":\"BasicTicker\"}},\"id\":\"678bb7d1-553f-4348-9c56-56707a79c60e\",\"type\":\"Grid\"}],\"root_ids\":[\"cbc5b4d9-83fe-4f08-9991-f6374d93cd21\"]},\"title\":\"Bokeh Application\",\"version\":\"0.12.0\"}};\n",
       "            var render_items = [{\"docid\":\"30677a4a-baef-4efe-b60c-095f0a12c19f\",\"elementid\":\"4bda1355-6551-4531-b161-530a33523fd0\",\"modelid\":\"cbc5b4d9-83fe-4f08-9991-f6374d93cd21\",\"notebook_comms_target\":\"3bbac8a3-23f1-4b7c-b315-2142eff4653e\"}];\n",
       "            \n",
       "            Bokeh.embed.embed_items(docs_json, render_items);\n",
       "        });\n",
       "      },\n",
       "      function(Bokeh) {\n",
       "      }\n",
       "    ];\n",
       "  \n",
       "    function run_inline_js() {\n",
       "      for (var i = 0; i < inline_js.length; i++) {\n",
       "        inline_js[i](window.Bokeh);\n",
       "      }\n",
       "    }\n",
       "  \n",
       "    if (window._bokeh_is_loading === 0) {\n",
       "      console.log(\"Bokeh: BokehJS loaded, going straight to plotting\");\n",
       "      run_inline_js();\n",
       "    } else {\n",
       "      load_libs(js_urls, function() {\n",
       "        console.log(\"Bokeh: BokehJS plotting callback run at\", now());\n",
       "        run_inline_js();\n",
       "      });\n",
       "    }\n",
       "  }(this));\n",
       "</script>"
      ]
     },
     "metadata": {},
     "output_type": "display_data"
    },
    {
     "data": {
      "text/html": [
       "<p><code>&lt;Bokeh Notebook handle for <strong>In[5]</strong>&gt;</code></p>"
      ],
      "text/plain": [
       "<bokeh.io._CommsHandle at 0x10ecf6588>"
      ]
     },
     "execution_count": 5,
     "metadata": {},
     "output_type": "execute_result"
    }
   ],
   "source": [
    "show(row(binomial_pdf, binomial_cdf))"
   ]
  },
  {
   "cell_type": "code",
   "execution_count": 6,
   "metadata": {
    "collapsed": false
   },
   "outputs": [],
   "source": [
    "interact(binomial_update, n=(1,100,5),p=(0.1,1,.01))"
   ]
  },
  {
   "cell_type": "markdown",
   "metadata": {},
   "source": [
    "## Geometric Distribution\n",
    "$\\mu = \\frac{1}{p}, \\sigma^2 = \\frac{q}{p^2}, \\tilde{\\mu}_3 = \\frac{2-p}{\\sqrt{1-p}}, \\tilde{\\mu}_4 = 6+\\frac{p^2}{1-p}$\n",
    "\n",
    "PDF: $p(y) = q^{y-1}p $ for $y \\in Z^{+}, 0\\leq p \\leq 1$\n",
    "\n",
    "CDF: $P(Y) = 1-q^k$\n",
    "\n",
    "MGF: $\\frac{pe^t}{1-qe^t}$"
   ]
  },
  {
   "cell_type": "markdown",
   "metadata": {},
   "source": [
    "## Poisson Distribution\n",
    "$\\mu = \\lambda, \\sigma^2 = \\lambda, \\tilde{\\mu}_3 = \\lambda^{-\\frac{1}{2}}, \\tilde{\\mu}_3 = \\lambda^{-1}$\n",
    "\n",
    "PDF: $p(y) = \\frac{\\lambda ^y}{y!}e^{-\\lambda}$\n",
    "\n",
    "MGF: $m(t) = exp[\\lambda (e^t - 1)]$"
   ]
  },
  {
   "cell_type": "markdown",
   "metadata": {},
   "source": [
    "# Continuous Random Variables"
   ]
  },
  {
   "cell_type": "markdown",
   "metadata": {},
   "source": [
    "## Standard Normal, $\\mathcal{N}(\\mu,\\sigma^2)$\n",
    "\n",
    "$\\mathcal{N}(0,1): \\mu = 0, \\sigma^{2} = 1, \\tilde{\\mu}_3 = 0, \\tilde{\\mu}_3 = 0$\n",
    "\n",
    "PDF: $\\mathcal{f}(y)=\\frac{1}{\\sigma \\sqrt{2\\pi}}e^{-\\frac{(y-\\mu)^2}{2\\sigma^2}}$\n",
    "\n",
    "CDF: $F(y)=\\int_{- \\infty}^{y} \\frac{1}{\\sigma \\sqrt{2\\pi}}e^{-\\frac{(y-\\mu)^2}{2\\sigma^2}}dy = \\frac{1}{2}(1+erf(\\frac{y-\\mu}{\\sigma \\sqrt{2}}))$\n",
    "\n",
    "MGF: $m(t) = \\mu t + \\frac{\\sigma^2 t^2}{2}$"
   ]
  },
  {
   "cell_type": "code",
   "execution_count": 24,
   "metadata": {
    "collapsed": false
   },
   "outputs": [
    {
     "name": "stdout",
     "output_type": "stream",
     "text": [
      "0.0 1.0 0.0 0.0\n"
     ]
    }
   ],
   "source": [
    "mean, var, skew, kurt = norm.stats(moments='mvsk')\n",
    "print(mean, var, skew, kurt)"
   ]
  },
  {
   "cell_type": "code",
   "execution_count": 37,
   "metadata": {
    "collapsed": false
   },
   "outputs": [
    {
     "data": {
      "text/plain": [
       "-1.2815515655446004"
      ]
     },
     "execution_count": 37,
     "metadata": {},
     "output_type": "execute_result"
    }
   ],
   "source": []
  },
  {
   "cell_type": "code",
   "execution_count": 7,
   "metadata": {
    "collapsed": true
   },
   "outputs": [],
   "source": [
    "rv = norm()"
   ]
  },
  {
   "cell_type": "code",
   "execution_count": 13,
   "metadata": {
    "collapsed": false
   },
   "outputs": [],
   "source": [
    "x = np.linspace(norm.ppf(0.01), norm.ppf(0.99), 100)"
   ]
  },
  {
   "cell_type": "code",
   "execution_count": 31,
   "metadata": {
    "collapsed": false
   },
   "outputs": [
    {
     "data": {
      "image/png": "[encoded data removed]",
      "text/plain": [
       "<matplotlib.figure.Figure at 0x115c78828>"
      ]
     },
     "metadata": {},
     "output_type": "display_data"
    }
   ],
   "source": [
    "fig, ax = plt.subplots(1, 2)\n",
    "ax[0].plot(x, norm.pdf(x), 'b-', lw=5, alpha=0.6, label='norm pdf')\n",
    "ax[0].legend(loc='best', frameon=False)\n",
    "ax[1].plot(x, norm.cdf(x), 'b-', lw=5, alpha=0.6, label='norm cdf')\n",
    "ax[1].legend(loc='best', frameon=False)\n",
    "plt.show()"
   ]
  },
  {
   "cell_type": "code",
   "execution_count": 39,
   "metadata": {
    "collapsed": false
   },
   "outputs": [
    {
     "data": {
      "text/plain": [
       "0.15865525393145707"
      ]
     },
     "execution_count": 39,
     "metadata": {},
     "output_type": "execute_result"
    }
   ],
   "source": [
    "norm.cdf(-1)"
   ]
  },
  {
   "cell_type": "markdown",
   "metadata": {
    "collapsed": true
   },
   "source": [
    "# Proofs and Derivations"
   ]
  },
  {
   "cell_type": "markdown",
   "metadata": {},
   "source": [
    "### Derivation of Expectation and Variance of Binomial Random Variable\n",
    "\n",
    "#### Expectation\n",
    "$E(Y) = \\mu = \\sum\\limits_{y} yp(y) = \\sum\\limits_{y=0}^{n} y\\binom{n}{y}p^y q^{n-y}$\n",
    "\n",
    "First term (y=0) is equal to zero. Also remember $\\binom{n}{y} = \\frac{n!}{y!(n-y)!}$\n",
    "\n",
    "$= \\sum\\limits_{y=1}^{n} y\\frac{n!}{y!(n-y)!}p^y q^{n-y} = \\sum\\limits_{y=1}^{n} \\frac{n!}{(y-1)!(n-y)!}p^y q^{n-y}$\n",
    "\n",
    "Factor out np and let z = y - 1.\n",
    "\n",
    "$ = np\\sum\\limits_{y=1}^{n} \\frac{(n-1)!}{(y-1)!(n-y)!}p^{y-1} q^{n-y} = np\\sum\\limits_{z=0}^{n-1} \\frac{(n-1)!}{z!(n-1-z)!}p^{z} q^{n-1-z} = np\\sum\\limits_{z=0}^{n-1} \\binom{n-1}{z}p^{z} q^{n-1-z}$\n",
    "\n",
    "$\\sum\\limits_{z}p(z) =\\sum\\limits_{z=0}^{n-1} \\binom{n-1}{z}p^{z} q^{n-1-z} = 1$ by definition of probability. So, $\\mu = E(Y) = np$\n",
    "\n",
    "#### Variance\n",
    "$V(Y) = \\sigma^2 = E(Y^2) - \\mu^2$\n",
    "\n",
    "$E(Y^2) = \\sum\\limits_{y=0}^{n}y^2p(y) = \\sum\\limits_{y=0}^{n} y^2\\binom{n}{y}p^y q^{n-y}$\n",
    "\n",
    "$y^2$ doesn't factor so instead see that...\n",
    "\n",
    "$E[Y(Y-1)] = E[Y^2 - Y] = E(Y^2) - E(Y)$\n",
    "\n",
    "Therefore:\n",
    "\n",
    "$E(Y^2) = E[Y(Y-1)] + \\mu$\n",
    "\n",
    "Substituting in then realizing first and second terms of sum equal zero...\n",
    "\n",
    "$E[Y(Y-1)] = \\sum\\limits_{y=0}^{n} y(y-1)\\frac{n!}{y!(n-y)!}p^{y} q^{n-y} = \\sum\\limits_{y=2}^{n} \\frac{n!}{(y-2)!(n-y)!}p^{y} q^{n-y}$ \n",
    "\n",
    "Factor out $n(n-1)p^2$ and let $z = y - 2:$\n",
    "\n",
    "$= n(n-1)p^2\\sum\\limits_{y=2}^{n} \\frac{(n-2)!}{(y-2)!(n-y)!}p^{y-2} q^{n-y} = n(n-1)p^2\\sum\\limits_{z=0}^{n-2} \\frac{(n-2)!}{z!(n-2-z)!}p^{z} q^{n-2-z}$\n",
    "\n",
    "Now we see that again the sum equals one and we are left with $E[Y(Y-1)] = n(n-1)p^2$. Plug this into the equation for $E(Y^2)$ from before.\n",
    "\n",
    "$E(Y^2) = E[Y(Y-1)] + \\mu = n(n-1)p^2 + np$\n",
    "\n",
    "So...\n",
    "\n",
    "$V(Y) = \\sigma^2 = E(Y^2) - \\mu^2 = n(n-1)p^2 + np - n^2p^2 = np[(n-1)p + 1 - np] = np(1-p) = npq$"
   ]
  },
  {
   "cell_type": "markdown",
   "metadata": {},
   "source": []
  },
  {
   "cell_type": "code",
   "execution_count": 25,
   "metadata": {
    "collapsed": false
   },
   "outputs": [
    {
     "name": "stdout",
     "output_type": "stream",
     "text": [
      "[ 0.  1.  2.  3.  4.]\n",
      "[ 0.10737418  0.26843546  0.30198989  0.20132659  0.08808038]\n"
     ]
    }
   ],
   "source": [
    "n, p = 10, 0.2\n",
    "x = np.arange(binom.ppf(0.01, n, p), binom.ppf(0.99, n, p))\n",
    "print(x)\n",
    "rv = binom(n, p)\n",
    "print(rv.pmf(x))"
   ]
  },
  {
   "cell_type": "code",
   "execution_count": 146,
   "metadata": {
    "collapsed": false
   },
   "outputs": [
    {
     "data": {
      "text/plain": [
       "<bokeh.models.renderers.GlyphRenderer at 0x112e83160>"
      ]
     },
     "execution_count": 146,
     "metadata": {},
     "output_type": "execute_result"
    }
   ],
   "source": [
    "chart1 = figure(title=\"PDF\", width=400, height=400)\n",
    "chart2 = figure(title=\"CDF\", width=400, height=400)\n",
    "\n",
    "n, p = 10, 0.5\n",
    "x = np.arange(binom.ppf(0.01, n, p), binom.ppf(0.99, n, p))\n",
    "rv = binom(n, p)\n",
    "\n",
    "source1 = ColumnDataSource(data=dict(x=x, y=rv.pmf(x)))\n",
    "source2 = ColumnDataSource(data=dict(x=x, y=rv.cdf(x)))\n",
    "\n",
    "chart1.scatter(source1.data[\"x\"],source1.data[\"y\"],source=source1,color=\"blue\", size=10)\n",
    "chart2.scatter(source2.data[\"x\"],source2.data[\"y\"],source=source2,color=\"red\", size=10)"
   ]
  },
  {
   "cell_type": "code",
   "execution_count": 143,
   "metadata": {
    "collapsed": true
   },
   "outputs": [],
   "source": [
    "def binomial_update(n,p):\n",
    "    x = np.arange(binom.ppf(0.01, n, p), binom.ppf(0.99, n, p))\n",
    "    rv = binom(n, p)\n",
    "    source1.data['x'] = x\n",
    "    source1.data['y'] = rv.pmf(x)\n",
    "    source2.data['x'] = x\n",
    "    source2.data['y'] = rv.cdf(x)\n",
    "    source.push_notebook()"
   ]
  },
  {
   "cell_type": "code",
   "execution_count": 144,
   "metadata": {
    "collapsed": false
   },
   "outputs": [
    {
     "data": {
      "text/html": [
       "\n",
       "\n",
       "    <div class=\"bk-root\">\n",
       "        <div class=\"plotdiv\" id=\"edc0f51d-f93d-4fbc-8058-b749363f2a66\"></div>\n",
       "    </div>\n",
       "<script type=\"text/javascript\">\n",
       "  \n",
       "  (function(global) {\n",
       "    function now() {\n",
       "      return new Date();\n",
       "    }\n",
       "  \n",
       "    if (typeof (window._bokeh_onload_callbacks) === \"undefined\") {\n",
       "      window._bokeh_onload_callbacks = [];\n",
       "    }\n",
       "  \n",
       "    function run_callbacks() {\n",
       "      window._bokeh_onload_callbacks.forEach(function(callback) { callback() });\n",
       "      delete window._bokeh_onload_callbacks\n",
       "      console.info(\"Bokeh: all callbacks have finished\");\n",
       "    }\n",
       "  \n",
       "    function load_libs(js_urls, callback) {\n",
       "      window._bokeh_onload_callbacks.push(callback);\n",
       "      if (window._bokeh_is_loading > 0) {\n",
       "        console.log(\"Bokeh: BokehJS is being loaded, scheduling callback at\", now());\n",
       "        return null;\n",
       "      }\n",
       "      if (js_urls == null || js_urls.length === 0) {\n",
       "        run_callbacks();\n",
       "        return null;\n",
       "      }\n",
       "      console.log(\"Bokeh: BokehJS not loaded, scheduling load and callback at\", now());\n",
       "      window._bokeh_is_loading = js_urls.length;\n",
       "      for (var i = 0; i < js_urls.length; i++) {\n",
       "        var url = js_urls[i];\n",
       "        var s = document.createElement('script');\n",
       "        s.src = url;\n",
       "        s.async = false;\n",
       "        s.onreadystatechange = s.onload = function() {\n",
       "          window._bokeh_is_loading--;\n",
       "          if (window._bokeh_is_loading === 0) {\n",
       "            console.log(\"Bokeh: all BokehJS libraries loaded\");\n",
       "            run_callbacks()\n",
       "          }\n",
       "        };\n",
       "        s.onerror = function() {\n",
       "          console.warn(\"failed to load library \" + url);\n",
       "        };\n",
       "        console.log(\"Bokeh: injecting script tag for BokehJS library: \", url);\n",
       "        document.getElementsByTagName(\"head\")[0].appendChild(s);\n",
       "      }\n",
       "    };var element = document.getElementById(\"edc0f51d-f93d-4fbc-8058-b749363f2a66\");\n",
       "    if (element == null) {\n",
       "      console.log(\"Bokeh: ERROR: autoload.js configured with elementid 'edc0f51d-f93d-4fbc-8058-b749363f2a66' but no matching script tag was found. \")\n",
       "      return false;\n",
       "    }\n",
       "  \n",
       "    var js_urls = [];\n",
       "  \n",
       "    var inline_js = [\n",
       "      function(Bokeh) {\n",
       "        Bokeh.$(function() {\n",
       "            var docs_json = {\"d4d72034-f693-42e3-b57f-72db7a61b354\":{\"roots\":{\"references\":[{\"attributes\":{},\"id\":\"d735d0fa-cf2a-4140-96f7-39d7eaeac85a\",\"type\":\"ToolEvents\"},{\"attributes\":{\"callback\":null},\"id\":\"ffc2854e-cc34-46be-bee8-9696f60cbac3\",\"type\":\"DataRange1d\"},{\"attributes\":{\"fill_alpha\":{\"value\":0.1},\"fill_color\":{\"value\":\"#1f77b4\"},\"line_alpha\":{\"value\":0.1},\"line_color\":{\"value\":\"#1f77b4\"},\"size\":{\"units\":\"screen\",\"value\":10},\"x\":{\"field\":\"x\"},\"y\":{\"field\":\"y\"}},\"id\":\"213d312e-a39d-4a48-b003-062b739c76c2\",\"type\":\"Circle\"},{\"attributes\":{\"dimension\":1,\"plot\":{\"id\":\"1eb76f10-4fd3-493c-ad36-6178518569d7\",\"subtype\":\"Figure\",\"type\":\"Plot\"},\"ticker\":{\"id\":\"2c94a22c-2a1e-48b3-8bc8-b5ef008c62cb\",\"type\":\"BasicTicker\"}},\"id\":\"7077bab3-636e-40bc-a4a9-5619e54cc763\",\"type\":\"Grid\"},{\"attributes\":{},\"id\":\"729f9189-92b5-452a-9b68-4095d1813fbc\",\"type\":\"BasicTicker\"},{\"attributes\":{\"plot\":{\"id\":\"1eb76f10-4fd3-493c-ad36-6178518569d7\",\"subtype\":\"Figure\",\"type\":\"Plot\"}},\"id\":\"7d5ca264-bb29-4921-b2ab-fe5e0c35c911\",\"type\":\"WheelZoomTool\"},{\"attributes\":{\"formatter\":{\"id\":\"209c0e8d-5fda-45f9-a064-39bb95c7e529\",\"type\":\"BasicTickFormatter\"},\"plot\":{\"id\":\"1eb76f10-4fd3-493c-ad36-6178518569d7\",\"subtype\":\"Figure\",\"type\":\"Plot\"},\"ticker\":{\"id\":\"2c94a22c-2a1e-48b3-8bc8-b5ef008c62cb\",\"type\":\"BasicTicker\"}},\"id\":\"c4ff28a2-b8f9-40b0-aec8-8e41b04e963e\",\"type\":\"LinearAxis\"},{\"attributes\":{\"formatter\":{\"id\":\"487ab799-54be-45df-808d-6253400ba7d9\",\"type\":\"BasicTickFormatter\"},\"plot\":{\"id\":\"1eb76f10-4fd3-493c-ad36-6178518569d7\",\"subtype\":\"Figure\",\"type\":\"Plot\"},\"ticker\":{\"id\":\"93e53e06-740d-45fa-9827-7b1bc23df419\",\"type\":\"BasicTicker\"}},\"id\":\"42c9ede7-13d9-4ffe-8364-ea45892c1e02\",\"type\":\"LinearAxis\"},{\"attributes\":{\"bottom_units\":\"screen\",\"fill_alpha\":{\"value\":0.5},\"fill_color\":{\"value\":\"lightgrey\"},\"left_units\":\"screen\",\"level\":\"overlay\",\"line_alpha\":{\"value\":1.0},\"line_color\":{\"value\":\"black\"},\"line_dash\":[4,4],\"line_width\":{\"value\":2},\"plot\":null,\"render_mode\":\"css\",\"right_units\":\"screen\",\"top_units\":\"screen\"},\"id\":\"96fd9a3e-881a-4d70-bdf1-9a8751654430\",\"type\":\"BoxAnnotation\"},{\"attributes\":{\"below\":[{\"id\":\"42c9ede7-13d9-4ffe-8364-ea45892c1e02\",\"type\":\"LinearAxis\"}],\"left\":[{\"id\":\"c4ff28a2-b8f9-40b0-aec8-8e41b04e963e\",\"type\":\"LinearAxis\"}],\"plot_height\":400,\"plot_width\":400,\"renderers\":[{\"id\":\"42c9ede7-13d9-4ffe-8364-ea45892c1e02\",\"type\":\"LinearAxis\"},{\"id\":\"9e7f0441-1522-4c26-acd0-f3ca8d0d9bbe\",\"type\":\"Grid\"},{\"id\":\"c4ff28a2-b8f9-40b0-aec8-8e41b04e963e\",\"type\":\"LinearAxis\"},{\"id\":\"7077bab3-636e-40bc-a4a9-5619e54cc763\",\"type\":\"Grid\"},{\"id\":\"42cc04ab-4786-45d9-bf81-30944d3ab9bc\",\"type\":\"BoxAnnotation\"},{\"id\":\"d6c9bddb-461c-47a8-809f-08ef452da042\",\"type\":\"GlyphRenderer\"}],\"title\":{\"id\":\"6db4642a-240e-4a98-9245-cb32b027e57a\",\"type\":\"Title\"},\"tool_events\":{\"id\":\"229b3df6-a0b0-4d8c-a7b8-0da5396f9cb0\",\"type\":\"ToolEvents\"},\"toolbar\":{\"id\":\"b9359336-f742-42e2-8374-85e716d75976\",\"type\":\"Toolbar\"},\"x_range\":{\"id\":\"53240110-15c1-4f17-a0da-7527bb929caa\",\"type\":\"DataRange1d\"},\"y_range\":{\"id\":\"ffc2854e-cc34-46be-bee8-9696f60cbac3\",\"type\":\"DataRange1d\"}},\"id\":\"1eb76f10-4fd3-493c-ad36-6178518569d7\",\"subtype\":\"Figure\",\"type\":\"Plot\"},{\"attributes\":{\"plot\":{\"id\":\"1eb76f10-4fd3-493c-ad36-6178518569d7\",\"subtype\":\"Figure\",\"type\":\"Plot\"}},\"id\":\"21d8c74f-16a8-404a-b3b6-9a85dbd25870\",\"type\":\"PanTool\"},{\"attributes\":{\"plot\":{\"id\":\"573f76d1-b94d-4ef7-8c78-cf3d33eff107\",\"subtype\":\"Figure\",\"type\":\"Plot\"}},\"id\":\"e616a5c8-5f3c-49ed-8b59-0568f1ba5b62\",\"type\":\"SaveTool\"},{\"attributes\":{\"overlay\":{\"id\":\"96fd9a3e-881a-4d70-bdf1-9a8751654430\",\"type\":\"BoxAnnotation\"},\"plot\":{\"id\":\"573f76d1-b94d-4ef7-8c78-cf3d33eff107\",\"subtype\":\"Figure\",\"type\":\"Plot\"}},\"id\":\"52500ab0-b536-4fda-b540-b0c73d2419a5\",\"type\":\"BoxZoomTool\"},{\"attributes\":{},\"id\":\"6891e459-4756-4f59-9dc0-001540eb0b6c\",\"type\":\"BasicTicker\"},{\"attributes\":{\"formatter\":{\"id\":\"73837bf2-532f-48e5-a433-99af291a074e\",\"type\":\"BasicTickFormatter\"},\"plot\":{\"id\":\"573f76d1-b94d-4ef7-8c78-cf3d33eff107\",\"subtype\":\"Figure\",\"type\":\"Plot\"},\"ticker\":{\"id\":\"729f9189-92b5-452a-9b68-4095d1813fbc\",\"type\":\"BasicTicker\"}},\"id\":\"0bb3bcc5-a157-44f4-a333-f5210699421e\",\"type\":\"LinearAxis\"},{\"attributes\":{\"overlay\":{\"id\":\"42cc04ab-4786-45d9-bf81-30944d3ab9bc\",\"type\":\"BoxAnnotation\"},\"plot\":{\"id\":\"1eb76f10-4fd3-493c-ad36-6178518569d7\",\"subtype\":\"Figure\",\"type\":\"Plot\"}},\"id\":\"d2fbec8b-4414-412a-bb89-88b5d727c895\",\"type\":\"BoxZoomTool\"},{\"attributes\":{\"plot\":null,\"text\":\"PDF\"},\"id\":\"10a82f2a-1709-4652-a588-3ca9b8279b43\",\"type\":\"Title\"},{\"attributes\":{\"callback\":null},\"id\":\"d4c49aa2-4313-4c90-9c75-787c43027ec4\",\"type\":\"DataRange1d\"},{\"attributes\":{},\"id\":\"229b3df6-a0b0-4d8c-a7b8-0da5396f9cb0\",\"type\":\"ToolEvents\"},{\"attributes\":{\"active_drag\":\"auto\",\"active_scroll\":\"auto\",\"active_tap\":\"auto\",\"tools\":[{\"id\":\"dff756bf-5f35-442b-9485-14d40a010d5e\",\"type\":\"PanTool\"},{\"id\":\"eb9605b7-7f30-40f4-8b5b-0fc02449b703\",\"type\":\"WheelZoomTool\"},{\"id\":\"52500ab0-b536-4fda-b540-b0c73d2419a5\",\"type\":\"BoxZoomTool\"},{\"id\":\"e616a5c8-5f3c-49ed-8b59-0568f1ba5b62\",\"type\":\"SaveTool\"},{\"id\":\"3f357572-3b66-4589-90b7-b5712201e4e5\",\"type\":\"ResetTool\"},{\"id\":\"82c0f125-1e39-4d1c-8933-044264800f60\",\"type\":\"HelpTool\"}]},\"id\":\"05b241b2-4e0c-4fd3-b550-157d1135e180\",\"type\":\"Toolbar\"},{\"attributes\":{\"plot\":{\"id\":\"573f76d1-b94d-4ef7-8c78-cf3d33eff107\",\"subtype\":\"Figure\",\"type\":\"Plot\"}},\"id\":\"3f357572-3b66-4589-90b7-b5712201e4e5\",\"type\":\"ResetTool\"},{\"attributes\":{\"fill_color\":{\"value\":\"blue\"},\"line_color\":{\"value\":\"blue\"},\"size\":{\"units\":\"screen\",\"value\":10},\"x\":{\"field\":\"x\"},\"y\":{\"field\":\"y\"}},\"id\":\"3fc266c7-794d-4f20-a737-9004b1c9a1ab\",\"type\":\"Circle\"},{\"attributes\":{\"plot\":{\"id\":\"1eb76f10-4fd3-493c-ad36-6178518569d7\",\"subtype\":\"Figure\",\"type\":\"Plot\"}},\"id\":\"8dfa5fa7-0e20-4c67-93fe-cfd1048c793c\",\"type\":\"ResetTool\"},{\"attributes\":{\"plot\":{\"id\":\"1eb76f10-4fd3-493c-ad36-6178518569d7\",\"subtype\":\"Figure\",\"type\":\"Plot\"}},\"id\":\"09d8ecca-f2ce-4e59-bcbf-2121b8e756cf\",\"type\":\"HelpTool\"},{\"attributes\":{\"active_drag\":\"auto\",\"active_scroll\":\"auto\",\"active_tap\":\"auto\",\"tools\":[{\"id\":\"21d8c74f-16a8-404a-b3b6-9a85dbd25870\",\"type\":\"PanTool\"},{\"id\":\"7d5ca264-bb29-4921-b2ab-fe5e0c35c911\",\"type\":\"WheelZoomTool\"},{\"id\":\"d2fbec8b-4414-412a-bb89-88b5d727c895\",\"type\":\"BoxZoomTool\"},{\"id\":\"c0c1e6d7-2cea-474b-9103-26f44cd4106b\",\"type\":\"SaveTool\"},{\"id\":\"8dfa5fa7-0e20-4c67-93fe-cfd1048c793c\",\"type\":\"ResetTool\"},{\"id\":\"09d8ecca-f2ce-4e59-bcbf-2121b8e756cf\",\"type\":\"HelpTool\"}]},\"id\":\"b9359336-f742-42e2-8374-85e716d75976\",\"type\":\"Toolbar\"},{\"attributes\":{\"callback\":null,\"column_names\":[\"x\",\"y\",\"x\",\"y\"],\"data\":{\"x\":[1.0,2.0,3.0,4.0,5.0,6.0,7.0,8.0],\"y\":[0.00976562500000001,0.04394531249999999,0.11718750000000014,0.20507812500000022,0.24609375000000025,0.20507812500000022,0.11718750000000014,0.04394531249999999]}},\"id\":\"2b1bd256-6e7d-49b0-9287-a205087536dd\",\"type\":\"ColumnDataSource\"},{\"attributes\":{\"fill_color\":{\"value\":\"blue\"},\"line_color\":{\"value\":\"blue\"},\"size\":{\"units\":\"screen\",\"value\":10},\"x\":{\"field\":\"x\"},\"y\":{\"field\":\"y\"}},\"id\":\"48c30dcb-c215-4b8f-ac03-895bb0290df9\",\"type\":\"Circle\"},{\"attributes\":{},\"id\":\"38319adf-e0c3-4fc4-801a-514500607ec1\",\"type\":\"BasicTickFormatter\"},{\"attributes\":{\"plot\":{\"id\":\"1eb76f10-4fd3-493c-ad36-6178518569d7\",\"subtype\":\"Figure\",\"type\":\"Plot\"}},\"id\":\"c0c1e6d7-2cea-474b-9103-26f44cd4106b\",\"type\":\"SaveTool\"},{\"attributes\":{},\"id\":\"209c0e8d-5fda-45f9-a064-39bb95c7e529\",\"type\":\"BasicTickFormatter\"},{\"attributes\":{\"plot\":{\"id\":\"1eb76f10-4fd3-493c-ad36-6178518569d7\",\"subtype\":\"Figure\",\"type\":\"Plot\"},\"ticker\":{\"id\":\"93e53e06-740d-45fa-9827-7b1bc23df419\",\"type\":\"BasicTicker\"}},\"id\":\"9e7f0441-1522-4c26-acd0-f3ca8d0d9bbe\",\"type\":\"Grid\"},{\"attributes\":{\"formatter\":{\"id\":\"38319adf-e0c3-4fc4-801a-514500607ec1\",\"type\":\"BasicTickFormatter\"},\"plot\":{\"id\":\"573f76d1-b94d-4ef7-8c78-cf3d33eff107\",\"subtype\":\"Figure\",\"type\":\"Plot\"},\"ticker\":{\"id\":\"6891e459-4756-4f59-9dc0-001540eb0b6c\",\"type\":\"BasicTicker\"}},\"id\":\"1143087c-8e27-4943-9aad-1f297d104a7a\",\"type\":\"LinearAxis\"},{\"attributes\":{\"plot\":{\"id\":\"573f76d1-b94d-4ef7-8c78-cf3d33eff107\",\"subtype\":\"Figure\",\"type\":\"Plot\"}},\"id\":\"eb9605b7-7f30-40f4-8b5b-0fc02449b703\",\"type\":\"WheelZoomTool\"},{\"attributes\":{\"plot\":{\"id\":\"573f76d1-b94d-4ef7-8c78-cf3d33eff107\",\"subtype\":\"Figure\",\"type\":\"Plot\"}},\"id\":\"82c0f125-1e39-4d1c-8933-044264800f60\",\"type\":\"HelpTool\"},{\"attributes\":{},\"id\":\"2c94a22c-2a1e-48b3-8bc8-b5ef008c62cb\",\"type\":\"BasicTicker\"},{\"attributes\":{\"bottom_units\":\"screen\",\"fill_alpha\":{\"value\":0.5},\"fill_color\":{\"value\":\"lightgrey\"},\"left_units\":\"screen\",\"level\":\"overlay\",\"line_alpha\":{\"value\":1.0},\"line_color\":{\"value\":\"black\"},\"line_dash\":[4,4],\"line_width\":{\"value\":2},\"plot\":null,\"render_mode\":\"css\",\"right_units\":\"screen\",\"top_units\":\"screen\"},\"id\":\"42cc04ab-4786-45d9-bf81-30944d3ab9bc\",\"type\":\"BoxAnnotation\"},{\"attributes\":{\"plot\":{\"id\":\"573f76d1-b94d-4ef7-8c78-cf3d33eff107\",\"subtype\":\"Figure\",\"type\":\"Plot\"},\"ticker\":{\"id\":\"729f9189-92b5-452a-9b68-4095d1813fbc\",\"type\":\"BasicTicker\"}},\"id\":\"3f5ff4b9-c672-463d-b74d-b7332fb07b97\",\"type\":\"Grid\"},{\"attributes\":{},\"id\":\"93e53e06-740d-45fa-9827-7b1bc23df419\",\"type\":\"BasicTicker\"},{\"attributes\":{\"data_source\":{\"id\":\"824b45de-6304-453c-9428-a422e79e7121\",\"type\":\"ColumnDataSource\"},\"glyph\":{\"id\":\"48c30dcb-c215-4b8f-ac03-895bb0290df9\",\"type\":\"Circle\"},\"hover_glyph\":null,\"nonselection_glyph\":{\"id\":\"213d312e-a39d-4a48-b003-062b739c76c2\",\"type\":\"Circle\"},\"selection_glyph\":null},\"id\":\"d6c9bddb-461c-47a8-809f-08ef452da042\",\"type\":\"GlyphRenderer\"},{\"attributes\":{\"below\":[{\"id\":\"0bb3bcc5-a157-44f4-a333-f5210699421e\",\"type\":\"LinearAxis\"}],\"left\":[{\"id\":\"1143087c-8e27-4943-9aad-1f297d104a7a\",\"type\":\"LinearAxis\"}],\"plot_height\":400,\"plot_width\":400,\"renderers\":[{\"id\":\"0bb3bcc5-a157-44f4-a333-f5210699421e\",\"type\":\"LinearAxis\"},{\"id\":\"3f5ff4b9-c672-463d-b74d-b7332fb07b97\",\"type\":\"Grid\"},{\"id\":\"1143087c-8e27-4943-9aad-1f297d104a7a\",\"type\":\"LinearAxis\"},{\"id\":\"2c435e94-6d55-4695-a13b-f4215e2573e2\",\"type\":\"Grid\"},{\"id\":\"96fd9a3e-881a-4d70-bdf1-9a8751654430\",\"type\":\"BoxAnnotation\"},{\"id\":\"0c18100d-208f-4be9-a7db-8f5f9f146603\",\"type\":\"GlyphRenderer\"}],\"title\":{\"id\":\"10a82f2a-1709-4652-a588-3ca9b8279b43\",\"type\":\"Title\"},\"tool_events\":{\"id\":\"d735d0fa-cf2a-4140-96f7-39d7eaeac85a\",\"type\":\"ToolEvents\"},\"toolbar\":{\"id\":\"05b241b2-4e0c-4fd3-b550-157d1135e180\",\"type\":\"Toolbar\"},\"x_range\":{\"id\":\"d4c49aa2-4313-4c90-9c75-787c43027ec4\",\"type\":\"DataRange1d\"},\"y_range\":{\"id\":\"6e71c5dc-d38d-4a98-af2a-452424b0f984\",\"type\":\"DataRange1d\"}},\"id\":\"573f76d1-b94d-4ef7-8c78-cf3d33eff107\",\"subtype\":\"Figure\",\"type\":\"Plot\"},{\"attributes\":{\"callback\":null},\"id\":\"53240110-15c1-4f17-a0da-7527bb929caa\",\"type\":\"DataRange1d\"},{\"attributes\":{\"dimension\":1,\"plot\":{\"id\":\"573f76d1-b94d-4ef7-8c78-cf3d33eff107\",\"subtype\":\"Figure\",\"type\":\"Plot\"},\"ticker\":{\"id\":\"6891e459-4756-4f59-9dc0-001540eb0b6c\",\"type\":\"BasicTicker\"}},\"id\":\"2c435e94-6d55-4695-a13b-f4215e2573e2\",\"type\":\"Grid\"},{\"attributes\":{\"plot\":null,\"text\":\"CDF\"},\"id\":\"6db4642a-240e-4a98-9245-cb32b027e57a\",\"type\":\"Title\"},{\"attributes\":{\"children\":[{\"id\":\"573f76d1-b94d-4ef7-8c78-cf3d33eff107\",\"subtype\":\"Figure\",\"type\":\"Plot\"},{\"id\":\"1eb76f10-4fd3-493c-ad36-6178518569d7\",\"subtype\":\"Figure\",\"type\":\"Plot\"}]},\"id\":\"b120d818-9efc-4791-9cd5-c9e67d205e2f\",\"type\":\"Row\"},{\"attributes\":{\"fill_alpha\":{\"value\":0.1},\"fill_color\":{\"value\":\"#1f77b4\"},\"line_alpha\":{\"value\":0.1},\"line_color\":{\"value\":\"#1f77b4\"},\"size\":{\"units\":\"screen\",\"value\":10},\"x\":{\"field\":\"x\"},\"y\":{\"field\":\"y\"}},\"id\":\"14b6b167-09ee-40b7-81ab-cd8b1defd788\",\"type\":\"Circle\"},{\"attributes\":{\"callback\":null,\"column_names\":[\"x\",\"y\",\"x\",\"y\"],\"data\":{\"x\":[1.0,2.0,3.0,4.0,5.0,6.0,7.0,8.0],\"y\":[0.010742187499999998,0.054687500000000014,0.17187499999999994,0.3769531250000001,0.6230468749999999,0.828125,0.9453125,0.9892578125]}},\"id\":\"824b45de-6304-453c-9428-a422e79e7121\",\"type\":\"ColumnDataSource\"},{\"attributes\":{\"callback\":null},\"id\":\"6e71c5dc-d38d-4a98-af2a-452424b0f984\",\"type\":\"DataRange1d\"},{\"attributes\":{\"data_source\":{\"id\":\"2b1bd256-6e7d-49b0-9287-a205087536dd\",\"type\":\"ColumnDataSource\"},\"glyph\":{\"id\":\"3fc266c7-794d-4f20-a737-9004b1c9a1ab\",\"type\":\"Circle\"},\"hover_glyph\":null,\"nonselection_glyph\":{\"id\":\"14b6b167-09ee-40b7-81ab-cd8b1defd788\",\"type\":\"Circle\"},\"selection_glyph\":null},\"id\":\"0c18100d-208f-4be9-a7db-8f5f9f146603\",\"type\":\"GlyphRenderer\"},{\"attributes\":{\"plot\":{\"id\":\"573f76d1-b94d-4ef7-8c78-cf3d33eff107\",\"subtype\":\"Figure\",\"type\":\"Plot\"}},\"id\":\"dff756bf-5f35-442b-9485-14d40a010d5e\",\"type\":\"PanTool\"},{\"attributes\":{},\"id\":\"73837bf2-532f-48e5-a433-99af291a074e\",\"type\":\"BasicTickFormatter\"},{\"attributes\":{},\"id\":\"487ab799-54be-45df-808d-6253400ba7d9\",\"type\":\"BasicTickFormatter\"}],\"root_ids\":[\"b120d818-9efc-4791-9cd5-c9e67d205e2f\"]},\"title\":\"Bokeh Application\",\"version\":\"0.12.0\"}};\n",
       "            var render_items = [{\"docid\":\"d4d72034-f693-42e3-b57f-72db7a61b354\",\"elementid\":\"edc0f51d-f93d-4fbc-8058-b749363f2a66\",\"modelid\":\"b120d818-9efc-4791-9cd5-c9e67d205e2f\",\"notebook_comms_target\":\"a49cd846-97d9-4e7d-808b-6c3654e894b1\"}];\n",
       "            \n",
       "            Bokeh.embed.embed_items(docs_json, render_items);\n",
       "        });\n",
       "      },\n",
       "      function(Bokeh) {\n",
       "      }\n",
       "    ];\n",
       "  \n",
       "    function run_inline_js() {\n",
       "      for (var i = 0; i < inline_js.length; i++) {\n",
       "        inline_js[i](window.Bokeh);\n",
       "      }\n",
       "    }\n",
       "  \n",
       "    if (window._bokeh_is_loading === 0) {\n",
       "      console.log(\"Bokeh: BokehJS loaded, going straight to plotting\");\n",
       "      run_inline_js();\n",
       "    } else {\n",
       "      load_libs(js_urls, function() {\n",
       "        console.log(\"Bokeh: BokehJS plotting callback run at\", now());\n",
       "        run_inline_js();\n",
       "      });\n",
       "    }\n",
       "  }(this));\n",
       "</script>"
      ]
     },
     "metadata": {},
     "output_type": "display_data"
    },
    {
     "data": {
      "text/html": [
       "<p><code>&lt;Bokeh Notebook handle for <strong>In[144]</strong>&gt;</code></p>"
      ],
      "text/plain": [
       "<bokeh.io._CommsHandle at 0x10c5a5ef0>"
      ]
     },
     "execution_count": 144,
     "metadata": {},
     "output_type": "execute_result"
    }
   ],
   "source": [
    "show(row(chart1, chart2))"
   ]
  },
  {
   "cell_type": "code",
   "execution_count": 145,
   "metadata": {
    "collapsed": false
   },
   "outputs": [
    {
     "name": "stderr",
     "output_type": "stream",
     "text": [
      "/usr/local/lib/python3.5/site-packages/ipykernel/__main__.py:8: BokehDeprecationWarning: bokeh.models.sources.push_notebook was deprecated in Bokeh 0.11.0; please use bokeh.io.push_notebook instead\n"
     ]
    },
    {
     "data": {
      "text/plain": [
       "<function __main__.binomial_update>"
      ]
     },
     "execution_count": 145,
     "metadata": {},
     "output_type": "execute_result"
    }
   ],
   "source": [
    "interact(binomial_update, n=(1,100,5),p=(0.1,1,.01))"
   ]
  },
  {
   "cell_type": "code",
   "execution_count": null,
   "metadata": {
    "collapsed": true
   },
   "outputs": [],
   "source": []
  },
  {
   "cell_type": "code",
   "execution_count": null,
   "metadata": {
    "collapsed": true
   },
   "outputs": [],
   "source": []
  }
 ],
 "metadata": {
  "kernelspec": {
   "display_name": "Python 3",
   "language": "python",
   "name": "python3"
  },
  "language_info": {
   "codemirror_mode": {
    "name": "ipython",
    "version": 3
   },
   "file_extension": ".py",
   "mimetype": "text/x-python",
   "name": "python",
   "nbconvert_exporter": "python",
   "pygments_lexer": "ipython3",
   "version": "3.5.1"
  },
  "widgets": {
   "state": {
    "1a3955e630c94382b600ad3b13cbcda0": {
     "views": []
    },
    "23d50b0984d84b65962611c49b90144e": {
     "views": []
    },
    "64bf5fc5dc494a5187ba8caa6532bd3b": {
     "views": []
    },
    "8ad843970f9f4f759f120b8ddd721767": {
     "views": [
      {
       "cell_index": 9
      }
     ]
    },
    "9a1c2195190e46399b07a034f6de189e": {
     "views": []
    },
    "fe975ef9cef343d9bdea89a66caa8af4": {
     "views": []
    }
   },
   "version": "1.1.2"
  }
 },
 "nbformat": 4,
 "nbformat_minor": 0
}
