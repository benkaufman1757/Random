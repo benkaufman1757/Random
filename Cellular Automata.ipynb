{
 "cells": [
  {
   "cell_type": "code",
   "execution_count": 10,
   "metadata": {
    "collapsed": true
   },
   "outputs": [],
   "source": [
    "from random import randint"
   ]
  },
  {
   "cell_type": "code",
   "execution_count": 83,
   "metadata": {
    "collapsed": true
   },
   "outputs": [],
   "source": [
    "from matplotlib import pyplot as plt\n",
    "%matplotlib inline\n",
    "import numpy as np"
   ]
  },
  {
   "cell_type": "code",
   "execution_count": 47,
   "metadata": {
    "collapsed": true
   },
   "outputs": [],
   "source": [
    "class Car:\n",
    "    def __init__(self,velocity,vmax):\n",
    "        self.velocity = velocity\n",
    "        self.vmax = vmax\n",
    "        \n",
    "    def __str__(self):\n",
    "        return \"Velocity: {0}, Vmax: {1}\".format(self.velocity,self.vmax)\n",
    "    def __repr__(self):\n",
    "        return \"Velocity: {0}, Vmax: {1}\".format(self.velocity,self.vmax)\n",
    "    def increaseVelocity(self):\n",
    "        self.velocity += 1\n",
    "    def decreaseVelocity(self):\n",
    "        self.velocity -= 1    "
   ]
  },
  {
   "cell_type": "code",
   "execution_count": 8,
   "metadata": {
    "collapsed": true
   },
   "outputs": [],
   "source": [
    "x = Car(2,3)"
   ]
  },
  {
   "cell_type": "code",
   "execution_count": 9,
   "metadata": {},
   "outputs": [
    {
     "data": {
      "text/plain": [
       "Velocity: 2, Vmax: 3"
      ]
     },
     "execution_count": 9,
     "metadata": {},
     "output_type": "execute_result"
    }
   ],
   "source": [
    "x"
   ]
  },
  {
   "cell_type": "code",
   "execution_count": 15,
   "metadata": {},
   "outputs": [
    {
     "data": {
      "text/plain": [
       "4"
      ]
     },
     "execution_count": 15,
     "metadata": {},
     "output_type": "execute_result"
    }
   ],
   "source": [
    "vmax = randint(55,75)"
   ]
  },
  {
   "cell_type": "code",
   "execution_count": 155,
   "metadata": {
    "collapsed": true
   },
   "outputs": [],
   "source": [
    "num_cars = 10\n",
    "cars = []\n",
    "\n",
    "for x in range(0,num_cars):\n",
    "    vmax = randint(55,75)\n",
    "    velocity = randint(45,vmax)\n",
    "    cars.append(Car(velocity, vmax))"
   ]
  },
  {
   "cell_type": "code",
   "execution_count": 156,
   "metadata": {},
   "outputs": [],
   "source": [
    "locations = []\n",
    "curr_location = 0\n",
    "for ix, car in enumerate(cars):\n",
    "    locations.append(curr_location)\n",
    "    curr_location += randint(car.vmax,car.vmax+50)"
   ]
  },
  {
   "cell_type": "code",
   "execution_count": 157,
   "metadata": {},
   "outputs": [],
   "source": [
    "cars_and_locs = list(zip(cars,locations))\n",
    "cars_and_locs = [list(a) for a in cars_and_locs]"
   ]
  },
  {
   "cell_type": "code",
   "execution_count": 158,
   "metadata": {},
   "outputs": [],
   "source": [
    "num_steps = 1000000\n",
    "magic_num = 57 # 1% chance\n",
    "avgvs = []\n",
    "for _ in range(0,num_steps):  # each time step\n",
    "    for ix, (car, loc) in enumerate(cars_and_locs):\n",
    "        if car.velocity < car.vmax:\n",
    "            if ix == num_cars - 1:\n",
    "                car.increaseVelocity()\n",
    "            else:\n",
    "                if loc + car.velocity < cars_and_locs[ix+1][1]:\n",
    "                    car.increaseVelocity()\n",
    "    temp = []\n",
    "    for ix, (car, loc) in enumerate(cars_and_locs):\n",
    "        if randint(0,100) == magic_num:\n",
    "            cars_and_locs[ix][0].decreaseVelocity()\n",
    "        cars_and_locs[ix][1] += car.velocity\n",
    "        temp.append(car.velocity)\n",
    "        \n",
    "    avgvs.append(sum(temp))"
   ]
  },
  {
   "cell_type": "code",
   "execution_count": 159,
   "metadata": {
    "collapsed": true
   },
   "outputs": [],
   "source": [
    "vmaxs = [car.velocity for car, loc in cars_and_locs]"
   ]
  },
  {
   "cell_type": "code",
   "execution_count": 160,
   "metadata": {},
   "outputs": [],
   "source": [
    "curr_min = vmaxs[-1]\n",
    "for ix, v in enumerate(reversed(vmaxs)):\n",
    "    if ix < len(vmaxs)-1:\n",
    "        if vmaxs[ix+1] > curr_min:\n",
    "            vmaxs[ix+1] = curr_min\n",
    "        else: \n",
    "            curr_min = vmaxs[ix+1]"
   ]
  },
  {
   "cell_type": "code",
   "execution_count": 161,
   "metadata": {},
   "outputs": [
    {
     "data": {
      "text/plain": [
       "<matplotlib.legend.Legend at 0x1130505c0>"
      ]
     },
     "execution_count": 161,
     "metadata": {},
     "output_type": "execute_result"
    },
    {
     "data": {
      "image/png": "[encoded data removed]",
      "text/plain": [
       "<matplotlib.figure.Figure at 0x1092c0278>"
      ]
     },
     "metadata": {},
     "output_type": "display_data"
    }
   ],
   "source": [
    "plt.plot(range(0,num_steps),avgvs, label=\"actual sum of velocities\")\n",
    "plt.plot(range(0,num_steps),[sum([car.vmax for car, loc in cars_and_locs])]*num_steps, label=\"max sum of velocities\")\n",
    "plt.plot(range(0,num_steps),[sum(vmaxs)]*num_steps, label=\"actual max sum of velocities\")\n",
    "\n",
    "plt.ylabel(\"total sum of velocities\")\n",
    "plt.xlabel(\"time step\")\n",
    "plt.legend()"
   ]
  },
  {
   "cell_type": "code",
   "execution_count": null,
   "metadata": {
    "collapsed": true
   },
   "outputs": [],
   "source": []
  }
 ],
 "metadata": {
  "kernelspec": {
   "display_name": "Python 3",
   "language": "python",
   "name": "python3"
  },
  "language_info": {
   "codemirror_mode": {
    "name": "ipython",
    "version": 3
   },
   "file_extension": ".py",
   "mimetype": "text/x-python",
   "name": "python",
   "nbconvert_exporter": "python",
   "pygments_lexer": "ipython3",
   "version": "3.6.2"
  }
 },
 "nbformat": 4,
 "nbformat_minor": 2
}
