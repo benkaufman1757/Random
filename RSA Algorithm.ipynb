{
 "cells": [
  {
   "cell_type": "markdown",
   "metadata": {},
   "source": [
    "# RSA Algorithm\n",
    "\n",
    "This is my implementation of the RSA algorithm. I didn't see any python code for it so I made some. Watch the Khan Academy series for an explanation of the algorithm. Or this video is super helpful as well.\n",
    "If there is something wrong with it please message me."
   ]
  },
  {
   "cell_type": "code",
   "execution_count": 130,
   "metadata": {
    "collapsed": false
   },
   "outputs": [],
   "source": [
    "# How to encrypt a message (general form)\n",
    "# m^e mod n = c\n",
    "\n",
    "# How to decrypt a message (general form)\n",
    "# c^d mod n = m\n",
    "\n",
    "message = 69  # we cannot let the teacher see this message"
   ]
  },
  {
   "cell_type": "code",
   "execution_count": 131,
   "metadata": {
    "collapsed": true
   },
   "outputs": [],
   "source": [
    "# Encrypt a message \n",
    "def encrypt(m, e, n):\n",
    "    return (m**e) % n"
   ]
  },
  {
   "cell_type": "code",
   "execution_count": 132,
   "metadata": {
    "collapsed": true
   },
   "outputs": [],
   "source": [
    "# A function which gets the greatest common divisor\n",
    "# of 2 numbers (a,b)\n",
    "def getGCD(a, b):\n",
    "    return a if (b==0) else getGCD(b,a%b)"
   ]
  },
  {
   "cell_type": "code",
   "execution_count": 133,
   "metadata": {
    "collapsed": false
   },
   "outputs": [],
   "source": [
    "import random\n",
    "\n",
    "# Calculates the e value for the public key\n",
    "# the definition of e is that e must share\n",
    "# no factors with phi except 1 and must be\n",
    "# in the range 2 < e < phi(n)\n",
    "def calculateE(phi):\n",
    "    testVar = random.randint(3, phi)\n",
    "    if (getGCD(phi, testVar) == 1):\n",
    "        return testVar\n",
    "    else:\n",
    "        return calculateE(phi)"
   ]
  },
  {
   "cell_type": "code",
   "execution_count": 134,
   "metadata": {
    "collapsed": true
   },
   "outputs": [],
   "source": [
    "# Calculates the value of d (private key)\n",
    "# My implementation of the Extended Euclidean Algorithm\n",
    "def calculateD(phi, e):\n",
    "    def calculateD_helper(a,b,c,d,prev_c=None):\n",
    "        if(b==1):\n",
    "            return d\n",
    "        else:\n",
    "            mult = int(a/b)\n",
    "            new_d = c - (d*mult) if (c > d) else (c-d) + prev_c\n",
    "            return calculateD_helper(b, a-(b*mult),d,new_d,prev_c=c)\n",
    "    \n",
    "    return calculateD_helper(phi, e, phi, 1)"
   ]
  },
  {
   "cell_type": "code",
   "execution_count": 135,
   "metadata": {
    "collapsed": false
   },
   "outputs": [],
   "source": [
    "# Decrypt an encrypted message\n",
    "def decrypt(c, d, n):\n",
    "    return (c**d) % n"
   ]
  },
  {
   "cell_type": "code",
   "execution_count": 136,
   "metadata": {
    "collapsed": false
   },
   "outputs": [],
   "source": [
    "# PUTTING IT ALL TOGETHER #\n",
    "\n",
    "# The Secret Sauce #\n",
    "# p and q are supposed to be strong primes\n",
    "# but in this case we don't really care\n",
    "p = 61\n",
    "q = 53\n",
    "phi = (p-1)*(q-1)\n",
    "####################\n",
    "\n",
    "### Public Key ###\n",
    "# Anyone can see n and e, they use these numbers to encrypt their message\n",
    "# All other variables (p,q,phi,d) are not visible to anyone but the person that recieves the message\n",
    "# Commonly referred to as the padlock\n",
    "n = p * q\n",
    "e = 17 #calculateE(phi)\n",
    "##################\n",
    "\n",
    "### Private Key ###\n",
    "# Only we can calculate d because we have e and phi\n",
    "d = calculateD(phi, e)\n",
    "###################"
   ]
  },
  {
   "cell_type": "code",
   "execution_count": 137,
   "metadata": {
    "collapsed": false
   },
   "outputs": [
    {
     "name": "stdout",
     "output_type": "stream",
     "text": [
      "69\n"
     ]
    }
   ],
   "source": [
    "# !IMPORTANT! #\n",
    "# In this case it can matter, message < n #\n",
    "message = 69\n",
    "print(message)"
   ]
  },
  {
   "cell_type": "code",
   "execution_count": 138,
   "metadata": {
    "collapsed": false
   },
   "outputs": [
    {
     "name": "stdout",
     "output_type": "stream",
     "text": [
      "28\n"
     ]
    }
   ],
   "source": [
    "# Encrypt the message 8008135\n",
    "encrypted_message = encrypt(message, e, n)\n",
    "print(encrypted_message)"
   ]
  },
  {
   "cell_type": "code",
   "execution_count": 139,
   "metadata": {
    "collapsed": false
   },
   "outputs": [
    {
     "name": "stdout",
     "output_type": "stream",
     "text": [
      "69\n"
     ]
    }
   ],
   "source": [
    "# Decrypt an encrypted message with d\n",
    "decrypted_message = decrypt(encrypted_message, d, n)\n",
    "print(decrypted_message)\n",
    "# TADA! #"
   ]
  },
  {
   "cell_type": "code",
   "execution_count": 140,
   "metadata": {
    "collapsed": false
   },
   "outputs": [],
   "source": [
    "# I am not sure how to properly encrypt a sentence or something but here is a bad way\n",
    "# I'll look into this in the future...\n",
    "# encrypted_message = [encrypt(x, e, n) for x in map(ord, message)]\n",
    "# decrypted_message = \"\".join([chr(decrypt(x, phi, e, n)) for x in encrypted_message])"
   ]
  },
  {
   "cell_type": "code",
   "execution_count": 141,
   "metadata": {
    "collapsed": false
   },
   "outputs": [],
   "source": [
    "import math\n",
    "\n",
    "# How to solve RSA algorithm\n",
    "# Find prime factors of n... not easy for large n\n",
    "def getPrimeFactors(n):\n",
    "    # Very simple check if a number is prime\n",
    "    def isprime(x):\n",
    "        if x != 2 and x % 2 == 0:\n",
    "            return False\n",
    "        for i in list(range(3, int(math.sqrt(x)+1)))[::2]:\n",
    "            if x % i == 0:\n",
    "                return False\n",
    "        else:\n",
    "            return True\n",
    "    \n",
    "    # get list of all factors\n",
    "    # find a pair of primes\n",
    "    for x in list(range(2,int(n/2)+1)):\n",
    "        if (n % x == 0):\n",
    "            if (isprime(x) and isprime(n/x)):\n",
    "                return x, n/x"
   ]
  },
  {
   "cell_type": "code",
   "execution_count": 142,
   "metadata": {
    "collapsed": false
   },
   "outputs": [
    {
     "data": {
      "text/plain": [
       "(53, 61.0)"
      ]
     },
     "execution_count": 142,
     "metadata": {},
     "output_type": "execute_result"
    }
   ],
   "source": [
    "# Get the prime factors of n, don't try this on large n\n",
    "getPrimeFactors(n)"
   ]
  },
  {
   "cell_type": "code",
   "execution_count": 143,
   "metadata": {
    "collapsed": false
   },
   "outputs": [],
   "source": [
    "# Hooray we found p and q! #"
   ]
  },
  {
   "cell_type": "markdown",
   "metadata": {
    "collapsed": false
   },
   "source": [
    "## The Seive of Eratosthenes\n",
    "#### Steps\n",
    "* Generate a list of numbers from 1 to some number (n)\n",
    "* Initially, all numbers in the list are unmarked\n",
    "* Starting at 2 and then for every element in the list mark every multiple of every number you iterate over (marking it twice does not negate it)\n",
    "* Do this for every number up to and including the square root of n\n",
    "* All unmarked numbers [2,n] are prime numbers\n",
    "\n",
    "#### Example of completed sieve for numbers up to 100\n",
    "<img src=\"files/data/sieve_100.png\">"
   ]
  },
  {
   "cell_type": "code",
   "execution_count": 144,
   "metadata": {
    "collapsed": false
   },
   "outputs": [],
   "source": [
    "# Get list of prime numbers up to n \n",
    "def sieveOfEratosthenes(n, numbers=[], count=0):\n",
    "    if numbers == []:\n",
    "        numbers = list(range(2,n))  # math.floor(math.sqrt(n))\n",
    "    if math.floor(math.sqrt(n)) < numbers[count]:\n",
    "        return numbers[:count+1] + list(filter(lambda x: x % numbers[count] != 0,numbers[count:]))\n",
    "    else:\n",
    "        new_nums = numbers[:count+1] + list(filter(lambda x: x % numbers[count] != 0,numbers[count:]))\n",
    "        return sieveOfEratosthenes(n, new_nums, count+1)    "
   ]
  },
  {
   "cell_type": "code",
   "execution_count": 145,
   "metadata": {
    "collapsed": false
   },
   "outputs": [
    {
     "name": "stdout",
     "output_type": "stream",
     "text": [
      "Number of prime numbers below number: 25\n",
      "[2, 3, 5, 7, 11, 13, 17, 19, 23, 29, 31, 37, 41, 43, 47, 53, 59, 61, 67, 71, 73, 79, 83, 89, 97]\n"
     ]
    }
   ],
   "source": [
    "test = sieveOfEratosthenes(100)\n",
    "print(\"Number of prime numbers below number: \" + str(len(test)))\n",
    "print(test)"
   ]
  },
  {
   "cell_type": "code",
   "execution_count": 146,
   "metadata": {
    "collapsed": false
   },
   "outputs": [
    {
     "data": {
      "text/plain": [
       "True"
      ]
     },
     "execution_count": 146,
     "metadata": {},
     "output_type": "execute_result"
    }
   ],
   "source": [
    "# Given a number to test (n) this will give you\n",
    "# the fastest time to make sure you have a prime number\n",
    "# the prime list should be all primes from 2 to n \n",
    "# (not good unless you can store all of that and may use it multiple times)\n",
    "def isPrimeFromList(n, prime_list):\n",
    "    for prime in prime_list:\n",
    "        if n % prime == 0:\n",
    "            return False\n",
    "    return True\n",
    "\n",
    "num = 101\n",
    "isPrimeFromList(num, sieveOfEratosthenes(int(math.sqrt(num))))"
   ]
  },
  {
   "cell_type": "markdown",
   "metadata": {},
   "source": [
    "## Fast Modular Exponentiation"
   ]
  },
  {
   "cell_type": "code",
   "execution_count": 147,
   "metadata": {
    "collapsed": true
   },
   "outputs": [],
   "source": [
    "from functools import reduce  # scala plz\n",
    "\n",
    "# used for understanding, just use the unbounded ** python operator\n",
    "def fastModularExponentiation(base, exponent, modulus):\n",
    "    # form of base^(exponent) mod modulus\n",
    "    powers_of_2 = []\n",
    "    for ix, bit in enumerate(list(reversed(bin(exponent)[2:]))):\n",
    "        if bit == '1':\n",
    "            powers_of_2.append((base**(2**(ix)))%modulus)\n",
    "    \n",
    "    return reduce(lambda x,y: x*y, powers_of_2, 1) % modulus\n"
   ]
  },
  {
   "cell_type": "code",
   "execution_count": 148,
   "metadata": {
    "collapsed": false
   },
   "outputs": [
    {
     "data": {
      "text/plain": [
       "1"
      ]
     },
     "execution_count": 148,
     "metadata": {},
     "output_type": "execute_result"
    }
   ],
   "source": [
    "# (200^20) % 17\n",
    "fastModularExponentiation(200,20,17)"
   ]
  },
  {
   "cell_type": "markdown",
   "metadata": {},
   "source": [
    "## Probabilistic Primes\n",
    "#### (Will put up more thorough explanation soon. Maybe some pictures too!)\n",
    "\n",
    "This is a function that will tell you if a number (p) is a prime number with a certain chance of error (ex. 1/(2^20)). It works by checking if a number shares a common denominator with a random number from 2 to p (in which case the number is composite) and then if it does not share a common denominator > 1 with a, we use fermat's little theorem which states that a base (a)^(p-1) mod p (is congruent to) 1. However this is not ALWAYS true it is possible for 1/2 of the numbers from 2 to p to be fermat liars (values of a that don't satisfy this theorem). So our error is 1/(2^t) where t is the number of different random bases we use. The function also creates a set of numbers that have already been tested because you don't want to use the same base to test against because that will mess with your error numbers."
   ]
  },
  {
   "cell_type": "code",
   "execution_count": 149,
   "metadata": {
    "collapsed": true
   },
   "outputs": [],
   "source": [
    "from random import randint\n",
    "\n",
    "## The beauty of this is that the time it takes to decide if a number is a prime\n",
    "## scales with the error that you supply rather than the magnitude of the number you provide.\n",
    "## (Except that you still have to raise a base a to the power of that number)\n",
    "def fermatPrimalityTest(p, error):\n",
    "    # error = 1/(2**n_tests)\n",
    "    if error <= 0 or error >= 1:\n",
    "        raise Exception(\"Error must be 0 < error < 1.\")\n",
    "        \n",
    "    n_tests = math.ceil(math.log(1/error)/math.log(2))\n",
    "    tested_numbers = set()\n",
    "    for _ in range(0, n_tests):\n",
    "        a = randint(2,p)\n",
    "        while a in tested_numbers:\n",
    "            a = randint(2,p)\n",
    "        if getGCD(p,a) != 1:\n",
    "            return False\n",
    "        if (a**(p-1)) % p != 1:\n",
    "            return False\n",
    "    return True"
   ]
  },
  {
   "cell_type": "code",
   "execution_count": 150,
   "metadata": {
    "collapsed": false
   },
   "outputs": [
    {
     "data": {
      "text/plain": [
       "False"
      ]
     },
     "execution_count": 150,
     "metadata": {},
     "output_type": "execute_result"
    }
   ],
   "source": [
    "fermatPrimalityTest(5613,1/(2^20))"
   ]
  },
  {
   "cell_type": "code",
   "execution_count": 128,
   "metadata": {
    "collapsed": true
   },
   "outputs": [],
   "source": [
    "## More to come?"
   ]
  }
 ],
 "metadata": {
  "kernelspec": {
   "display_name": "Python 3",
   "language": "python",
   "name": "python3"
  },
  "language_info": {
   "codemirror_mode": {
    "name": "ipython",
    "version": 3
   },
   "file_extension": ".py",
   "mimetype": "text/x-python",
   "name": "python",
   "nbconvert_exporter": "python",
   "pygments_lexer": "ipython3",
   "version": "3.5.1"
  }
 },
 "nbformat": 4,
 "nbformat_minor": 0
}
