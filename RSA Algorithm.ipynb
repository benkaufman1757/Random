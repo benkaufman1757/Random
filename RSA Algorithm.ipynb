{
 "cells": [
  {
   "cell_type": "markdown",
   "metadata": {},
   "source": [
    "# RSA Algorithm\n",
    "\n",
    "This is my implementation of the RSA algorithm. I didn't see any python code for it so I made some. Watch the Khan Academy series for an explanation of the algorithm. Or this video is super helpful as well.\n",
    "If there is something wrong with it please message me."
   ]
  },
  {
   "cell_type": "code",
   "execution_count": 1,
   "metadata": {
    "collapsed": false
   },
   "outputs": [],
   "source": [
    "# How to encrypt a message (general form)\n",
    "# m^e mod n = c\n",
    "\n",
    "# How to decrypt a message (general form)\n",
    "# c^d mod n = m\n",
    "\n",
    "message = 69  # we cannot let the teacher see this message"
   ]
  },
  {
   "cell_type": "code",
   "execution_count": 2,
   "metadata": {
    "collapsed": true
   },
   "outputs": [],
   "source": [
    "# Encrypt a message \n",
    "def encrypt(m, e, n):\n",
    "    return (m**e) % n"
   ]
  },
  {
   "cell_type": "code",
   "execution_count": 3,
   "metadata": {
    "collapsed": true
   },
   "outputs": [],
   "source": [
    "# A function which gets the greatest common divisor\n",
    "# of 2 numbers (a,b)\n",
    "def getGCD(a, b):\n",
    "    return a if (b==0) else getGCD(b,a%b)"
   ]
  },
  {
   "cell_type": "code",
   "execution_count": 4,
   "metadata": {
    "collapsed": false
   },
   "outputs": [],
   "source": [
    "import random\n",
    "\n",
    "# Calculates the e value for the public key\n",
    "# the definition of e is that e must share\n",
    "# no factors with phi except 1 and must be\n",
    "# in the range 2 < e < phi(n)\n",
    "def calculateE(phi):\n",
    "    testVar = random.randint(3, phi)\n",
    "    if (getGCD(phi, testVar) == 1):\n",
    "        return testVar\n",
    "    else:\n",
    "        return calculateE(phi)"
   ]
  },
  {
   "cell_type": "code",
   "execution_count": 3,
   "metadata": {
    "collapsed": true
   },
   "outputs": [],
   "source": [
    "# Calculates the value of d (private key)\n",
    "# My implementation of the Extended Euclidean Algorithm\n",
    "def calculateD(phi, e):\n",
    "    def calculateD_helper(a,b,c,d,prev_c=None):\n",
    "        if(b==1):\n",
    "            return d\n",
    "        else:\n",
    "            mult = int(a/b)\n",
    "            new_d = c - (d*mult) if (c > d) else (c-d) + prev_c\n",
    "            return calculateD_helper(b, a-(b*mult),d,new_d,prev_c=c)\n",
    "    \n",
    "    return calculateD_helper(phi, e, phi, 1)"
   ]
  },
  {
   "cell_type": "code",
   "execution_count": 4,
   "metadata": {
    "collapsed": false
   },
   "outputs": [],
   "source": [
    "# Decrypt an encrypted message\n",
    "def decrypt(c, d, n):\n",
    "    return (c**d) % n"
   ]
  },
  {
   "cell_type": "code",
   "execution_count": 7,
   "metadata": {
    "collapsed": false
   },
   "outputs": [],
   "source": [
    "# PUTTING IT ALL TOGETHER #\n",
    "\n",
    "# The Secret Sauce #\n",
    "# p and q are supposed to be strong primes\n",
    "# but in this case we don't really care\n",
    "p = 61\n",
    "q = 53\n",
    "phi = (p-1)*(q-1)\n",
    "####################\n",
    "\n",
    "### Public Key ###\n",
    "# Anyone can see n and e, they use these numbers to encrypt their message\n",
    "# All other variables (p,q,phi,d) are not visible to anyone but the person that recieves the message\n",
    "# Commonly referred to as the padlock\n",
    "n = p * q\n",
    "e = 17 #calculateE(phi)\n",
    "##################\n",
    "\n",
    "### Private Key ###\n",
    "# Only we can calculate d because we have e and phi\n",
    "d = calculateD(phi, e)\n",
    "###################"
   ]
  },
  {
   "cell_type": "code",
   "execution_count": 8,
   "metadata": {
    "collapsed": false
   },
   "outputs": [
    {
     "name": "stdout",
     "output_type": "stream",
     "text": [
      "69\n"
     ]
    }
   ],
   "source": [
    "# !IMPORTANT! #\n",
    "# In this case it can matter, message < n #\n",
    "message = 69\n",
    "print(message)"
   ]
  },
  {
   "cell_type": "code",
   "execution_count": 9,
   "metadata": {
    "collapsed": false
   },
   "outputs": [
    {
     "name": "stdout",
     "output_type": "stream",
     "text": [
      "28\n"
     ]
    }
   ],
   "source": [
    "# Encrypt the message 8008135\n",
    "encrypted_message = encrypt(message, e, n)\n",
    "print(encrypted_message)"
   ]
  },
  {
   "cell_type": "code",
   "execution_count": 10,
   "metadata": {
    "collapsed": false
   },
   "outputs": [
    {
     "name": "stdout",
     "output_type": "stream",
     "text": [
      "69\n"
     ]
    }
   ],
   "source": [
    "# Decrypt an encrypted message with d\n",
    "decrypted_message = decrypt(encrypted_message, d, n)\n",
    "print(decrypted_message)\n",
    "# TADA! #"
   ]
  },
  {
   "cell_type": "code",
   "execution_count": 11,
   "metadata": {
    "collapsed": false
   },
   "outputs": [],
   "source": [
    "# I am not sure how to properly encrypt a sentence or something but here is a bad way\n",
    "# I'll look into this in the future...\n",
    "# encrypted_message = [encrypt(x, e, n) for x in map(ord, message)]\n",
    "# decrypted_message = \"\".join([chr(decrypt(x, phi, e, n)) for x in encrypted_message])"
   ]
  },
  {
   "cell_type": "code",
   "execution_count": 11,
   "metadata": {
    "collapsed": false
   },
   "outputs": [],
   "source": [
    "# How to solve RSA algorithm\n",
    "# Find prime factors of n... not easy for large n\n",
    "def getPrimeFactors(n):\n",
    "    # Very simple check if a number is prime (change to miller-rabin or aks)\n",
    "    def isprime(x):\n",
    "        for i in list(range(2, int(x-1))):\n",
    "            if x % i == 0:\n",
    "                return False\n",
    "        else:\n",
    "            return True\n",
    "    \n",
    "    # get list of all factors\n",
    "    # find a pair of primes\n",
    "    for x in list(range(2,int(n/2)+1)):\n",
    "        if (n % x == 0):\n",
    "            if (isprime(x) and isprime(n/x)):\n",
    "                return x, n/x"
   ]
  },
  {
   "cell_type": "code",
   "execution_count": 14,
   "metadata": {
    "collapsed": false
   },
   "outputs": [
    {
     "data": {
      "text/plain": [
       "(53, 61.0)"
      ]
     },
     "execution_count": 14,
     "metadata": {},
     "output_type": "execute_result"
    }
   ],
   "source": [
    "# Get the prime factors of n, don't try this on large n\n",
    "getPrimeFactors(n)"
   ]
  },
  {
   "cell_type": "code",
   "execution_count": 12,
   "metadata": {
    "collapsed": false
   },
   "outputs": [],
   "source": [
    "# Hooray we found p and q! #"
   ]
  }
 ],
 "metadata": {
  "kernelspec": {
   "display_name": "Python 3",
   "language": "python",
   "name": "python3"
  },
  "language_info": {
   "codemirror_mode": {
    "name": "ipython",
    "version": 3
   },
   "file_extension": ".py",
   "mimetype": "text/x-python",
   "name": "python",
   "nbconvert_exporter": "python",
   "pygments_lexer": "ipython3",
   "version": "3.4.3"
  }
 },
 "nbformat": 4,
 "nbformat_minor": 0
}
