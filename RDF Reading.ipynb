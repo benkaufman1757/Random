{
 "cells": [
  {
   "cell_type": "code",
   "execution_count": 3,
   "metadata": {
    "collapsed": false
   },
   "outputs": [
    {
     "name": "stdout",
     "output_type": "stream",
     "text": [
      "        You are using pip version 6.0.7, however version 7.1.0 is available.\n",
      "        You should consider upgrading via the 'pip install --upgrade pip' command.\n",
      "        Collecting RDF\n",
      "          Using cached rdf-0.9a6.tar.gz\n",
      "            Traceback (most recent call last):\n",
      "              File \"<string>\", line 20, in <module>\n",
      "              File \"/private/var/folders/vh/br2p5j9932bbcjvj2xxgw2zw0000gp/T/pip-build-hk0wu3_7/RDF/setup.py\", line 1, in <module>\n",
      "                from ez_setup import use_setuptools\n",
      "            Complete output from command python setup.py egg_info:\n",
      "            Traceback (most recent call last):\n",
      "            \n",
      "              File \"<string>\", line 20, in <module>\n",
      "            \n",
      "              File \"/private/var/folders/vh/br2p5j9932bbcjvj2xxgw2zw0000gp/T/pip-build-hk0wu3_7/RDF/setup.py\", line 1, in <module>\n",
      "            \n",
      "                from ez_setup import use_setuptools\n",
      "            \n",
      "            ----------------------------------------\n",
      "            Command \"python setup.py egg_info\" failed with error code 1 in /private/var/folders/vh/br2p5j9932bbcjvj2xxgw2zw0000gp/T/pip-build-hk0wu3_7/RDF\n"
     ]
    },
    {
     "data": {
      "text/plain": [
       "1"
      ]
     },
     "execution_count": 3,
     "metadata": {},
     "output_type": "execute_result"
    }
   ],
   "source": [
    "import pip\n",
    "pip.main(['install','RDF'])"
   ]
  },
  {
   "cell_type": "code",
   "execution_count": null,
   "metadata": {
    "collapsed": true
   },
   "outputs": [],
   "source": []
  }
 ],
 "metadata": {
  "kernelspec": {
   "display_name": "Python 3",
   "language": "python",
   "name": "python3"
  },
  "language_info": {
   "codemirror_mode": {
    "name": "ipython",
    "version": 3
   },
   "file_extension": ".py",
   "mimetype": "text/x-python",
   "name": "python",
   "nbconvert_exporter": "python",
   "pygments_lexer": "ipython3",
   "version": "3.4.2"
  }
 },
 "nbformat": 4,
 "nbformat_minor": 0
}
