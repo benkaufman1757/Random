{
 "cells": [
  {
   "cell_type": "code",
   "execution_count": 132,
   "metadata": {
    "collapsed": true
   },
   "outputs": [],
   "source": [
    "import numpy as np\n",
    "import scipy as sp\n",
    "from scipy import linalg as LA"
   ]
  },
  {
   "cell_type": "code",
   "execution_count": 39,
   "metadata": {
    "collapsed": true
   },
   "outputs": [],
   "source": [
    "# Ideally I'd use something like this, a generalized iteration function\n",
    "# for Euler/Runge-Kutta methods but I found that I got more floating point\n",
    "# arithmetic error\n",
    "\n",
    "\"\"\"\n",
    "def general_iteration(xr,yr,hr,func,itfunc,end):\n",
    "    if xr >= end:\n",
    "        return yr\n",
    "    else:\n",
    "        print(xr,yr)\n",
    "        return eulers_method(xr+hr,\n",
    "                    itfunc(xr,yr,hr,func),\n",
    "                    hr,\n",
    "                    func,\n",
    "                    end)\n",
    "\"\"\"\n"
   ]
  },
  {
   "cell_type": "code",
   "execution_count": 45,
   "metadata": {},
   "outputs": [
    {
     "name": "stdout",
     "output_type": "stream",
     "text": [
      "0 1\n",
      "0.1 0.9\n",
      "0.2 0.8200000000000001\n",
      "0.30000000000000004 0.758\n",
      "0.4 0.7122\n"
     ]
    },
    {
     "data": {
      "text/plain": [
       "0.68098"
      ]
     },
     "execution_count": 45,
     "metadata": {},
     "output_type": "execute_result"
    }
   ],
   "source": [
    "# Euler's Method\n",
    "\n",
    "def my_func(x,y):\n",
    "    \"\"\" User-defined ODE.\n",
    "    \n",
    "    This is a first order ODE of the form\n",
    "                y' = f(x,y)\n",
    "    the function returned by my_func should reflect f(x,y)\n",
    "    \n",
    "    Args:\n",
    "        x: A single x-value\n",
    "        y: A single y-value\n",
    "        \n",
    "    Returns:\n",
    "        The output of the function.\n",
    "    \"\"\"\n",
    "    return x-y\n",
    "\n",
    "\n",
    "def tangent_approximation(x,y,h,f):\n",
    "    \"\"\" Tangent line approximation.\n",
    "    \n",
    "    This is the linear approximation of the line tangent to\n",
    "    f(x,y) at the point x, y, using a step size of h.\n",
    "    \n",
    "    Args:\n",
    "        x: A single x-value\n",
    "        y: A single y-value\n",
    "        h: The step size\n",
    "        f: The first derivative of the function y(x)\n",
    "    \n",
    "    Returns:\n",
    "        An approximation of the value of y at that point.\n",
    "    \"\"\"\n",
    "    return y + h*f(x,y)\n",
    "\n",
    "def eulers_method(x,y,h,func,end):\n",
    "    \"\"\" Euler's method for solving ODEs.\n",
    "    \n",
    "    This is Euler's method which approximates the solution to \n",
    "    an ODE (func) at a point whose \"x\" value is (end) given some \n",
    "    initial conditions (x,y)\n",
    "    \n",
    "    Args:\n",
    "        x: The x-value of the initial condition\n",
    "        y: The y-value of the initial condition\n",
    "        h: The step size\n",
    "        f: The first derivative of the function y(x)\n",
    "        end: The x-value of the point at which you would like\n",
    "             to approximate the value of y.\n",
    "    \n",
    "    Returns:\n",
    "        An approximation of the value of y(end) given the \n",
    "        initial condition and step size.\n",
    "    \"\"\"\n",
    "    if x >= end:\n",
    "        return y\n",
    "    else:\n",
    "        print(x,y)\n",
    "        return eulers_method(x+h,\n",
    "                    tangent_approximation(x,y,h,func),\n",
    "                    h,\n",
    "                    func,\n",
    "                    end)\n",
    "\n",
    "eulers_method(0,1,0.1,my_func,0.5)"
   ]
  },
  {
   "cell_type": "code",
   "execution_count": 44,
   "metadata": {},
   "outputs": [
    {
     "name": "stdout",
     "output_type": "stream",
     "text": [
      "0 1\n",
      "0.05 0.9520421875\n",
      "0.1 0.9088618336372885\n",
      "0.15000000000000002 0.870225939017039\n",
      "0.2 0.8359128677584005\n",
      "0.25 0.8057117932894095\n",
      "0.3 0.7794221711708034\n",
      "0.35 0.7568532376305177\n",
      "0.39999999999999997 0.7378235325549433\n",
      "0.44999999999999996 0.7221604457441732\n",
      "0.49999999999999994 0.7096997852966411\n"
     ]
    },
    {
     "data": {
      "text/plain": [
       "0.7002853670438887"
      ]
     },
     "execution_count": 44,
     "metadata": {},
     "output_type": "execute_result"
    }
   ],
   "source": [
    "# Generalized Runge-Kutta Methods\n",
    "\n",
    "def my_ode(x,y):\n",
    "    return x-y\n",
    "\n",
    "def rk4_approximation(x,y,h,f):\n",
    "    k1 = f(x,y)\n",
    "    k2 = f(x+(h/2),y+(k1*(h/2)))\n",
    "    k3 = f(x+(h/2),y+(k2*(h/2)))\n",
    "    k4 = f(x,y+(k3*h))\n",
    "    return y + (sum([k1,2*k2,2*k3,k4])*(h/6))\n",
    "\n",
    "\n",
    "def rk4(x,y,h,func,end):\n",
    "    if x >= end:\n",
    "        return y\n",
    "    else:\n",
    "        print(x,y)\n",
    "        return rk4(x+h,\n",
    "                    rk4_approximation(x,y,h,func),\n",
    "                    h,\n",
    "                    func,\n",
    "                    end)\n",
    "\n",
    "rk4(0,1,0.05,my_ode,0.5)"
   ]
  },
  {
   "cell_type": "code",
   "execution_count": 10,
   "metadata": {},
   "outputs": [
    {
     "data": {
      "text/plain": [
       "3.125000000000001e-07"
      ]
     },
     "execution_count": 10,
     "metadata": {},
     "output_type": "execute_result"
    }
   ],
   "source": []
  },
  {
   "cell_type": "code",
   "execution_count": 225,
   "metadata": {},
   "outputs": [
    {
     "name": "stdout",
     "output_type": "stream",
     "text": [
      "Largest Eigenvalue: 3.0\n",
      "Largest Eigenvector: [[ 1.]\n",
      " [-1.]]\n",
      "Smallest Eigenvalue: 1.0\n",
      "Smallest Eigenvector: [[ 1.]\n",
      " [ 1.]]\n"
     ]
    }
   ],
   "source": [
    "# Computation of Eigenvalues\n",
    "# Power Methods\n",
    "n = 2\n",
    "A = np.mat([[2,-1],[-1,2]])\n",
    "#A = np.mat([[3,1,0],[1,4,0.5],[0,0.5,5]])\n",
    "\n",
    "def power_it(A,n):\n",
    "    u = np.mat(np.append(np.array(1),np.zeros(A.shape[0]-1))).T # initial guess\n",
    "    w = np.mat(np.append(np.array(1),np.zeros(A.shape[0]-1))).T\n",
    "    alpha = 0\n",
    "    for _ in range(0,n):\n",
    "        u = np.dot(A,w)\n",
    "        alpha = u.item((0,0))\n",
    "        w = u / alpha\n",
    "    return alpha, w\n",
    "\n",
    "power_it_res = power_it(A,100)\n",
    "print(\"Largest Eigenvalue:\", power_it_res[0])\n",
    "print(\"Largest Eigenvector:\", power_it_res[1])\n",
    "\n",
    "inv_power_it_res = power_it(LA.inv(A),100)\n",
    "print(\"Smallest Eigenvalue:\", inv_power_it_res[0])\n",
    "print(\"Smallest Eigenvector:\", inv_power_it_res[1])"
   ]
  },
  {
   "cell_type": "code",
   "execution_count": 222,
   "metadata": {},
   "outputs": [
    {
     "data": {
      "text/plain": [
       "array([ 1.,  0.])"
      ]
     },
     "execution_count": 222,
     "metadata": {},
     "output_type": "execute_result"
    }
   ],
   "source": [
    "np.append(np.array(1),np.zeros(A.shape[0]-1))"
   ]
  },
  {
   "cell_type": "code",
   "execution_count": 209,
   "metadata": {},
   "outputs": [
    {
     "data": {
      "text/plain": [
       "(0, matrix([[1],\n",
       "         [0]]))"
      ]
     },
     "execution_count": 209,
     "metadata": {},
     "output_type": "execute_result"
    }
   ],
   "source": [
    "# Power Method - compute largest eigenvalue\n",
    "n = 2\n",
    "A = np.mat([[2,-1],[-1,2]])\n",
    "#A = np.mat([[3,1,0],[1,4,0.5],[0,0.5,5]])\n",
    "\n",
    "\n",
    "\n"
   ]
  },
  {
   "cell_type": "code",
   "execution_count": null,
   "metadata": {
    "collapsed": true
   },
   "outputs": [],
   "source": [
    "# Iterative Methods for Solving Ax=b"
   ]
  },
  {
   "cell_type": "code",
   "execution_count": 106,
   "metadata": {},
   "outputs": [],
   "source": [
    "# Jacobi Iteration\n",
    "A = np.mat([[2,-1],[-1,2]])\n",
    "#A = np.mat([[2,1],[5,7]])\n",
    "b = np.mat([11, 13]).T\n",
    "x0 = np.mat([1,1]).T\n",
    "\n",
    "S_jacobi = np.diag(np.diag(A))\n",
    "T_jacobi = S_jacobi - A\n",
    "\n",
    "S_gausdel = np.tril(A)\n",
    "T_gausdel = -np.triu(A,k=1)"
   ]
  },
  {
   "cell_type": "code",
   "execution_count": 129,
   "metadata": {},
   "outputs": [],
   "source": [
    "def ax_b_iteration(A,S,T,x,n):\n",
    "    curr_x = x\n",
    "    #S = S/w\n",
    "    #T = T/w\n",
    "    S_inv = LA.inv(S) # only compute \"constants\" once\n",
    "    S_inv_b = np.dot(S_inv,b)\n",
    "    S_inv_T = np.matmul(S_inv,T)/w\n",
    "    for _ in range(0,n):\n",
    "        # x_(n+1) = (S^(-1)T)x_n + S^(-1)b\n",
    "        curr_x = np.dot(S_inv_T,curr_x) + S_inv_b\n",
    "    return curr_x"
   ]
  },
  {
   "cell_type": "code",
   "execution_count": 123,
   "metadata": {},
   "outputs": [
    {
     "data": {
      "text/plain": [
       "matrix([[ 9. ],\n",
       "        [ 9.5]])"
      ]
     },
     "execution_count": 123,
     "metadata": {},
     "output_type": "execute_result"
    }
   ],
   "source": [
    "ax_b_iteration(A,S_jacobi,T_jacobi,x0,2)"
   ]
  },
  {
   "cell_type": "code",
   "execution_count": 124,
   "metadata": {},
   "outputs": [
    {
     "data": {
      "text/plain": [
       "matrix([[ 6. ],\n",
       "        [ 9.5]])"
      ]
     },
     "execution_count": 124,
     "metadata": {},
     "output_type": "execute_result"
    }
   ],
   "source": [
    "ax_b_iteration(A,S_gausdel,T_gausdel,x0,1)"
   ]
  },
  {
   "cell_type": "code",
   "execution_count": 125,
   "metadata": {},
   "outputs": [
    {
     "data": {
      "text/plain": [
       "matrix([[ 11.66666667],\n",
       "        [ 12.33333333]])"
      ]
     },
     "execution_count": 125,
     "metadata": {},
     "output_type": "execute_result"
    }
   ],
   "source": [
    "ax_b_iteration(A,S_jacobi,T_jacobi,x0,100)"
   ]
  },
  {
   "cell_type": "code",
   "execution_count": 126,
   "metadata": {},
   "outputs": [
    {
     "data": {
      "text/plain": [
       "matrix([[ 11.66666667],\n",
       "        [ 12.33333333]])"
      ]
     },
     "execution_count": 126,
     "metadata": {},
     "output_type": "execute_result"
    }
   ],
   "source": [
    "ax_b_iteration(A,S_gausdel,T_gausdel,x0,100)"
   ]
  },
  {
   "cell_type": "code",
   "execution_count": 131,
   "metadata": {},
   "outputs": [
    {
     "data": {
      "text/plain": [
       "matrix([[ 11.1402439 ],\n",
       "        [ 12.07012195]])"
      ]
     },
     "execution_count": 131,
     "metadata": {},
     "output_type": "execute_result"
    }
   ],
   "source": [
    "# TODO: SOR - No current general formula to find optimal w for nxn matrix"
   ]
  },
  {
   "cell_type": "code",
   "execution_count": 11,
   "metadata": {},
   "outputs": [
    {
     "data": {
      "text/plain": [
       "array([[ 0.        ,  0.1875    ],\n",
       "       [ 0.        ,  0.11931818]])"
      ]
     },
     "execution_count": 11,
     "metadata": {},
     "output_type": "execute_result"
    }
   ],
   "source": [
    "np.matmul(LA.inv(S_gausdel),T_gausdel)"
   ]
  },
  {
   "cell_type": "code",
   "execution_count": 119,
   "metadata": {},
   "outputs": [
    {
     "data": {
      "text/plain": [
       "array([[ 11.66666667],\n",
       "       [ 12.33333333]])"
      ]
     },
     "execution_count": 119,
     "metadata": {},
     "output_type": "execute_result"
    }
   ],
   "source": [
    "LA.solve(A,b)"
   ]
  },
  {
   "cell_type": "code",
   "execution_count": 170,
   "metadata": {},
   "outputs": [],
   "source": [
    "n = 2\n",
    "phi = np.array([1,1])\n",
    "w=0.9\n",
    "A = np.array([[2,1],[1,2]])\n",
    "#A = np.mat([[2,1],[5,7]])\n",
    "b = np.array([11, 13])\n",
    "\n",
    "for _ in range(0,1000):\n",
    "    for i in range(0,n):\n",
    "        sigma = [0,0]\n",
    "        for j in range(0,n):\n",
    "            if j != i:\n",
    "                sigma += A[i][j]*phi[j]\n",
    "        phi = (1-w)*phi + (w/A[i][i])*(b-sigma)\n"
   ]
  },
  {
   "cell_type": "code",
   "execution_count": 162,
   "metadata": {},
   "outputs": [
    {
     "data": {
      "text/plain": [
       "array([ 11.35483871,  12.35483871])"
      ]
     },
     "execution_count": 162,
     "metadata": {},
     "output_type": "execute_result"
    }
   ],
   "source": [
    "phi"
   ]
  },
  {
   "cell_type": "code",
   "execution_count": 172,
   "metadata": {},
   "outputs": [
    {
     "data": {
      "text/plain": [
       "array([ 3.,  5.])"
      ]
     },
     "execution_count": 172,
     "metadata": {},
     "output_type": "execute_result"
    }
   ],
   "source": [
    "LA.solve(A,b)"
   ]
  },
  {
   "cell_type": "code",
   "execution_count": 174,
   "metadata": {},
   "outputs": [
    {
     "data": {
      "text/plain": [
       "array([ 3.+0.j,  1.+0.j])"
      ]
     },
     "execution_count": 174,
     "metadata": {},
     "output_type": "execute_result"
    }
   ],
   "source": [
    "LA.eigvals(A)"
   ]
  },
  {
   "cell_type": "code",
   "execution_count": 279,
   "metadata": {},
   "outputs": [
    {
     "name": "stdout",
     "output_type": "stream",
     "text": [
      "[[2 1 0 4 1]\n",
      " [1 4 5 9 3]\n",
      " [0 7 5 3 1]\n",
      " [9 6 7 7 2]\n",
      " [6 2 4 5 5]]\n"
     ]
    }
   ],
   "source": []
  },
  {
   "cell_type": "code",
   "execution_count": 257,
   "metadata": {},
   "outputs": [
    {
     "data": {
      "text/plain": [
       "matrix([[1],\n",
       "        [4],\n",
       "        [7],\n",
       "        [6],\n",
       "        [2]])"
      ]
     },
     "execution_count": 257,
     "metadata": {},
     "output_type": "execute_result"
    }
   ],
   "source": [
    "A[i:m,i]"
   ]
  },
  {
   "cell_type": "code",
   "execution_count": 287,
   "metadata": {},
   "outputs": [
    {
     "name": "stdout",
     "output_type": "stream",
     "text": [
      "[[2 1 0 4 1]\n",
      " [1 4 5 9 3]\n",
      " [0 7 5 3 1]\n",
      " [9 6 7 7 2]\n",
      " [6 2 4 5 5]]\n"
     ]
    }
   ],
   "source": [
    "A = np.array([[2,1,0,4,1],[1,4,5,9,3],[0,7,5,3,1],[9,6,7,7,2],[6,2,4,5,5]])\n",
    "Q = np.eye(m)\n",
    "m, n = A.shape\n",
    "print(A)\n",
    "\n",
    "for i in range(0,n):\n",
    "    z = A[i:m,i]\n",
    "    v = np.append(z[0]*LA.norm(z) - z[0],-z[1:])\n",
    "    v = v / np.dot(v.conj().T,v)\n",
    "    for j in range(0,n):\n",
    "        A[i:m,j] = A[i:m,j] - 2*np.dot(v,np.dot(v.conj().T,A[i:m,j]))\n",
    "    for j in range(0,n):\n",
    "        Q[i:m,j] = Q[i:m,j] - 2*np.dot(v,np.dot(v.conj().T,Q[i:m,j]))    "
   ]
  },
  {
   "cell_type": "code",
   "execution_count": 334,
   "metadata": {},
   "outputs": [
    {
     "name": "stdout",
     "output_type": "stream",
     "text": [
      "[[ 0.10930099  0.75204454  0.12097898]\n",
      " [ 0.86412674  0.67717628  0.23118457]\n",
      " [ 0.7676944   0.71507733  0.03560403]\n",
      " [ 0.5987274   0.63639141  0.61686414]\n",
      " [ 0.28493224  0.33931095  0.66082967]\n",
      " [ 0.60229764  0.5104853   0.43293042]]\n",
      "[ 0.10930099  0.86412674  0.7676944   0.5987274   0.28493224  0.60229764]\n",
      "[ 1.57573876  0.86412674  0.7676944   0.5987274   0.28493224  0.60229764]\n",
      "[ 0.73298534  0.40196526  0.35710789  0.27850962  0.13254174  0.28017039]\n"
     ]
    },
    {
     "ename": "ValueError",
     "evalue": "operands could not be broadcast together with shapes (6,6) (6,3) ",
     "output_type": "error",
     "traceback": [
      "\u001b[0;31m---------------------------------------------------------------------------\u001b[0m",
      "\u001b[0;31mValueError\u001b[0m                                Traceback (most recent call last)",
      "\u001b[0;32m<ipython-input-334-6dfa8a00634d>\u001b[0m in \u001b[0;36m<module>\u001b[0;34m()\u001b[0m\n\u001b[1;32m     12\u001b[0m \u001b[0mF\u001b[0m \u001b[0;34m=\u001b[0m \u001b[0mnp\u001b[0m\u001b[0;34m.\u001b[0m\u001b[0meye\u001b[0m\u001b[0;34m(\u001b[0m\u001b[0mm\u001b[0m\u001b[0;34m)\u001b[0m\u001b[0;34m-\u001b[0m \u001b[0;36m2\u001b[0m\u001b[0;34m*\u001b[0m\u001b[0;34m(\u001b[0m\u001b[0mv\u001b[0m\u001b[0;34m*\u001b[0m\u001b[0mv\u001b[0m\u001b[0;34m)\u001b[0m\u001b[0;34m\u001b[0m\u001b[0m\n\u001b[1;32m     13\u001b[0m \u001b[0;31m#F = np.around(F,decimals=3)\u001b[0m\u001b[0;34m\u001b[0m\u001b[0;34m\u001b[0m\u001b[0m\n\u001b[0;32m---> 14\u001b[0;31m \u001b[0mprint\u001b[0m\u001b[0;34m(\u001b[0m\u001b[0mF\u001b[0m\u001b[0;34m*\u001b[0m\u001b[0mA\u001b[0m\u001b[0;34m)\u001b[0m\u001b[0;34m\u001b[0m\u001b[0m\n\u001b[0m",
      "\u001b[0;31mValueError\u001b[0m: operands could not be broadcast together with shapes (6,6) (6,3) "
     ]
    }
   ],
   "source": [
    "#A = np.array([[2,1,0,4,1],[1,4,5,9,3],[0,7,5,3,1],[9,6,7,7,2],[6,2,4,5,5]])\n",
    "A = np.random.rand(6,3)\n",
    "Q = np.eye(m)\n",
    "m, n = A.shape\n",
    "print(A)\n",
    "z = A[:,0]\n",
    "print(z)\n",
    "v = np.append(z[0] + np.sign(z[0])*LA.norm(z) ,z[1:])\n",
    "print(v)\n",
    "v = v / LA.norm(v)\n",
    "print(v)\n",
    "F = np.eye(m)- 2*(v*v)\n",
    "#F = np.around(F,decimals=3)\n",
    "print(F*A)"
   ]
  },
  {
   "cell_type": "code",
   "execution_count": 288,
   "metadata": {},
   "outputs": [
    {
     "data": {
      "text/plain": [
       "array([[2, 1, 0, 4, 1],\n",
       "       [0, 3, 3, 7, 1],\n",
       "       [0, 5, 4, 2, 0],\n",
       "       [5, 3, 5, 5, 0],\n",
       "       [2, 0, 2, 3, 3]])"
      ]
     },
     "execution_count": 288,
     "metadata": {},
     "output_type": "execute_result"
    }
   ],
   "source": [
    "A"
   ]
  },
  {
   "cell_type": "code",
   "execution_count": 291,
   "metadata": {},
   "outputs": [
    {
     "data": {
      "text/plain": [
       "False"
      ]
     },
     "execution_count": 291,
     "metadata": {},
     "output_type": "execute_result"
    }
   ],
   "source": [
    "np.allclose(Q,Qn)"
   ]
  },
  {
   "cell_type": "code",
   "execution_count": 290,
   "metadata": {},
   "outputs": [],
   "source": [
    "Qn,R = LA.qr(A)"
   ]
  },
  {
   "cell_type": "code",
   "execution_count": 285,
   "metadata": {},
   "outputs": [
    {
     "data": {
      "text/plain": [
       "array([[-0.34815531,  0.0051045 , -0.81206955,  0.3696388 ,  0.28752744],\n",
       "       [-0.        , -0.50534546,  0.24664346,  0.7744041 , -0.28998494],\n",
       "       [-0.        , -0.84224243, -0.05763074, -0.39598367,  0.36125243],\n",
       "       [-0.87038828, -0.07146299,  0.12009763, -0.23764424, -0.40794492],\n",
       "       [-0.34815531,  0.17355299,  0.51182547,  0.22447181,  0.73233485]])"
      ]
     },
     "execution_count": 285,
     "metadata": {},
     "output_type": "execute_result"
    }
   ],
   "source": [
    "Q"
   ]
  },
  {
   "cell_type": "code",
   "execution_count": 286,
   "metadata": {},
   "outputs": [
    {
     "data": {
      "text/plain": [
       "array([[-5.74456265, -2.95932015, -5.04825202, -6.78902858, -1.39262125],\n",
       "       [ 0.        , -5.93653302, -4.8952151 , -5.03814109,  0.020418  ],\n",
       "       [ 0.        ,  0.        ,  2.13354649,  0.49892908,  0.97005032],\n",
       "       [ 0.        ,  0.        ,  0.        ,  5.59261075,  1.81745833],\n",
       "       [ 0.        ,  0.        ,  0.        ,  0.        ,  2.19454705]])"
      ]
     },
     "execution_count": 286,
     "metadata": {},
     "output_type": "execute_result"
    }
   ],
   "source": [
    "R"
   ]
  },
  {
   "cell_type": "code",
   "execution_count": null,
   "metadata": {
    "collapsed": true
   },
   "outputs": [],
   "source": []
  }
 ],
 "metadata": {
  "kernelspec": {
   "display_name": "Python 3",
   "language": "python",
   "name": "python3"
  },
  "language_info": {
   "codemirror_mode": {
    "name": "ipython",
    "version": 3
   },
   "file_extension": ".py",
   "mimetype": "text/x-python",
   "name": "python",
   "nbconvert_exporter": "python",
   "pygments_lexer": "ipython3",
   "version": "3.6.2"
  }
 },
 "nbformat": 4,
 "nbformat_minor": 2
}
