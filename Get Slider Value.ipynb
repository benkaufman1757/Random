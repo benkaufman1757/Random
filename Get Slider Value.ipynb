{
 "metadata": {
  "name": "",
  "signature": "sha256:424f092e43ba3e53fd79b51ed4a2a3c4564c4e70bbd47f257914e842eb37f162"
 },
 "nbformat": 3,
 "nbformat_minor": 0,
 "worksheets": [
  {
   "cells": [
    {
     "cell_type": "code",
     "collapsed": false,
     "input": [
      "import json\n",
      "f = open('settings.json','r')\n",
      "x = json.loads(f.read())\n",
      "f.close()"
     ],
     "language": "python",
     "metadata": {},
     "outputs": [],
     "prompt_number": 4
    },
    {
     "cell_type": "code",
     "collapsed": false,
     "input": [
      "x.keys()"
     ],
     "language": "python",
     "metadata": {},
     "outputs": [
      {
       "metadata": {},
       "output_type": "pyout",
       "prompt_number": 6,
       "text": [
        "[u'campaign',\n",
        " u'calculated_at',\n",
        " u'campaign_uid',\n",
        " u'flights',\n",
        " u'suggestion_uid',\n",
        " u'alpha',\n",
        " u'cc_settings_uid']"
       ]
      }
     ],
     "prompt_number": 6
    },
    {
     "cell_type": "code",
     "collapsed": false,
     "input": [
      "x['campaign']"
     ],
     "language": "python",
     "metadata": {},
     "outputs": [
      {
       "metadata": {},
       "output_type": "pyout",
       "prompt_number": 7,
       "text": [
        "{u'campaign_uid': u'0CJdvlHT1c',\n",
        " u'currency': u'USD',\n",
        " u'performance_improvement': u'12.9967590926',\n",
        " u'projection': {u'actions': {u'from': 2.0,\n",
        "   u'to': 1.83196469273,\n",
        "   u'units': u'actions'},\n",
        "  u'cpa': {u'from': 39.24, u'to': 34.14, u'units': u'currency'},\n",
        "  u'cpm': {u'from': 1.36, u'to': 1.17, u'units': u'currency'},\n",
        "  u'daily_budget': {u'from': 195.07, u'to': 195.07, u'units': u'currency'},\n",
        "  u'impressions': {u'from': 56407.0, u'to': 53430.0, u'units': u'impressions'},\n",
        "  u'pace': {u'from': 113.011270002,\n",
        "   u'to': 98.6770750124,\n",
        "   u'units': u'percent'},\n",
        "  u'spend': {u'from': 76.57, u'to': 62.54, u'units': u'currency'}},\n",
        " u'spend_improvement': u'-18.3233109181'}"
       ]
      }
     ],
     "prompt_number": 7
    },
    {
     "cell_type": "code",
     "collapsed": false,
     "input": [
      "x['campaign']['projection']"
     ],
     "language": "python",
     "metadata": {},
     "outputs": [
      {
       "metadata": {},
       "output_type": "pyout",
       "prompt_number": 8,
       "text": [
        "{u'actions': {u'from': 2.0, u'to': 1.83196469273, u'units': u'actions'},\n",
        " u'cpa': {u'from': 39.24, u'to': 34.14, u'units': u'currency'},\n",
        " u'cpm': {u'from': 1.36, u'to': 1.17, u'units': u'currency'},\n",
        " u'daily_budget': {u'from': 195.07, u'to': 195.07, u'units': u'currency'},\n",
        " u'impressions': {u'from': 56407.0, u'to': 53430.0, u'units': u'impressions'},\n",
        " u'pace': {u'from': 113.011270002, u'to': 98.6770750124, u'units': u'percent'},\n",
        " u'spend': {u'from': 76.57, u'to': 62.54, u'units': u'currency'}}"
       ]
      }
     ],
     "prompt_number": 8
    },
    {
     "cell_type": "code",
     "collapsed": false,
     "input": [
      "performancedelta = "
     ],
     "language": "python",
     "metadata": {},
     "outputs": []
    }
   ],
   "metadata": {}
  }
 ]
}