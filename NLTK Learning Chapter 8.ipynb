{
 "cells": [
  {
   "cell_type": "markdown",
   "metadata": {},
   "source": [
    "# Chapter 8"
   ]
  },
  {
   "cell_type": "code",
   "execution_count": 1,
   "metadata": {
    "collapsed": true
   },
   "outputs": [],
   "source": [
    "import nltk, re"
   ]
  },
  {
   "cell_type": "code",
   "execution_count": 2,
   "metadata": {
    "collapsed": true
   },
   "outputs": [],
   "source": [
    "# Grammar for the ambiguous sentence:\n",
    "# \"I shot an elephant in my pajamas.\"\n",
    "groucho_grammar = nltk.CFG.fromstring(\"\"\"\n",
    "S -> NP VP\n",
    "PP -> P NP\n",
    "NP -> Det N | Det N PP | 'I'\n",
    "VP -> V NP | VP PP\n",
    "Det -> 'an' | 'my'\n",
    "N -> 'elephant' | 'pajamas'\n",
    "V -> 'shot'\n",
    "P -> 'in'\n",
    "\"\"\")"
   ]
  },
  {
   "cell_type": "code",
   "execution_count": 3,
   "metadata": {
    "collapsed": false
   },
   "outputs": [
    {
     "name": "stdout",
     "output_type": "stream",
     "text": [
      "(S\n",
      "  (NP I)\n",
      "  (VP\n",
      "    (VP (V shot) (NP (Det an) (N elephant)))\n",
      "    (PP (P in) (NP (Det my) (N pajamas)))))\n",
      "(S\n",
      "  (NP I)\n",
      "  (VP\n",
      "    (V shot)\n",
      "    (NP (Det an) (N elephant) (PP (P in) (NP (Det my) (N pajamas))))))\n"
     ]
    }
   ],
   "source": [
    "# Produces two trees\n",
    "# One meaning \"I\" shot an elephant while \"I\" was wearing pajamas\n",
    "# Two meaning \"I\" show an elephant while the elephant was wearing \"I\"'s pajamas\n",
    "sent = ['I', 'shot', 'an', 'elephant', 'in', 'my', 'pajamas']\n",
    "parser = nltk.ChartParser(groucho_grammar)\n",
    "for tree in parser.parse(sent):\n",
    "    print(tree)"
   ]
  },
  {
   "cell_type": "code",
   "execution_count": 8,
   "metadata": {
    "collapsed": false
   },
   "outputs": [],
   "source": [
    "for x in parser.parse(sent):\n",
    "    x.draw()"
   ]
  },
  {
   "cell_type": "markdown",
   "metadata": {},
   "source": [
    "### Beyond N-Grams, Grammar\n",
    "\n",
    "Can combine 2 Noun Phrases to create a Noun Phrase. \n",
    "Same with Adjective Phrases.\n",
    "Cannot combine a NP with an AP\n",
    "examples)\n",
    "* The book's ending was (NP the worst part and the best part) for me.\n",
    "* On land they are (AP slow and clumsy looking).\n",
    "\n",
    "* ~~the worst part and clumsy looking~~\n",
    "\n",
    "### Constituent Structure\n",
    "Constituent Structure allows you to substitute smaller words for larger words and phrases\n"
   ]
  },
  {
   "cell_type": "markdown",
   "metadata": {},
   "source": [
    "### How a sentence can be Reduced\n",
    "\n",
    "The little bear saw the fine fat trout in the brook.\n",
    "\n",
    "\n",
    "<img src=\"data/ic_diagram_labeled.png\" height=500 width=800>"
   ]
  },
  {
   "cell_type": "markdown",
   "metadata": {},
   "source": [
    "<table>\n",
    "<tbody valign=\"top\">\n",
    "<tr><td>S</td>\n",
    "<td>sentence</td>\n",
    "<td><span class=\"example\">the man walked</span></td>\n",
    "</tr>\n",
    "<tr><td>NP</td>\n",
    "<td>noun phrase</td>\n",
    "<td><span class=\"example\">a dog</span></td>\n",
    "</tr>\n",
    "<tr><td>VP</td>\n",
    "<td>verb phrase</td>\n",
    "<td><span class=\"example\">saw a park</span></td>\n",
    "</tr>\n",
    "<tr><td>PP</td>\n",
    "<td>prepositional phrase</td>\n",
    "<td><span class=\"example\">with a telescope</span></td>\n",
    "</tr>\n",
    "<tr><td>Det</td>\n",
    "<td>determiner</td>\n",
    "<td><span class=\"example\">the</span></td>\n",
    "</tr>\n",
    "<tr><td>N</td>\n",
    "<td>noun</td>\n",
    "<td><span class=\"example\">dog</span></td>\n",
    "</tr>\n",
    "<tr><td>V</td>\n",
    "<td>verb</td>\n",
    "<td><span class=\"example\">walked</span></td>\n",
    "</tr>\n",
    "<tr><td>P</td>\n",
    "<td>preposition</td>\n",
    "<td><span class=\"example\">in</span></td>\n",
    "</tr>\n",
    "</tbody>\n",
    "<p class=\"caption\"><span class=\"caption-label\">Table 3.1</span>: <p>Syntactic Categories</p>\n",
    "</p>\n",
    "</table>"
   ]
  },
  {
   "cell_type": "code",
   "execution_count": 8,
   "metadata": {
    "collapsed": false
   },
   "outputs": [
    {
     "name": "stdout",
     "output_type": "stream",
     "text": [
      "(S (NP Mary) (VP (V saw) (NP Bob)))\n"
     ]
    }
   ],
   "source": [
    "grammar1 = nltk.CFG.fromstring(\"\"\"\n",
    "  S -> NP VP\n",
    "  VP -> V NP | V NP PP\n",
    "  PP -> P NP\n",
    "  V -> \"saw\" | \"ate\" | \"walked\"\n",
    "  NP -> \"John\" | \"Mary\" | \"Bob\" | Det N | Det N PP\n",
    "  Det -> \"a\" | \"an\" | \"the\" | \"my\"\n",
    "  N -> \"man\" | \"dog\" | \"cat\" | \"telescope\" | \"park\"\n",
    "  P -> \"in\" | \"on\" | \"by\" | \"with\"\n",
    "  \"\"\")\n",
    "sent = \"Mary saw Bob\".split()\n",
    "rd_parser = nltk.RecursiveDescentParser(grammar1)\n",
    "for tree in rd_parser.parse(sent):\n",
    "    print(tree)"
   ]
  },
  {
   "cell_type": "markdown",
   "metadata": {},
   "source": [
    "## 3 Parsers\n",
    "\n",
    "### Recursive Descent\n",
    "* Top Down Parser\n",
    "* Constructs 'S' first -> NP -> DET | DET N\n",
    "* Cannot parse grammar in form of X -> X Y\n",
    "* Can construct multiple trees if sentence is structurally ambiguous\n",
    "\n",
    "### Shift-Reduce\n",
    "* Bottom up parser starts from bottom right of parse tree\n",
    "* Adds remaining text to left of previously parsed text\n",
    "* (NLTK) ShiftReduceParser() does not backtrack and may not find a parse on a structurally correct sentence\n",
    "\n",
    "### Left-Corner \n",
    "* Top-down bottom up hybrid\n",
    "* Does not get stuck in infinite loop with X -> X Y type grammar\n",
    "* Builds a table holding a non-terminal part of grammar and then a list of possible left corners of the non-terminal\n",
    "* Before adding to tree, checks that the product is compatible with one left corners"
   ]
  },
  {
   "cell_type": "code",
   "execution_count": 21,
   "metadata": {
    "collapsed": false
   },
   "outputs": [
    {
     "name": "stdout",
     "output_type": "stream",
     "text": [
      "Grammar with 25 productions (start state = S)\n",
      "    S -> NP VP\n",
      "    VP -> V NP\n",
      "    VP -> V NP PP\n",
      "    PP -> P NP\n",
      "    V -> 'saw'\n",
      "    V -> 'ate'\n",
      "    V -> 'walked'\n",
      "    NP -> 'John'\n",
      "    NP -> 'Mary'\n",
      "    NP -> 'Bob'\n",
      "    NP -> Det N\n",
      "    NP -> Det N PP\n",
      "    Det -> 'a'\n",
      "    Det -> 'an'\n",
      "    Det -> 'the'\n",
      "    Det -> 'my'\n",
      "    N -> 'man'\n",
      "    N -> 'dog'\n",
      "    N -> 'cat'\n",
      "    N -> 'telescope'\n",
      "    N -> 'park'\n",
      "    P -> 'in'\n",
      "    P -> 'on'\n",
      "    P -> 'by'\n",
      "    P -> 'with'\n"
     ]
    }
   ],
   "source": [
    "nltk.data.clear_cache()\n",
    "grammar2 = nltk.data.load(\"file:data/mygrammar.cfg\")\n",
    "print(grammar2)"
   ]
  },
  {
   "cell_type": "code",
   "execution_count": 22,
   "metadata": {
    "collapsed": false
   },
   "outputs": [
    {
     "name": "stdout",
     "output_type": "stream",
     "text": [
      "(S (NP Mary) (VP (V saw) (NP Bob)))\n"
     ]
    }
   ],
   "source": [
    "sent = \"Mary saw Bob\".split()\n",
    "rd_parser = nltk.RecursiveDescentParser(grammar2)\n",
    "for tree in rd_parser.parse(sent):\n",
    "    print(tree)"
   ]
  },
  {
   "cell_type": "code",
   "execution_count": 23,
   "metadata": {
    "collapsed": false
   },
   "outputs": [
    {
     "name": "stdout",
     "output_type": "stream",
     "text": [
      "(S (NP Mary) (VP (V saw) (NP Bob)))\n"
     ]
    }
   ],
   "source": [
    "nltk.LeftCornerChartParser(grammar2)\n",
    "for tree in rd_parser.parse(sent):\n",
    "    print(tree)"
   ]
  },
  {
   "cell_type": "code",
   "execution_count": 24,
   "metadata": {
    "collapsed": false
   },
   "outputs": [
    {
     "data": {
      "text/plain": [
       "[V -> 'shot']"
      ]
     },
     "execution_count": 24,
     "metadata": {},
     "output_type": "execute_result"
    }
   ],
   "source": [
    "text = ['I', 'shot', 'an', 'elephant', 'in', 'my', 'pajamas']\n",
    "groucho_grammar.productions(rhs=text[1])"
   ]
  },
  {
   "cell_type": "code",
   "execution_count": null,
   "metadata": {
    "collapsed": true
   },
   "outputs": [],
   "source": []
  }
 ],
 "metadata": {
  "kernelspec": {
   "display_name": "Python 3",
   "language": "python",
   "name": "python3"
  },
  "language_info": {
   "codemirror_mode": {
    "name": "ipython",
    "version": 3
   },
   "file_extension": ".py",
   "mimetype": "text/x-python",
   "name": "python",
   "nbconvert_exporter": "python",
   "pygments_lexer": "ipython3",
   "version": "3.5.1"
  },
  "widgets": {
   "state": {},
   "version": "1.1.2"
  }
 },
 "nbformat": 4,
 "nbformat_minor": 0
}
