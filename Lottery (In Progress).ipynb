{
 "cells": [
  {
   "cell_type": "code",
   "execution_count": 104,
   "metadata": {
    "collapsed": true
   },
   "outputs": [],
   "source": [
    "import pandas as pd"
   ]
  },
  {
   "cell_type": "code",
   "execution_count": 105,
   "metadata": {
    "collapsed": true
   },
   "outputs": [],
   "source": [
    "df = pd.read_csv('/Users/benkaufman/Desktop/lottery_sales/Data-Table 1.csv')"
   ]
  },
  {
   "cell_type": "code",
   "execution_count": 106,
   "metadata": {
    "collapsed": false
   },
   "outputs": [],
   "source": [
    "df = df.drop(\"Unnamed: 4\", 1)"
   ]
  },
  {
   "cell_type": "code",
   "execution_count": 107,
   "metadata": {
    "collapsed": false
   },
   "outputs": [
    {
     "data": {
      "text/html": [
       "<div>\n",
       "<table border=\"1\" class=\"dataframe\">\n",
       "  <thead>\n",
       "    <tr style=\"text-align: right;\">\n",
       "      <th></th>\n",
       "      <th>City or town</th>\n",
       "      <th>Population</th>\n",
       "      <th>Unrestricted General Government Aid</th>\n",
       "      <th>Gross lottery sales</th>\n",
       "    </tr>\n",
       "  </thead>\n",
       "  <tbody>\n",
       "    <tr>\n",
       "      <th>0</th>\n",
       "      <td>BOSTON</td>\n",
       "      <td>617,594</td>\n",
       "      <td>$160,247,301.00</td>\n",
       "      <td>$535,596,750.50</td>\n",
       "    </tr>\n",
       "    <tr>\n",
       "      <th>1</th>\n",
       "      <td>WORCESTER</td>\n",
       "      <td>181,045</td>\n",
       "      <td>$35,150,026.00</td>\n",
       "      <td>$150,438,334.25</td>\n",
       "    </tr>\n",
       "    <tr>\n",
       "      <th>2</th>\n",
       "      <td>SPRINGFIELD</td>\n",
       "      <td>153,060</td>\n",
       "      <td>$32,020,398.00</td>\n",
       "      <td>$111,525,910.75</td>\n",
       "    </tr>\n",
       "    <tr>\n",
       "      <th>3</th>\n",
       "      <td>LOWELL</td>\n",
       "      <td>106,519</td>\n",
       "      <td>$21,304,471.00</td>\n",
       "      <td>$78,631,270.50</td>\n",
       "    </tr>\n",
       "    <tr>\n",
       "      <th>4</th>\n",
       "      <td>CAMBRIDGE</td>\n",
       "      <td>105,162</td>\n",
       "      <td>$18,170,690.00</td>\n",
       "      <td>$45,304,328.50</td>\n",
       "    </tr>\n",
       "  </tbody>\n",
       "</table>\n",
       "</div>"
      ],
      "text/plain": [
       "      City or town Population Unrestricted General Government Aid  \\\n",
       "0           BOSTON    617,594                     $160,247,301.00   \n",
       "1  WORCESTER          181,045                      $35,150,026.00   \n",
       "2  SPRINGFIELD        153,060                      $32,020,398.00   \n",
       "3  LOWELL             106,519                      $21,304,471.00   \n",
       "4  CAMBRIDGE          105,162                      $18,170,690.00   \n",
       "\n",
       "  Gross lottery sales  \n",
       "0     $535,596,750.50  \n",
       "1     $150,438,334.25  \n",
       "2     $111,525,910.75  \n",
       "3      $78,631,270.50  \n",
       "4      $45,304,328.50  "
      ]
     },
     "execution_count": 107,
     "metadata": {},
     "output_type": "execute_result"
    }
   ],
   "source": [
    "df.head()"
   ]
  },
  {
   "cell_type": "code",
   "execution_count": 108,
   "metadata": {
    "collapsed": false
   },
   "outputs": [
    {
     "data": {
      "text/plain": [
       "City or town                           object\n",
       "Population                             object\n",
       "Unrestricted General Government Aid    object\n",
       "Gross lottery sales                    object\n",
       "dtype: object"
      ]
     },
     "execution_count": 108,
     "metadata": {},
     "output_type": "execute_result"
    }
   ],
   "source": [
    "df.dtypes"
   ]
  },
  {
   "cell_type": "code",
   "execution_count": 109,
   "metadata": {
    "collapsed": false
   },
   "outputs": [],
   "source": [
    "# Some cleanup (thanks Stack Overflow)\n",
    "import decimal\n",
    "D = decimal.Decimal\n",
    "\n",
    "df['City or town'] = df['City or town'].str.strip()\n",
    "\n",
    "df['Population'] = (df['Population'].str.replace(r'[^-+\\d.]', '').astype(D))\n",
    "\n",
    "df['Unrestricted General Government Aid'] = (df['Unrestricted General Government Aid']\n",
    "                                             .str.replace(r'[^-+\\d.]', '').astype(D))\n",
    "\n",
    "df['Gross lottery sales'] = (df['Gross lottery sales']\n",
    "                             .str.replace(r'[^-+\\d.]', '').astype(D))"
   ]
  },
  {
   "cell_type": "code",
   "execution_count": 110,
   "metadata": {
    "collapsed": false
   },
   "outputs": [
    {
     "data": {
      "text/html": [
       "<div>\n",
       "<table border=\"1\" class=\"dataframe\">\n",
       "  <thead>\n",
       "    <tr style=\"text-align: right;\">\n",
       "      <th></th>\n",
       "      <th>City or town</th>\n",
       "      <th>Population</th>\n",
       "      <th>Unrestricted General Government Aid</th>\n",
       "      <th>Gross lottery sales</th>\n",
       "    </tr>\n",
       "  </thead>\n",
       "  <tbody>\n",
       "    <tr>\n",
       "      <th>0</th>\n",
       "      <td>BOSTON</td>\n",
       "      <td>617594</td>\n",
       "      <td>160247301.00</td>\n",
       "      <td>535596750.50</td>\n",
       "    </tr>\n",
       "    <tr>\n",
       "      <th>1</th>\n",
       "      <td>WORCESTER</td>\n",
       "      <td>181045</td>\n",
       "      <td>35150026.00</td>\n",
       "      <td>150438334.25</td>\n",
       "    </tr>\n",
       "    <tr>\n",
       "      <th>2</th>\n",
       "      <td>SPRINGFIELD</td>\n",
       "      <td>153060</td>\n",
       "      <td>32020398.00</td>\n",
       "      <td>111525910.75</td>\n",
       "    </tr>\n",
       "    <tr>\n",
       "      <th>3</th>\n",
       "      <td>LOWELL</td>\n",
       "      <td>106519</td>\n",
       "      <td>21304471.00</td>\n",
       "      <td>78631270.50</td>\n",
       "    </tr>\n",
       "    <tr>\n",
       "      <th>4</th>\n",
       "      <td>CAMBRIDGE</td>\n",
       "      <td>105162</td>\n",
       "      <td>18170690.00</td>\n",
       "      <td>45304328.50</td>\n",
       "    </tr>\n",
       "  </tbody>\n",
       "</table>\n",
       "</div>"
      ],
      "text/plain": [
       "  City or town Population Unrestricted General Government Aid  \\\n",
       "0       BOSTON     617594                        160247301.00   \n",
       "1    WORCESTER     181045                         35150026.00   \n",
       "2  SPRINGFIELD     153060                         32020398.00   \n",
       "3       LOWELL     106519                         21304471.00   \n",
       "4    CAMBRIDGE     105162                         18170690.00   \n",
       "\n",
       "  Gross lottery sales  \n",
       "0        535596750.50  \n",
       "1        150438334.25  \n",
       "2        111525910.75  \n",
       "3         78631270.50  \n",
       "4         45304328.50  "
      ]
     },
     "execution_count": 110,
     "metadata": {},
     "output_type": "execute_result"
    }
   ],
   "source": [
    "df.head()"
   ]
  },
  {
   "cell_type": "code",
   "execution_count": 111,
   "metadata": {
    "collapsed": true
   },
   "outputs": [],
   "source": [
    "df2 = pd.read_csv('/Users/benkaufman/Desktop/lottery_sales/household_income.csv')"
   ]
  },
  {
   "cell_type": "code",
   "execution_count": 112,
   "metadata": {
    "collapsed": false
   },
   "outputs": [],
   "source": [
    "df2 = df2.dropna(axis=1,how='all')\n",
    "df2['City or town'] = df2['City or town'].str.upper()\n",
    "df2['City or town'] = df2['City or town'].str.strip()\n",
    "\n",
    "df2['Per Capita Income'] = (df2['Per Capita Income'].str.replace(r'[^-+\\d.]', '').astype(D))\n",
    "df2['Median Household Income'] = (df2['Median Household Income'].str.replace(r'[^-+\\d.]', '').astype(D))"
   ]
  },
  {
   "cell_type": "code",
   "execution_count": 113,
   "metadata": {
    "collapsed": false
   },
   "outputs": [
    {
     "data": {
      "text/html": [
       "<div>\n",
       "<table border=\"1\" class=\"dataframe\">\n",
       "  <thead>\n",
       "    <tr style=\"text-align: right;\">\n",
       "      <th></th>\n",
       "      <th>City or town</th>\n",
       "      <th>Per Capita Income</th>\n",
       "      <th>Median Household Income</th>\n",
       "    </tr>\n",
       "  </thead>\n",
       "  <tbody>\n",
       "    <tr>\n",
       "      <th>0</th>\n",
       "      <td>WESTON</td>\n",
       "      <td>105217</td>\n",
       "      <td>192563</td>\n",
       "    </tr>\n",
       "    <tr>\n",
       "      <th>1</th>\n",
       "      <td>DOVER</td>\n",
       "      <td>89476</td>\n",
       "      <td>187829</td>\n",
       "    </tr>\n",
       "    <tr>\n",
       "      <th>2</th>\n",
       "      <td>CARLISLE</td>\n",
       "      <td>77585</td>\n",
       "      <td>160034</td>\n",
       "    </tr>\n",
       "    <tr>\n",
       "      <th>3</th>\n",
       "      <td>SHERBORN</td>\n",
       "      <td>73420</td>\n",
       "      <td>153444</td>\n",
       "    </tr>\n",
       "    <tr>\n",
       "      <th>4</th>\n",
       "      <td>SUDBURY</td>\n",
       "      <td>72744</td>\n",
       "      <td>170924</td>\n",
       "    </tr>\n",
       "  </tbody>\n",
       "</table>\n",
       "</div>"
      ],
      "text/plain": [
       "  City or town Per Capita Income Median Household Income\n",
       "0       WESTON            105217                  192563\n",
       "1        DOVER             89476                  187829\n",
       "2     CARLISLE             77585                  160034\n",
       "3     SHERBORN             73420                  153444\n",
       "4      SUDBURY             72744                  170924"
      ]
     },
     "execution_count": 113,
     "metadata": {},
     "output_type": "execute_result"
    }
   ],
   "source": [
    "df2.head()"
   ]
  },
  {
   "cell_type": "code",
   "execution_count": 155,
   "metadata": {
    "collapsed": false
   },
   "outputs": [
    {
     "name": "stderr",
     "output_type": "stream",
     "text": [
      "/usr/local/lib/python3.4/site-packages/ipykernel/__main__.py:3: FutureWarning: convert_objects is deprecated.  Use the data-type specific converters pd.to_datetime, pd.to_timedelta and pd.to_numeric.\n",
      "  app.launch_new_instance()\n",
      "/usr/local/lib/python3.4/site-packages/ipykernel/__main__.py:4: FutureWarning: convert_objects is deprecated.  Use the data-type specific converters pd.to_datetime, pd.to_timedelta and pd.to_numeric.\n"
     ]
    }
   ],
   "source": [
    "res = df.merge(df2, on='City or town')\n",
    "res['Population'] = res['Population'].astype(int)\n",
    "res['Unrestricted General Government Aid'] = res['Unrestricted General Government Aid'].convert_objects(convert_numeric=True)\n",
    "res['Gross lottery sales'] = res['Gross lottery sales'].convert_objects(convert_numeric=True)\n",
    "res['Per Capita Income'] = res['Per Capita Income'].astype(int)\n",
    "res['Median Household Income'] = res['Median Household Income'].astype(int)\n",
    "res['Money Spent on Lottery Per Person'] = res['Gross lottery sales'] / res['Population']"
   ]
  },
  {
   "cell_type": "code",
   "execution_count": 156,
   "metadata": {
    "collapsed": false
   },
   "outputs": [
    {
     "data": {
      "text/plain": [
       "City or town                            object\n",
       "Population                               int64\n",
       "Unrestricted General Government Aid    float64\n",
       "Gross lottery sales                    float64\n",
       "Per Capita Income                        int64\n",
       "Median Household Income                  int64\n",
       "Money Spent on Lottery Per Person      float64\n",
       "dtype: object"
      ]
     },
     "execution_count": 156,
     "metadata": {},
     "output_type": "execute_result"
    }
   ],
   "source": [
    "res.dtypes"
   ]
  },
  {
   "cell_type": "code",
   "execution_count": 157,
   "metadata": {
    "collapsed": false
   },
   "outputs": [],
   "source": [
    "import numpy as np\n",
    "import seaborn as sns\n",
    "import matplotlib.pyplot as plt"
   ]
  },
  {
   "cell_type": "code",
   "execution_count": 158,
   "metadata": {
    "collapsed": false
   },
   "outputs": [
    {
     "data": {
      "text/html": [
       "<div>\n",
       "<table border=\"1\" class=\"dataframe\">\n",
       "  <thead>\n",
       "    <tr style=\"text-align: right;\">\n",
       "      <th></th>\n",
       "      <th>Population</th>\n",
       "      <th>Unrestricted General Government Aid</th>\n",
       "      <th>Gross lottery sales</th>\n",
       "      <th>Per Capita Income</th>\n",
       "      <th>Median Household Income</th>\n",
       "      <th>Money Spent on Lottery Per Person</th>\n",
       "    </tr>\n",
       "  </thead>\n",
       "  <tbody>\n",
       "    <tr>\n",
       "      <th>Population</th>\n",
       "      <td>1.000000</td>\n",
       "      <td>0.974717</td>\n",
       "      <td>0.977288</td>\n",
       "      <td>-0.084663</td>\n",
       "      <td>-0.120636</td>\n",
       "      <td>0.140032</td>\n",
       "    </tr>\n",
       "    <tr>\n",
       "      <th>Unrestricted General Government Aid</th>\n",
       "      <td>0.974717</td>\n",
       "      <td>1.000000</td>\n",
       "      <td>0.968445</td>\n",
       "      <td>-0.126027</td>\n",
       "      <td>-0.161272</td>\n",
       "      <td>0.113001</td>\n",
       "    </tr>\n",
       "    <tr>\n",
       "      <th>Gross lottery sales</th>\n",
       "      <td>0.977288</td>\n",
       "      <td>0.968445</td>\n",
       "      <td>1.000000</td>\n",
       "      <td>-0.174911</td>\n",
       "      <td>-0.218194</td>\n",
       "      <td>0.262410</td>\n",
       "    </tr>\n",
       "    <tr>\n",
       "      <th>Per Capita Income</th>\n",
       "      <td>-0.084663</td>\n",
       "      <td>-0.126027</td>\n",
       "      <td>-0.174911</td>\n",
       "      <td>1.000000</td>\n",
       "      <td>0.859222</td>\n",
       "      <td>-0.364456</td>\n",
       "    </tr>\n",
       "    <tr>\n",
       "      <th>Median Household Income</th>\n",
       "      <td>-0.120636</td>\n",
       "      <td>-0.161272</td>\n",
       "      <td>-0.218194</td>\n",
       "      <td>0.859222</td>\n",
       "      <td>1.000000</td>\n",
       "      <td>-0.376065</td>\n",
       "    </tr>\n",
       "    <tr>\n",
       "      <th>Money Spent on Lottery Per Person</th>\n",
       "      <td>0.140032</td>\n",
       "      <td>0.113001</td>\n",
       "      <td>0.262410</td>\n",
       "      <td>-0.364456</td>\n",
       "      <td>-0.376065</td>\n",
       "      <td>1.000000</td>\n",
       "    </tr>\n",
       "  </tbody>\n",
       "</table>\n",
       "</div>"
      ],
      "text/plain": [
       "                                     Population  \\\n",
       "Population                             1.000000   \n",
       "Unrestricted General Government Aid    0.974717   \n",
       "Gross lottery sales                    0.977288   \n",
       "Per Capita Income                     -0.084663   \n",
       "Median Household Income               -0.120636   \n",
       "Money Spent on Lottery Per Person      0.140032   \n",
       "\n",
       "                                     Unrestricted General Government Aid  \\\n",
       "Population                                                      0.974717   \n",
       "Unrestricted General Government Aid                             1.000000   \n",
       "Gross lottery sales                                             0.968445   \n",
       "Per Capita Income                                              -0.126027   \n",
       "Median Household Income                                        -0.161272   \n",
       "Money Spent on Lottery Per Person                               0.113001   \n",
       "\n",
       "                                     Gross lottery sales  Per Capita Income  \\\n",
       "Population                                      0.977288          -0.084663   \n",
       "Unrestricted General Government Aid             0.968445          -0.126027   \n",
       "Gross lottery sales                             1.000000          -0.174911   \n",
       "Per Capita Income                              -0.174911           1.000000   \n",
       "Median Household Income                        -0.218194           0.859222   \n",
       "Money Spent on Lottery Per Person               0.262410          -0.364456   \n",
       "\n",
       "                                     Median Household Income  \\\n",
       "Population                                         -0.120636   \n",
       "Unrestricted General Government Aid                -0.161272   \n",
       "Gross lottery sales                                -0.218194   \n",
       "Per Capita Income                                   0.859222   \n",
       "Median Household Income                             1.000000   \n",
       "Money Spent on Lottery Per Person                  -0.376065   \n",
       "\n",
       "                                     Money Spent on Lottery Per Person  \n",
       "Population                                                    0.140032  \n",
       "Unrestricted General Government Aid                           0.113001  \n",
       "Gross lottery sales                                           0.262410  \n",
       "Per Capita Income                                            -0.364456  \n",
       "Median Household Income                                      -0.376065  \n",
       "Money Spent on Lottery Per Person                             1.000000  "
      ]
     },
     "execution_count": 158,
     "metadata": {},
     "output_type": "execute_result"
    }
   ],
   "source": [
    "corr = res.corr()\n",
    "#corr = res['Gross lottery sales'].corr(res['Median Household Income'])\n",
    "corr"
   ]
  },
  {
   "cell_type": "code",
   "execution_count": 159,
   "metadata": {
    "collapsed": false
   },
   "outputs": [],
   "source": [
    "mask = np.zeros_like(corr, dtype=np.bool)\n",
    "mask[np.triu_indices_from(mask)] = True"
   ]
  },
  {
   "cell_type": "code",
   "execution_count": 160,
   "metadata": {
    "collapsed": false
   },
   "outputs": [
    {
     "data": {
      "text/plain": [
       "<matplotlib.axes._subplots.AxesSubplot at 0x10f87c470>"
      ]
     },
     "execution_count": 160,
     "metadata": {},
     "output_type": "execute_result"
    },
    {
     "data": {
      "image/png": "[encoded data removed]",
      "text/plain": [
       "<matplotlib.figure.Figure at 0x10f872b38>"
      ]
     },
     "metadata": {},
     "output_type": "display_data"
    }
   ],
   "source": [
    "f, ax = plt.subplots(figsize=(11, 9))\n",
    "\n",
    "# Generate a custom diverging colormap\n",
    "cmap = sns.diverging_palette(220, 10, as_cmap=True)\n",
    "sns.heatmap(corr, mask=mask, cmap=cmap, vmax=.3,\n",
    "            square=True, xticklabels=True, yticklabels=True,\n",
    "            linewidths=.5, cbar_kws={\"shrink\": .5}, ax=ax)"
   ]
  },
  {
   "cell_type": "code",
   "execution_count": 148,
   "metadata": {
    "collapsed": true
   },
   "outputs": [],
   "source": [
    "%matplotlib inline"
   ]
  },
  {
   "cell_type": "code",
   "execution_count": 164,
   "metadata": {
    "collapsed": false
   },
   "outputs": [
    {
     "data": {
      "text/html": [
       "<div>\n",
       "<table border=\"1\" class=\"dataframe\">\n",
       "  <thead>\n",
       "    <tr style=\"text-align: right;\">\n",
       "      <th></th>\n",
       "      <th>City or town</th>\n",
       "      <th>Population</th>\n",
       "      <th>Unrestricted General Government Aid</th>\n",
       "      <th>Gross lottery sales</th>\n",
       "      <th>Per Capita Income</th>\n",
       "      <th>Median Household Income</th>\n",
       "      <th>Money Spent on Lottery Per Person</th>\n",
       "    </tr>\n",
       "  </thead>\n",
       "  <tbody>\n",
       "    <tr>\n",
       "      <th>40</th>\n",
       "      <td>AMHERST</td>\n",
       "      <td>37819</td>\n",
       "      <td>7120842</td>\n",
       "      <td>6412846.00</td>\n",
       "      <td>19796</td>\n",
       "      <td>53191</td>\n",
       "      <td>169.566779</td>\n",
       "    </tr>\n",
       "    <tr>\n",
       "      <th>221</th>\n",
       "      <td>LINCOLN</td>\n",
       "      <td>6362</td>\n",
       "      <td>575819</td>\n",
       "      <td>87266.00</td>\n",
       "      <td>62061</td>\n",
       "      <td>126395</td>\n",
       "      <td>13.716756</td>\n",
       "    </tr>\n",
       "    <tr>\n",
       "      <th>281</th>\n",
       "      <td>HUNTINGTON</td>\n",
       "      <td>2180</td>\n",
       "      <td>291504</td>\n",
       "      <td>164493.00</td>\n",
       "      <td>27331</td>\n",
       "      <td>55526</td>\n",
       "      <td>75.455505</td>\n",
       "    </tr>\n",
       "    <tr>\n",
       "      <th>287</th>\n",
       "      <td>CONWAY</td>\n",
       "      <td>1897</td>\n",
       "      <td>151164</td>\n",
       "      <td>31062.00</td>\n",
       "      <td>37737</td>\n",
       "      <td>77143</td>\n",
       "      <td>16.374275</td>\n",
       "    </tr>\n",
       "    <tr>\n",
       "      <th>296</th>\n",
       "      <td>CLARKSBURG</td>\n",
       "      <td>1702</td>\n",
       "      <td>307692</td>\n",
       "      <td>48021.00</td>\n",
       "      <td>28274</td>\n",
       "      <td>57600</td>\n",
       "      <td>28.214454</td>\n",
       "    </tr>\n",
       "    <tr>\n",
       "      <th>299</th>\n",
       "      <td>GRANVILLE</td>\n",
       "      <td>1566</td>\n",
       "      <td>135608</td>\n",
       "      <td>116719.75</td>\n",
       "      <td>30474</td>\n",
       "      <td>73795</td>\n",
       "      <td>74.533685</td>\n",
       "    </tr>\n",
       "    <tr>\n",
       "      <th>301</th>\n",
       "      <td>GILL</td>\n",
       "      <td>1500</td>\n",
       "      <td>205734</td>\n",
       "      <td>51510.50</td>\n",
       "      <td>34215</td>\n",
       "      <td>74583</td>\n",
       "      <td>34.340333</td>\n",
       "    </tr>\n",
       "    <tr>\n",
       "      <th>308</th>\n",
       "      <td>ROYALSTON</td>\n",
       "      <td>1258</td>\n",
       "      <td>152063</td>\n",
       "      <td>144682.50</td>\n",
       "      <td>27999</td>\n",
       "      <td>60750</td>\n",
       "      <td>115.009936</td>\n",
       "    </tr>\n",
       "    <tr>\n",
       "      <th>313</th>\n",
       "      <td>WORTHINGTON</td>\n",
       "      <td>1156</td>\n",
       "      <td>106245</td>\n",
       "      <td>90400.50</td>\n",
       "      <td>34898</td>\n",
       "      <td>68882</td>\n",
       "      <td>78.201125</td>\n",
       "    </tr>\n",
       "    <tr>\n",
       "      <th>327</th>\n",
       "      <td>HANCOCK</td>\n",
       "      <td>717</td>\n",
       "      <td>47754</td>\n",
       "      <td>28716.50</td>\n",
       "      <td>31535</td>\n",
       "      <td>79438</td>\n",
       "      <td>40.050907</td>\n",
       "    </tr>\n",
       "    <tr>\n",
       "      <th>331</th>\n",
       "      <td>PLAINFIELD</td>\n",
       "      <td>648</td>\n",
       "      <td>42434</td>\n",
       "      <td>34685.75</td>\n",
       "      <td>30907</td>\n",
       "      <td>64167</td>\n",
       "      <td>53.527392</td>\n",
       "    </tr>\n",
       "  </tbody>\n",
       "</table>\n",
       "</div>"
      ],
      "text/plain": [
       "    City or town  Population  Unrestricted General Government Aid  \\\n",
       "40       AMHERST       37819                              7120842   \n",
       "221      LINCOLN        6362                               575819   \n",
       "281   HUNTINGTON        2180                               291504   \n",
       "287       CONWAY        1897                               151164   \n",
       "296   CLARKSBURG        1702                               307692   \n",
       "299    GRANVILLE        1566                               135608   \n",
       "301         GILL        1500                               205734   \n",
       "308    ROYALSTON        1258                               152063   \n",
       "313  WORTHINGTON        1156                               106245   \n",
       "327      HANCOCK         717                                47754   \n",
       "331   PLAINFIELD         648                                42434   \n",
       "\n",
       "     Gross lottery sales  Per Capita Income  Median Household Income  \\\n",
       "40            6412846.00              19796                    53191   \n",
       "221             87266.00              62061                   126395   \n",
       "281            164493.00              27331                    55526   \n",
       "287             31062.00              37737                    77143   \n",
       "296             48021.00              28274                    57600   \n",
       "299            116719.75              30474                    73795   \n",
       "301             51510.50              34215                    74583   \n",
       "308            144682.50              27999                    60750   \n",
       "313             90400.50              34898                    68882   \n",
       "327             28716.50              31535                    79438   \n",
       "331             34685.75              30907                    64167   \n",
       "\n",
       "     Money Spent on Lottery Per Person  \n",
       "40                          169.566779  \n",
       "221                          13.716756  \n",
       "281                          75.455505  \n",
       "287                          16.374275  \n",
       "296                          28.214454  \n",
       "299                          74.533685  \n",
       "301                          34.340333  \n",
       "308                         115.009936  \n",
       "313                          78.201125  \n",
       "327                          40.050907  \n",
       "331                          53.527392  "
      ]
     },
     "execution_count": 164,
     "metadata": {},
     "output_type": "execute_result"
    }
   ],
   "source": [
    "res[res['Unrestricted General Government Aid'] > res['Gross lottery sales']]"
   ]
  },
  {
   "cell_type": "markdown",
   "metadata": {
    "collapsed": false
   },
   "source": [
    "# Questions to answer to reach conclusion:\n",
    "\n",
    "* Problems associated with gambling\n",
    "* Crime rates\n",
    "* Education (exploiting stupid people)\n",
    "* Income (shown)\n",
    "* Redistribution of wealth to the wealthy, is that fair or is that good?\n",
    "* Where will the money now go (hopefully better uses not drugs/alcohol)\n",
    "* Do people go from drug abuse to gambling addiction or vice-versa?\n",
    "    * is association good enough? if they lead to each other banning 1 is not bad\n",
    "* If you ban gambling will people turn to drugs/alcohol? Which is the lesser of the 2 evils?\n",
    "    * look at rates when gambling was banned and legal, also look at social projects implemented\n",
    "* How do towns spend aid money? What will pay for services funded by lottery?\n",
    "* Effect of Dissolving lottery? How many people work for it?\n",
    "* Probably other stuff...to be determined...\n",
    "* Card games are more enjoyment and SOCIAL you play with other people rather than "
   ]
  },
  {
   "cell_type": "markdown",
   "metadata": {
    "collapsed": true
   },
   "source": [
    "* gambling promotes alcoholism, free drinks while gambling\n",
    "http://www.readcube.com/articles/10.1111%2Fj.1530-0277.1986.tb05610.x?r3_referer=wol&tracking_action=preview_click&show_checkout=1&purchase_referrer=onlinelibrary.wiley.com&purchase_site_license=PUBLICATION_OUTSIDE_OF_LICENSE_PERIOD\n",
    "\n",
    "* addiction severity index (lesser of evils)\n",
    "http://www.readcube.com/articles/10.1111%2Fj.1360-0443.1991.tb01863.x?r3_referer=wol&tracking_action=preview_click&show_checkout=1&purchase_referrer=onlinelibrary.wiley.com&purchase_site_license=PUBLICATION_OUTSIDE_OF_LICENSE_PERIOD\n",
    "\n",
    "* binge eating, problem drinking, gambling addiction\n",
    "http://ac.els-cdn.com/S0191886907003510/1-s2.0-S0191886907003510-main.pdf?_tid=b48d86f8-9df5-11e5-a378-00000aab0f27&acdnat=1449611612_8a97b92c861381ba7d59e06bcf76e0d6"
   ]
  }
 ],
 "metadata": {
  "kernelspec": {
   "display_name": "Python 3",
   "language": "python",
   "name": "python3"
  },
  "language_info": {
   "codemirror_mode": {
    "name": "ipython",
    "version": 3
   },
   "file_extension": ".py",
   "mimetype": "text/x-python",
   "name": "python",
   "nbconvert_exporter": "python",
   "pygments_lexer": "ipython3",
   "version": "3.4.3"
  }
 },
 "nbformat": 4,
 "nbformat_minor": 0
}
