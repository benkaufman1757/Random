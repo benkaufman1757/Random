{
 "cells": [
  {
   "cell_type": "code",
   "execution_count": 1,
   "metadata": {
    "collapsed": false,
    "deletable": true,
    "editable": true
   },
   "outputs": [],
   "source": [
    "%matplotlib inline\n",
    "import matplotlib.pyplot as plt\n",
    "import numpy as np"
   ]
  },
  {
   "cell_type": "code",
   "execution_count": 2,
   "metadata": {
    "collapsed": true,
    "deletable": true,
    "editable": true
   },
   "outputs": [],
   "source": [
    "def flat_for(a, f):\n",
    "    a = a.reshape(-1)\n",
    "    for i, v in enumerate(a):       \n",
    "        a[i] = f(v)"
   ]
  },
  {
   "cell_type": "code",
   "execution_count": 3,
   "metadata": {
    "collapsed": true,
    "deletable": true,
    "editable": true
   },
   "outputs": [],
   "source": [
    "x = np.arange(10)\n",
    "y = np.arange(10)"
   ]
  },
  {
   "cell_type": "code",
   "execution_count": 10,
   "metadata": {
    "collapsed": false,
    "deletable": true,
    "editable": true
   },
   "outputs": [],
   "source": [
    "coefficients = np.polyfit(x,y,1)\n",
    "flat_for(coefficients, np.round)"
   ]
  },
  {
   "cell_type": "code",
   "execution_count": 11,
   "metadata": {
    "collapsed": false,
    "deletable": true,
    "editable": true
   },
   "outputs": [
    {
     "data": {
      "text/plain": [
       "(array([  1.00000000e+00,   5.61733355e-16]),\n",
       " array([  9.89954351e-30]),\n",
       " 2,\n",
       " array([ 1.35754456,  0.39632407]),\n",
       " 2.2204460492503131e-15)"
      ]
     },
     "execution_count": 11,
     "metadata": {},
     "output_type": "execute_result"
    }
   ],
   "source": [
    "np.polyfit(x,y,1,full=True)"
   ]
  },
  {
   "cell_type": "code",
   "execution_count": 12,
   "metadata": {
    "collapsed": false,
    "deletable": true,
    "editable": true
   },
   "outputs": [
    {
     "data": {
      "text/plain": [
       "0.0"
      ]
     },
     "execution_count": 12,
     "metadata": {},
     "output_type": "execute_result"
    }
   ],
   "source": [
    "np.round(np.sum((np.polyval(np.polyfit(x, y, 2), x) - y)**2))"
   ]
  },
  {
   "cell_type": "code",
   "execution_count": 13,
   "metadata": {
    "collapsed": false,
    "deletable": true,
    "editable": true
   },
   "outputs": [
    {
     "data": {
      "text/plain": [
       "[<matplotlib.lines.Line2D at 0x11090c1d0>]"
      ]
     },
     "execution_count": 13,
     "metadata": {},
     "output_type": "execute_result"
    },
    {
     "data": {
      "image/png": "[encoded data removed]",
      "text/plain": [
       "<matplotlib.figure.Figure at 0x1107a8e80>"
      ]
     },
     "metadata": {},
     "output_type": "display_data"
    }
   ],
   "source": [
    "plt.plot(x,y)"
   ]
  },
  {
   "cell_type": "code",
   "execution_count": 14,
   "metadata": {
    "collapsed": false,
    "deletable": true,
    "editable": true
   },
   "outputs": [
    {
     "data": {
      "text/plain": [
       "[<matplotlib.lines.Line2D at 0x110751f28>]"
      ]
     },
     "execution_count": 14,
     "metadata": {},
     "output_type": "execute_result"
    },
    {
     "data": {
      "image/png": "[encoded data removed]",
      "text/plain": [
       "<matplotlib.figure.Figure at 0x110751c88>"
      ]
     },
     "metadata": {},
     "output_type": "display_data"
    }
   ],
   "source": [
    "xplot = np.linspace(min(x),max(x))\n",
    "yplot = coefficients[0]*xplot + coefficients[1]*np.power(xplot,2)\n",
    "plt.plot(x,y)\n",
    "plt.plot(xplot,yplot)"
   ]
  },
  {
   "cell_type": "code",
   "execution_count": 15,
   "metadata": {
    "collapsed": true,
    "deletable": true,
    "editable": true
   },
   "outputs": [],
   "source": [
    "def best_polynomial_fit(x,y,maxpower=10):\n",
    "    #coefs, residual, _, _, _ = polyfit(x,y)\n",
    "    best_degree = np.argmin([np.round(np.sum((np.polyval(np.polyfit(x, y, i), x) - y)**2)) for i in range(0,maxpower)])\n",
    "    coefficients = np.polyfit(x,y,best_degree)\n",
    "    coefficients = np.flip(coefficients,0)\n",
    "    flat_for(coefficients, np.round)\n",
    "    print(coefficients)\n",
    "    \n",
    "    xplot = np.linspace(min(x),max(x))\n",
    "    yplot = np.zeros(len(xplot))\n",
    "    \n",
    "    for i in range(0,best_degree+1):\n",
    "        yplot = np.add(yplot, np.multiply(coefficients[i],np.power(xplot,i)))\n",
    "    \n",
    "    plt.scatter(x,y)\n",
    "    plt.plot(xplot,yplot)\n",
    "    equation = \"y = {0} \".format(coefficients[0])\n",
    "    for ix, coeff in enumerate(coefficients[1:]):\n",
    "        equation += \"+ ({0})t^({1})\".format(coeff,ix+1) \n",
    "    print(equation)\n",
    "    return plt.show()"
   ]
  },
  {
   "cell_type": "code",
   "execution_count": 20,
   "metadata": {
    "collapsed": false,
    "deletable": true,
    "editable": true
   },
   "outputs": [
    {
     "name": "stdout",
     "output_type": "stream",
     "text": [
      "[ 1. -0.  0. -0.  1.]\n",
      "y = 1.0 + (-0.0)t^(1)+ (0.0)t^(2)+ (-0.0)t^(3)+ (1.0)t^(4)\n"
     ]
    },
    {
     "data": {
      "image/png": "[encoded data removed]",
      "text/plain": [
       "<matplotlib.figure.Figure at 0x11082fc50>"
      ]
     },
     "metadata": {},
     "output_type": "display_data"
    }
   ],
   "source": [
    "best_polynomial_fit(np.arange(10),np.power(np.arange(10),4)+1)"
   ]
  },
  {
   "cell_type": "code",
   "execution_count": 22,
   "metadata": {
    "collapsed": false,
    "deletable": true,
    "editable": true
   },
   "outputs": [
    {
     "name": "stdout",
     "output_type": "stream",
     "text": [
      "[0 1 2 3 4 5 6 7 8 9]\n",
      "[0, 1, 16, 81, 256, 625, 1296, 2401, 4096, 6500]\n",
      "[ -0.   8. -19.  18.  -7.   2.  -0.   0.  -0.]\n",
      "y = -0.0 + (8.0)t^(1)+ (-19.0)t^(2)+ (18.0)t^(3)+ (-7.0)t^(4)+ (2.0)t^(5)+ (-0.0)t^(6)+ (0.0)t^(7)+ (-0.0)t^(8)\n"
     ]
    },
    {
     "data": {
      "image/png": "[encoded data removed]",
      "text/plain": [
       "<matplotlib.figure.Figure at 0x110dddb00>"
      ]
     },
     "metadata": {},
     "output_type": "display_data"
    }
   ],
   "source": [
    "x = np.arange(10)\n",
    "#y = [0, 1, 10, 81, 245,  684, 1300, 2227, 4312, 6666]\n",
    "y = [   0,    1,   16,   81,  256,  625, 1296, 2401, 4096, 6500]\n",
    "print(x)\n",
    "print(y)\n",
    "\n",
    "best_polynomial_fit(x,y)"
   ]
  },
  {
   "cell_type": "code",
   "execution_count": 129,
   "metadata": {
    "collapsed": false,
    "deletable": true,
    "editable": true
   },
   "outputs": [
    {
     "data": {
      "text/plain": [
       "array([   0,    1,   16,   81,  256,  625, 1296, 2401, 4096, 6561])"
      ]
     },
     "execution_count": 129,
     "metadata": {},
     "output_type": "execute_result"
    }
   ],
   "source": [
    "np.power(np.arange(10),4)"
   ]
  },
  {
   "cell_type": "code",
   "execution_count": 18,
   "metadata": {
    "collapsed": false,
    "deletable": true,
    "editable": true
   },
   "outputs": [
    {
     "data": {
      "text/plain": [
       "array([   1,    2,   17,   82,  257,  626, 1297, 2402, 4097, 6562])"
      ]
     },
     "execution_count": 18,
     "metadata": {},
     "output_type": "execute_result"
    }
   ],
   "source": [
    "np.power(np.arange(10),4)+1"
   ]
  },
  {
   "cell_type": "code",
   "execution_count": 19,
   "metadata": {
    "collapsed": false
   },
   "outputs": [
    {
     "data": {
      "text/plain": [
       "array([   0,    1,   16,   81,  256,  625, 1296, 2401, 4096, 6561])"
      ]
     },
     "execution_count": 19,
     "metadata": {},
     "output_type": "execute_result"
    }
   ],
   "source": [
    "np.power(np.arange(10),4)"
   ]
  },
  {
   "cell_type": "code",
   "execution_count": null,
   "metadata": {
    "collapsed": true
   },
   "outputs": [],
   "source": [
    "[   0,    1,   16,   81,  256,  625, 1296, 2401, 4096, 6562]"
   ]
  }
 ],
 "metadata": {
  "kernelspec": {
   "display_name": "Python 3",
   "language": "python",
   "name": "python3"
  },
  "language_info": {
   "codemirror_mode": {
    "name": "ipython",
    "version": 3
   },
   "file_extension": ".py",
   "mimetype": "text/x-python",
   "name": "python",
   "nbconvert_exporter": "python",
   "pygments_lexer": "ipython3",
   "version": "3.6.0"
  }
 },
 "nbformat": 4,
 "nbformat_minor": 2
}
