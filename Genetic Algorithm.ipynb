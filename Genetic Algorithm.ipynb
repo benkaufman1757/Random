{
 "cells": [
  {
   "cell_type": "markdown",
   "metadata": {},
   "source": [
    "# Traveling Salesman Exploration\n",
    "\n",
    "### Methods explored\n",
    "* Brute force\n",
    "* (Greedy) Genetic algorithm\n",
    "* Nearest Neighbor (under construction)\n",
    "* Shortest Edge (Kruskal's algorithm)\n",
    "\n",
    "Other ideas -> some uncrossing method...\n",
    "more inspiration https://louisville.edu/speed/faculty/sheragu/Research/Intelligent/tsp.PDF"
   ]
  },
  {
   "cell_type": "code",
   "execution_count": 1,
   "metadata": {
    "collapsed": true
   },
   "outputs": [],
   "source": [
    "# not yet impletmented\n",
    "# The optimal solution will always be a simple polygon\n",
    "# to check that lists are not rotations of eachother, find the first \n",
    "# point that is equal to eachother, shift that to the first position and compare them\n",
    "# uncross method, move to point closest to intersection??\n",
    "# AMAZON - what if you are moving on a car and so your position is moving in a predictable (nested TSP?) way\n",
    "# and the distances of travel vary with time?\n",
    "# should i apply mutations to the best in each generation? -no?\n",
    "# held and karp algorithm\n",
    "# test accuracy with tsplib solutions? http://comopt.ifi.uni-heidelberg.de/software/TSPLIB95/index.html"
   ]
  },
  {
   "cell_type": "code",
   "execution_count": 2,
   "metadata": {
    "collapsed": false
   },
   "outputs": [],
   "source": [
    "%matplotlib inline\n",
    "from matplotlib import pyplot as plt\n",
    "import seaborn as sns"
   ]
  },
  {
   "cell_type": "markdown",
   "metadata": {},
   "source": [
    "# Random Point Creation"
   ]
  },
  {
   "cell_type": "code",
   "execution_count": 3,
   "metadata": {
    "collapsed": true
   },
   "outputs": [],
   "source": [
    "import random\n",
    "import itertools\n",
    "\n",
    "def generateUniquePoints(n, xrange, yrange):\n",
    "    \"\"\"\n",
    "       Method for generating a list of n unique points\n",
    "       bounded by x and y range.\n",
    "    \"\"\"\n",
    "    if n > xrange*yrange:\n",
    "        raise Exception(\"Cannot generate {0} unique points with given ranges. Not enough unique points in range.\")\n",
    "    \n",
    "    # small optimization, use product of ranges for relatively large n (compared to product of ranges)\n",
    "    # otherwise use a probablistic method of choosing random numbers and forcing them not to overlap\n",
    "    if n > xrange*yrange*.5:\n",
    "        xs, ys = range(0, xrange), range(0, yrange)\n",
    "        points = itertools.product(xs, ys)\n",
    "        return list(random.sample(list(points), n))\n",
    "    else:\n",
    "        points = set()\n",
    "        while len(points) < n:\n",
    "            points.add((random.randint(0, xrange), random.randint(0, yrange)))\n",
    "        return list(points)"
   ]
  },
  {
   "cell_type": "code",
   "execution_count": 4,
   "metadata": {
    "collapsed": true
   },
   "outputs": [],
   "source": [
    "# generate 7 unique points with an x-range of 100 and y-range of 100\n",
    "points = generateUniquePoints(10, 100, 100)"
   ]
  },
  {
   "cell_type": "markdown",
   "metadata": {},
   "source": [
    "# Brute Force"
   ]
  },
  {
   "cell_type": "code",
   "execution_count": 5,
   "metadata": {
    "collapsed": true
   },
   "outputs": [],
   "source": [
    "import sys\n",
    "\n",
    "def bruteForceTS(points):\n",
    "    \"\"\"\n",
    "        Finds the path with minimum distance\n",
    "        from given points. Do not do this with \n",
    "        more than 10 points. Even with 10 it will \n",
    "        take ~30 seconds\n",
    "    \"\"\"\n",
    "    mindistance = 100000000000000 # a big number\n",
    "    for x in list(itertools.permutations(points)):\n",
    "        if evaluatePathDistance(x) < mindistance:\n",
    "            mindistance = evaluatePathDistance(x)\n",
    "            minpath = x\n",
    "    return mindistance, minpath"
   ]
  },
  {
   "cell_type": "markdown",
   "metadata": {},
   "source": [
    "# Genetic Algorithm\n",
    "\n",
    "### The Basic Idea\n",
    "* Create a population of random (unique) test paths/subjects\n",
    "* Find n best subjects to \"reproduce\" by crossing over \n",
    "* Apply a random mutation to subjects in population\n",
    "* Repeat for n generations"
   ]
  },
  {
   "cell_type": "code",
   "execution_count": 6,
   "metadata": {
    "collapsed": true
   },
   "outputs": [],
   "source": [
    "import copy\n",
    "\n",
    "def createPopulation(n_subjects, points):\n",
    "    \"\"\"\n",
    "        Creates a list of n random* sequences\n",
    "        of points passed in.\n",
    "    \"\"\"\n",
    "    population = []\n",
    "    points = points\n",
    "    for _ in range(0,n_subjects):\n",
    "        random.shuffle(points)\n",
    "        temp = points.copy()   # need to copy full list, can't reference\n",
    "        population.append(temp)\n",
    "    return population\n",
    "\n",
    "# function does not check if the lists are unique, that means they aren't exactly the same\n",
    "# AND that they are not just shifts of eachother (same path)"
   ]
  },
  {
   "cell_type": "code",
   "execution_count": 7,
   "metadata": {
    "collapsed": false
   },
   "outputs": [
    {
     "name": "stdout",
     "output_type": "stream",
     "text": [
      "[(0, 44), (21, 64), (25, 96), (34, 79), (52, 63), (78, 82), (64, 94), (88, 16), (24, 71), (82, 86)]\n",
      "[(52, 63), (25, 96), (34, 79), (21, 64), (64, 94), (78, 82), (24, 71), (0, 44), (82, 86), (88, 16)]\n",
      "[(21, 64), (78, 82), (88, 16), (82, 86), (0, 44), (24, 71), (34, 79), (52, 63), (25, 96), (64, 94)]\n",
      "[(34, 79), (82, 86), (52, 63), (25, 96), (24, 71), (78, 82), (0, 44), (21, 64), (64, 94), (88, 16)]\n",
      "[(88, 16), (64, 94), (82, 86), (21, 64), (25, 96), (24, 71), (52, 63), (34, 79), (78, 82), (0, 44)]\n"
     ]
    }
   ],
   "source": [
    "population = createPopulation(5, points)\n",
    "# see what a population looks like\n",
    "for x in population:\n",
    "    print(x)"
   ]
  },
  {
   "cell_type": "code",
   "execution_count": 8,
   "metadata": {
    "collapsed": true
   },
   "outputs": [],
   "source": [
    "def getLinks(ls):\n",
    "    \"\"\"\n",
    "        Gets the all line segments from a sequence.\n",
    "    \"\"\"\n",
    "    return [(x,ls[ix+1]) if (ix < len(ls)-1) else (x,ls[0]) for ix, x in enumerate(ls)]"
   ]
  },
  {
   "cell_type": "code",
   "execution_count": 9,
   "metadata": {
    "collapsed": true
   },
   "outputs": [],
   "source": [
    "import math\n",
    "\n",
    "def evaluatePathDistance(path):\n",
    "    \"\"\"\n",
    "        Iteratively get the sum of the distances\n",
    "        between points in the path. Can I use reduce?\n",
    "        This is essentially our fitness function...\n",
    "        May add n crosses or something here\n",
    "    \"\"\"\n",
    "    totalDistance = 0\n",
    "    for ix, x in enumerate(path):\n",
    "        if ix < len(path)-1:\n",
    "            totalDistance += math.hypot(path[ix+1][0] - x[0], path[ix+1][1] - x[1])\n",
    "        else:\n",
    "            totalDistance += math.hypot(path[0][0] - x[0], path[0][1] - x[1])\n",
    "    return totalDistance"
   ]
  },
  {
   "cell_type": "code",
   "execution_count": 10,
   "metadata": {
    "collapsed": true
   },
   "outputs": [],
   "source": [
    "def evaluateFitness(population):\n",
    "    \"\"\" \n",
    "        The \"Fitness Function\" (for now) is essentially just that the most fit path is that\n",
    "        with the shortest distance. Returns sorted list of most fit->least fit paths\n",
    "    \"\"\"\n",
    "    return sorted(population, key=lambda path: evaluatePathDistance(path))"
   ]
  },
  {
   "cell_type": "code",
   "execution_count": 11,
   "metadata": {
    "collapsed": true
   },
   "outputs": [],
   "source": [
    "def greedyCrossover(population, drop=2):\n",
    "    \"\"\"\n",
    "        What this crossover does is as follows:\n",
    "        - Takes top 2 (or drop) shortest paths and drops the 2 lowest paths\n",
    "        - Combines the top 2 parents to create 2 children\n",
    "            - Get the \"links\" or line segements formed by the paths of the parents\n",
    "            - Child 1: Alternating starting with parent 1 then parent 2 links\n",
    "            - Child 2: Alternating starting with parent 2 then parent 1 links\n",
    "            - If there is overlap during crossover...just randomly choose the rest of the links (ambiguous)\n",
    "    \"\"\"\n",
    "    # get rid of the 2 worst subjects and make room for children\n",
    "    # should I try not dropping them\n",
    "    newPopulation = evaluateFitness(population)[:-drop]\n",
    "    \n",
    "    # the parents and their links\n",
    "    parents = newPopulation[:2]\n",
    "    parentLinks = [getLinks(x) for x in parents]\n",
    "\n",
    "    children = []\n",
    "    for c in range(0,2):  # assuming only 2 parents\n",
    "        child = list(parentLinks[c][0])\n",
    "        overlapGenRandom = False\n",
    "        for x in range(0,len(parents[0][0])+1):  # go through the parents\n",
    "            \n",
    "            # check if there was overlap during crossover, to go the last part\n",
    "            if overlapGenRandom:  \n",
    "                break\n",
    "           \n",
    "            # x variable to shift make it switch between p1 and p2\n",
    "            # during crossover, c used to switch starting parent\n",
    "            if x+c % 2 == 0:\n",
    "                # coor1 = line segment 1, coor2 = line segment 2\n",
    "                for coor1,coor2 in parentLinks[1]:  # parent 2 \n",
    "                    if coor1 == child[-1] and coor2 not in child:\n",
    "                        child.append(coor2)\n",
    "                        #print(\"p2\")\n",
    "                        break\n",
    "            else:\n",
    "                for coor1,coor2 in parentLinks[0]: # parent 1\n",
    "                    if coor1 == child[-1] and coor2 not in child:\n",
    "                        child.append(coor2)\n",
    "                        break\n",
    "        \n",
    "        # check if the crossover was completed without overlaps\n",
    "        remaining = set(parents[0]) - set(child)\n",
    "        if len(remaining) > 0:\n",
    "            while len(remaining) > 0:\n",
    "                x = random.sample(set(remaining),1)[0]\n",
    "                remaining.remove(x)\n",
    "                child.append(x)\n",
    "        children.append(child)\n",
    "    return newPopulation+children"
   ]
  },
  {
   "cell_type": "code",
   "execution_count": 12,
   "metadata": {
    "collapsed": true
   },
   "outputs": [],
   "source": [
    "def applyMutation(population, chance):\n",
    "    \"\"\"\n",
    "        Given a certain chance of mutation (per subject) \n",
    "        applies or doesn't apply a random mutation (point-swap)\n",
    "        on each subject in the population\"\"\"\n",
    "    length = len(population[0])\n",
    "    mutatedPopulation = []\n",
    "    for subject in population:\n",
    "        # each subject has a \"x\" chance of mutating (swapping positions of 2 points)\n",
    "        if random.random() < chance:\n",
    "            i1, i2 = random.sample(range(0,length-1),2)\n",
    "            subject[i1], subject[i2] = subject[i2], subject[i1] \n",
    "        mutatedPopulation.append(subject)\n",
    "    return mutatedPopulation"
   ]
  },
  {
   "cell_type": "code",
   "execution_count": 13,
   "metadata": {
    "collapsed": true
   },
   "outputs": [],
   "source": [
    "def greedyGA(n_generations, points, population_size, mutation_perc_chance):\n",
    "    \"\"\"\n",
    "        For n_generations, the population created from the given points will\n",
    "        crossover traits and then with a certain chance, mutate or not.\n",
    "    \"\"\"\n",
    "    population = createPopulation(population_size, points)\n",
    "    min_distances = []\n",
    "    min_distances.append(evaluatePathDistance(evaluateFitness(population)[0]))\n",
    "    \n",
    "    # collect stats? % improvement\n",
    "    for _ in range(0,n_generations):\n",
    "        population = greedyCrossover(population)\n",
    "        population = applyMutation(population, mutation_perc_chance)\n",
    "        min_distances.append(evaluatePathDistance(evaluateFitness(population)[0]))\n",
    "        \n",
    "    most_fit = evaluateFitness(population)[0]\n",
    "    \n",
    "    return evaluatePathDistance(most_fit), most_fit, min_distances"
   ]
  },
  {
   "cell_type": "markdown",
   "metadata": {},
   "source": [
    "# Nearest Neighbor\n",
    "\n",
    "### The Basic Idea\n",
    "* Very simple algorithm, choose point at random.\n",
    "* Find point closest to current point\n",
    "* Make that point the current point\n",
    "* Repeat until out of points"
   ]
  },
  {
   "cell_type": "code",
   "execution_count": 14,
   "metadata": {
    "collapsed": true
   },
   "outputs": [],
   "source": [
    "def nearestNeighbor(points):\n",
    "    points = points.copy()\n",
    "    length = len(points)\n",
    "    nearestNeighbors = []\n",
    "    \n",
    "    curr = random.sample(points,1)[0] # sample and remove function..?\n",
    "    points.remove(curr)\n",
    "    nearestNeighbors.append(curr)\n",
    "    \n",
    "    while len(nearestNeighbors) < length:\n",
    "        min_distance = 10000000000  # a large number...... int.max\n",
    "        for ix, x in enumerate(points):\n",
    "            distance_from_current = math.hypot(x[0] - curr[0], x[1] - curr[1])\n",
    "            if distance_from_current < min_distance:\n",
    "                min_distance, min_d_ix = distance_from_current, ix\n",
    "        \n",
    "        curr = points.pop(min_d_ix)\n",
    "        nearestNeighbors.append(curr)\n",
    "    return evaluatePathDistance(nearestNeighbors), nearestNeighbors"
   ]
  },
  {
   "cell_type": "markdown",
   "metadata": {},
   "source": [
    "# Sorted Edges Algorithm"
   ]
  },
  {
   "cell_type": "code",
   "execution_count": 20,
   "metadata": {
    "collapsed": false
   },
   "outputs": [
    {
     "name": "stdout",
     "output_type": "stream",
     "text": [
      "[(83, 98), (4, 28), (48, 23), (52, 18), (90, 80), (69, 75), (7, 40), (78, 1), (51, 62)]\n"
     ]
    }
   ],
   "source": [
    "class Graph(object):\n",
    "\n",
    "    def __init__(self, graph_dict={}):\n",
    "        \"\"\" initializes a graph object \"\"\"\n",
    "        self.__graph_dict = graph_dict\n",
    "        # {(2,3): [(4,5),(6,7)]}\n",
    "        # {(4,5): [(2,3),(6,7)]}\n",
    "    \n",
    "    def getGraph(self):\n",
    "        return self.__graph_dict\n",
    "\n",
    "    def vertices(self):\n",
    "        \"\"\" returns the vertices of a graph \"\"\"\n",
    "        return list(self.__graph_dict.keys())\n",
    "    \n",
    "    def vertex_degree(self, vertex):\n",
    "        \"\"\" The degree of a vertex is the number of edges connecting\n",
    "            it, i.e. the number of adjacent vertices. Loops are counted \n",
    "            double, i.e. every occurence of vertex in the list \n",
    "            of adjacent vertices. \"\"\" \n",
    "        adj_vertices =  self.__graph_dict[vertex]\n",
    "        total = 0\n",
    "        for vert in self.vertices():\n",
    "            if vert != vertex:\n",
    "                if vertex in self.__graph_dict[vert]:\n",
    "                    total += 1\n",
    "        degree = len(adj_vertices) + total\n",
    "        return degree\n",
    "    \n",
    "    def add_edge(self, edge):\n",
    "        \"\"\" assumes that edge is of type set, tuple or list; \n",
    "            between two vertices can be multiple edges! \n",
    "        \"\"\"\n",
    "        edge = set(edge)\n",
    "        (vertex1, vertex2) = tuple(edge)\n",
    "        if vertex1 in self.__graph_dict:\n",
    "            self.__graph_dict[vertex1].append(vertex2)\n",
    "        else:\n",
    "            self.__graph_dict[vertex1] = [vertex2]\n",
    "    \n",
    "    #def plot(self, annotate=False):\n",
    "        \n",
    "        #drawPath(self.vertices(), annotate=annotate, graph_type='scatter')\n",
    "        #plt.scatter(*zip(*self.vertices()))\n",
    "    \n",
    "    def plot_all_edges(self):\n",
    "        plt.plot(*zip(*itertools.chain(*sorted(itertools.combinations(self.vertices(),2), key=lambda edge: math.hypot(edge[1][0] - edge[0][0], edge[1][1] - edge[0][1])))))\n",
    "    #def plot(self):\n",
    "\n",
    "g = Graph()\n",
    "for x in sorted(itertools.combinations(points,2), key=lambda edge: math.hypot(edge[1][0] - edge[0][0], edge[1][1] - edge[0][1])):\n",
    "    g.add_edge(x)\n",
    "print(g.vertices())"
   ]
  },
  {
   "cell_type": "code",
   "execution_count": 21,
   "metadata": {
    "collapsed": false
   },
   "outputs": [
    {
     "data": {
      "text/plain": [
       "{(4, 28): [],\n",
       " (7, 40): [],\n",
       " (48, 23): [],\n",
       " (51, 62): [],\n",
       " (52, 18): [],\n",
       " (63, 57): [],\n",
       " (69, 75): [],\n",
       " (78, 1): [],\n",
       " (83, 98): [],\n",
       " (90, 80): []}"
      ]
     },
     "execution_count": 21,
     "metadata": {},
     "output_type": "execute_result"
    }
   ],
   "source": [
    "dict(zip(points,[[] for _ in points]))"
   ]
  },
  {
   "cell_type": "code",
   "execution_count": 18,
   "metadata": {
    "collapsed": false
   },
   "outputs": [
    {
     "ename": "NameError",
     "evalue": "name 'Graph' is not defined",
     "output_type": "error",
     "traceback": [
      "\u001b[0;31m---------------------------------------------------------------------------\u001b[0m",
      "\u001b[0;31mNameError\u001b[0m                                 Traceback (most recent call last)",
      "\u001b[0;32m<ipython-input-18-adfb8fbe999c>\u001b[0m in \u001b[0;36m<module>\u001b[0;34m()\u001b[0m\n\u001b[0;32m----> 1\u001b[0;31m \u001b[0mg\u001b[0m \u001b[0;34m=\u001b[0m \u001b[0mGraph\u001b[0m\u001b[0;34m(\u001b[0m\u001b[0mdict\u001b[0m\u001b[0;34m(\u001b[0m\u001b[0mzip\u001b[0m\u001b[0;34m(\u001b[0m\u001b[0mpoints\u001b[0m\u001b[0;34m,\u001b[0m\u001b[0;34m[\u001b[0m\u001b[0;34m[\u001b[0m\u001b[0;34m]\u001b[0m \u001b[0;32mfor\u001b[0m \u001b[0m_\u001b[0m \u001b[0;32min\u001b[0m \u001b[0mpoints\u001b[0m\u001b[0;34m]\u001b[0m\u001b[0;34m)\u001b[0m\u001b[0;34m)\u001b[0m\u001b[0;34m)\u001b[0m\u001b[0;34m\u001b[0m\u001b[0m\n\u001b[0m\u001b[1;32m      2\u001b[0m \u001b[0mg\u001b[0m\u001b[0;34m.\u001b[0m\u001b[0mvertices\u001b[0m\u001b[0;34m(\u001b[0m\u001b[0;34m)\u001b[0m\u001b[0;34m\u001b[0m\u001b[0m\n",
      "\u001b[0;31mNameError\u001b[0m: name 'Graph' is not defined"
     ]
    }
   ],
   "source": [
    "g = Graph(dict(zip(points,[[] for _ in points])))\n",
    "g.vertices()"
   ]
  },
  {
   "cell_type": "code",
   "execution_count": 69,
   "metadata": {
    "collapsed": false
   },
   "outputs": [],
   "source": [
    "count = 0\n",
    "for edge in sorted(itertools.combinations(points,2), key=lambda edge: math.hypot(edge[1][0] - edge[0][0], edge[1][1] - edge[0][1])):\n",
    "    if count < len(g.vertices()):\n",
    "        if (g.vertex_degree(edge[0]) + g.vertex_degree(edge[1])) < 2:\n",
    "            g.add_edge(edge)\n",
    "            count += 1"
   ]
  },
  {
   "cell_type": "code",
   "execution_count": 52,
   "metadata": {
    "collapsed": true
   },
   "outputs": [],
   "source": [
    "g.add_edge([(43,52),(75,26)])"
   ]
  },
  {
   "cell_type": "code",
   "execution_count": 53,
   "metadata": {
    "collapsed": false
   },
   "outputs": [
    {
     "data": {
      "text/plain": [
       "1"
      ]
     },
     "execution_count": 53,
     "metadata": {},
     "output_type": "execute_result"
    }
   ],
   "source": [
    "g.vertex_degree((43,52))"
   ]
  },
  {
   "cell_type": "code",
   "execution_count": 70,
   "metadata": {
    "collapsed": false
   },
   "outputs": [
    {
     "data": {
      "text/plain": [
       "{(2, 92): [],\n",
       " (13, 9): [(43, 52)],\n",
       " (42, 62): [(44, 60), (56, 61)],\n",
       " (43, 52): [],\n",
       " (44, 60): [(43, 52)],\n",
       " (56, 61): [],\n",
       " (75, 26): [(56, 61)],\n",
       " (80, 74): [],\n",
       " (83, 83): [(80, 74), (2, 92)],\n",
       " (91, 68): [(80, 74)]}"
      ]
     },
     "execution_count": 70,
     "metadata": {},
     "output_type": "execute_result"
    }
   ],
   "source": [
    "g.getGraph()"
   ]
  },
  {
   "cell_type": "code",
   "execution_count": null,
   "metadata": {
    "collapsed": true
   },
   "outputs": [],
   "source": [
    "for key in g.getGraph().keys():\n",
    "    if "
   ]
  },
  {
   "cell_type": "code",
   "execution_count": null,
   "metadata": {
    "collapsed": true
   },
   "outputs": [],
   "source": [
    "# sum of degrees of vertices of edges must be < 2 for n_edges < n\n",
    "def sortedEdges(points):\n",
    "    # edges sorted by distance\n",
    "    edges = sorted(itertools.combinations(points,2), key=lambda edge: math.hypot(edge[1][0] - edge[0][0], edge[1][1] - edge[0][1]))\n",
    "    \n",
    "    curr = edges[0]\n",
    "    "
   ]
  },
  {
   "cell_type": "code",
   "execution_count": 14,
   "metadata": {
    "collapsed": false
   },
   "outputs": [],
   "source": [
    "#for x in sorted(itertools.combinations(points,2), key=lambda edge: math.hypot(edge[1][0] - edge[0][0], edge[1][1] - edge[0][1])):\n",
    "#    print(x, math.hypot(x[1][0] - x[0][0], x[1][1] - x[0][1]))"
   ]
  },
  {
   "cell_type": "code",
   "execution_count": 15,
   "metadata": {
    "collapsed": false
   },
   "outputs": [],
   "source": [
    "#test = generateUniquePoints(10,10,20)\n",
    "#print(test)\n",
    "#for x in itertools.combinations(test, 2):\n",
    "#    print(x)"
   ]
  },
  {
   "cell_type": "code",
   "execution_count": null,
   "metadata": {
    "collapsed": true
   },
   "outputs": [],
   "source": []
  },
  {
   "cell_type": "code",
   "execution_count": null,
   "metadata": {
    "collapsed": true
   },
   "outputs": [],
   "source": []
  },
  {
   "cell_type": "markdown",
   "metadata": {},
   "source": [
    "# Graphing Stuff Now"
   ]
  },
  {
   "cell_type": "code",
   "execution_count": 16,
   "metadata": {
    "collapsed": false
   },
   "outputs": [],
   "source": [
    "def drawPath(points, annotate=False, graph_type='line'):\n",
    "    \"\"\"\n",
    "        Creates a graph of the points\n",
    "        and optionally annotates it with\n",
    "        the cartesian coordinates.\n",
    "    \"\"\"\n",
    "    xs, ys = zip(*points)\n",
    "    xs, ys = list(xs), list(ys)\n",
    "    xs.append(xs[0])\n",
    "    ys.append(ys[0])\n",
    "    fig = plt.figure()\n",
    "    ax = plt.subplot(111)\n",
    "    \n",
    "    if graph_type == 'line':\n",
    "        plt.plot(xs,ys)\n",
    "    elif graph_type == 'scatter':\n",
    "        plt.scatter(xs,ys)\n",
    "    \n",
    "    if annotate:\n",
    "        for xy in zip(xs, ys):                                      \n",
    "            ax.annotate('(%s, %s)' % xy, xy=xy)  # thank you stack overflow"
   ]
  },
  {
   "cell_type": "code",
   "execution_count": 17,
   "metadata": {
    "collapsed": false
   },
   "outputs": [
    {
     "data": {
      "image/png": "[encoded data removed]",
      "text/plain": [
       "<matplotlib.figure.Figure at 0x10a971e80>"
      ]
     },
     "metadata": {},
     "output_type": "display_data"
    }
   ],
   "source": [
    "drawPath(points, annotate=True, graph_type='scatter')"
   ]
  },
  {
   "cell_type": "code",
   "execution_count": 18,
   "metadata": {
    "collapsed": false
   },
   "outputs": [
    {
     "name": "stdout",
     "output_type": "stream",
     "text": [
      "314.3819835532617\n"
     ]
    },
    {
     "data": {
      "image/png": "[encoded data removed]",
      "text/plain": [
       "<matplotlib.figure.Figure at 0x10a978860>"
      ]
     },
     "metadata": {},
     "output_type": "display_data"
    }
   ],
   "source": [
    "mindistance, minpath = bruteForceTS(points)\n",
    "print(mindistance)\n",
    "drawPath(list(minpath))"
   ]
  },
  {
   "cell_type": "code",
   "execution_count": 22,
   "metadata": {
    "collapsed": false
   },
   "outputs": [
    {
     "name": "stdout",
     "output_type": "stream",
     "text": [
      "321.15692503626826\n"
     ]
    },
    {
     "data": {
      "image/png": "[encoded data removed]",
      "text/plain": [
       "<matplotlib.figure.Figure at 0x10ab7e748>"
      ]
     },
     "metadata": {},
     "output_type": "display_data"
    }
   ],
   "source": [
    "n_generations = 100\n",
    "population_size = 10\n",
    "mutation_percentage_chance = 0\n",
    "\n",
    "min_ga_dist, min_ga_path, min_ga_distances = greedyGA(n_generations, points, population_size, mutation_percentage_chance)\n",
    "\n",
    "print(min_ga_dist)\n",
    "drawPath(min_ga_path)"
   ]
  },
  {
   "cell_type": "code",
   "execution_count": 28,
   "metadata": {
    "collapsed": false
   },
   "outputs": [
    {
     "name": "stdout",
     "output_type": "stream",
     "text": [
      "323.80139365547836\n"
     ]
    },
    {
     "data": {
      "image/png": "[encoded data removed]",
      "text/plain": [
       "<matplotlib.figure.Figure at 0x1140da470>"
      ]
     },
     "metadata": {},
     "output_type": "display_data"
    }
   ],
   "source": [
    "min_nn_distance, min_nn_path = nearestNeighbor(points)\n",
    "print(min_nn_distance)\n",
    "\n",
    "drawPath(min_nn_path)"
   ]
  },
  {
   "cell_type": "markdown",
   "metadata": {
    "collapsed": false
   },
   "source": [
    "# Line Segment Intersection"
   ]
  },
  {
   "cell_type": "code",
   "execution_count": 87,
   "metadata": {
    "collapsed": false
   },
   "outputs": [],
   "source": [
    "# converted to python from \n",
    "# http://stackoverflow.com/questions/563198/how-do-you-detect-where-two-line-segments-intersect\n",
    "\n",
    "def doLineSegmentsIntersect(p, p2, q, q2):\n",
    "    \"\"\"\n",
    "        Method for testing wheter or not line segments \n",
    "        from p-p2 and q-q2 intersect. I do not fully understand thi\n",
    "        at the moment. Looking to talk with Prof Buskin.\n",
    "    \"\"\"\n",
    "    r = subtractPoints(p2, p)\n",
    "    s = subtractPoints(q2, q)\n",
    "    \n",
    "    uNumerator = crossProduct(subtractPoints(q, p), r)\n",
    "    denominator = crossProduct(r, s)\n",
    "\n",
    "    if (uNumerator == 0 and denominator == 0):\n",
    "        # They are coLlinear\n",
    "\n",
    "        # Do they touch? (Are any of the points equal?)\n",
    "        if (equalPoints(p, q) or equalPoints(p, q2) or equalPoints(p2, q) or equalPoints(p2, q2)):\n",
    "            return True\n",
    "        \n",
    "        # Do they overlap? (Are all the point differences in either direction the same sign)\n",
    "        # Using != as exclusive or\n",
    "        return ((q[0] - p[0] < 0) != (q[0] - p2[0] < 0) != (q2[0] - p[0] < 0) != (q2[0] - p2[0] < 0)) or ((q[1] - p[1] < 0) != (q[1] - p2[1] < 0) != (q2[1] - p[1] < 0) != (q2[1] - p2[1] < 0))\n",
    "\n",
    "    if (denominator == 0):\n",
    "        # lines are paralell\n",
    "        return False\n",
    "\n",
    "    u = uNumerator / denominator\n",
    "    t = crossProduct(subtractPoints(q, p), s) / denominator\n",
    "\n",
    "    return (t > 0) and (t < 1) and (u > 0) and (u < 1)  # had problems when line segments overlap on 1 point \n",
    "\n",
    "\n",
    "\n",
    "def crossProduct(point1, point2):\n",
    "    return point1[0] * point2[1] - point1[1] * point2[0]\n",
    "\n",
    "\n",
    "\n",
    "def subtractPoints(point1, point2): \n",
    "    return (point1[0] - point2[0], point1[1] - point2[1])\n",
    "\n",
    "\n",
    "def equalPoints(point1, point2):\n",
    "    return (point1[0] == point2[1]) and (point1[1] == point2[1])"
   ]
  },
  {
   "cell_type": "code",
   "execution_count": 88,
   "metadata": {
    "collapsed": false
   },
   "outputs": [],
   "source": [
    "def getPathCrosses(path):\n",
    "    \"\"\"\n",
    "        Given a path, this functions returns the number of line crosses are\n",
    "        in the path. (not sure if this works....need to test further)\n",
    "    \"\"\"\n",
    "    count = 0\n",
    "    links = getLinks(path)\n",
    "    for ix,(a,b) in enumerate(links):\n",
    "        for x in range(ix+1, len(links)):\n",
    "            if x < len(links)-1:\n",
    "                if doLineSegmentsIntersect(a,b,links[x][0],links[x][1]):\n",
    "                    count += 1\n",
    "            else:\n",
    "                if doLineSegmentsIntersect(a,b,links[0][0],links[0][1]):\n",
    "                    count += 1\n",
    "    return count"
   ]
  },
  {
   "cell_type": "code",
   "execution_count": 89,
   "metadata": {
    "collapsed": false
   },
   "outputs": [
    {
     "data": {
      "text/plain": [
       "0"
      ]
     },
     "execution_count": 89,
     "metadata": {},
     "output_type": "execute_result"
    }
   ],
   "source": [
    "# Number of crosses in the optimal path calculated\n",
    "# from the brute force method\n",
    "getPathCrosses(minpath)\n",
    "\n",
    "# The solution to the TSP will always be a simple polygon (no line crosses)\n",
    "# http://www.ams.org/samplings/feature-column/fcarc-tsp"
   ]
  },
  {
   "cell_type": "code",
   "execution_count": 90,
   "metadata": {
    "collapsed": false
   },
   "outputs": [
    {
     "data": {
      "text/plain": [
       "0"
      ]
     },
     "execution_count": 90,
     "metadata": {},
     "output_type": "execute_result"
    }
   ],
   "source": [
    "getPathCrosses(min_ga_path)"
   ]
  },
  {
   "cell_type": "code",
   "execution_count": 255,
   "metadata": {
    "collapsed": true
   },
   "outputs": [],
   "source": [
    "points = generateUniquePoints(20,100,100)"
   ]
  },
  {
   "cell_type": "code",
   "execution_count": 25,
   "metadata": {
    "collapsed": false
   },
   "outputs": [
    {
     "data": {
      "text/plain": [
       "5"
      ]
     },
     "execution_count": 25,
     "metadata": {},
     "output_type": "execute_result"
    }
   ],
   "source": [
    "len(population)"
   ]
  },
  {
   "cell_type": "code",
   "execution_count": 23,
   "metadata": {
    "collapsed": false
   },
   "outputs": [
    {
     "data": {
      "text/plain": [
       "[<matplotlib.lines.Line2D at 0x106ebe710>]"
      ]
     },
     "execution_count": 23,
     "metadata": {},
     "output_type": "execute_result"
    },
    {
     "data": {
      "image/png": "[encoded data removed]",
      "text/plain": [
       "<matplotlib.figure.Figure at 0x1054d2c18>"
      ]
     },
     "metadata": {},
     "output_type": "display_data"
    }
   ],
   "source": [
    "plt.plot(*zip(*[(x,y) for x,y in enumerate(min_ga_distances)]))"
   ]
  },
  {
   "cell_type": "code",
   "execution_count": 147,
   "metadata": {
    "collapsed": false
   },
   "outputs": [
    {
     "data": {
      "text/plain": [
       "293.40781229745437"
      ]
     },
     "execution_count": 147,
     "metadata": {},
     "output_type": "execute_result"
    }
   ],
   "source": [
    "mindistance"
   ]
  },
  {
   "cell_type": "code",
   "execution_count": 20,
   "metadata": {
    "collapsed": false
   },
   "outputs": [],
   "source": [
    "#min_ga_distances"
   ]
  },
  {
   "cell_type": "code",
   "execution_count": 200,
   "metadata": {
    "collapsed": false
   },
   "outputs": [],
   "source": [
    "test = [(99, 39),\n",
    " (96, 49),\n",
    " (88, 10),\n",
    " (43, 99)]"
   ]
  },
  {
   "cell_type": "code",
   "execution_count": 204,
   "metadata": {
    "collapsed": false
   },
   "outputs": [],
   "source": [
    "ls1 = ((99, 39),(96, 49))\n",
    "ls2 = ((88, 10),(43, 99))"
   ]
  },
  {
   "cell_type": "code",
   "execution_count": 206,
   "metadata": {
    "collapsed": false
   },
   "outputs": [
    {
     "data": {
      "text/plain": [
       "(-50.40625,)"
      ]
     },
     "execution_count": 206,
     "metadata": {},
     "output_type": "execute_result"
    }
   ],
   "source": [
    "ls1[1][1]-ls1[0][1]/ls1[1][0]-ls1[0][0],"
   ]
  },
  {
   "cell_type": "code",
   "execution_count": 207,
   "metadata": {
    "collapsed": false
   },
   "outputs": [
    {
     "data": {
      "text/plain": [
       "(10.767441860465112,)"
      ]
     },
     "execution_count": 207,
     "metadata": {},
     "output_type": "execute_result"
    }
   ],
   "source": [
    "ls2[1][1]-ls2[0][1]/ls2[1][0]-ls2[0][0],"
   ]
  },
  {
   "cell_type": "code",
   "execution_count": null,
   "metadata": {
    "collapsed": true
   },
   "outputs": [],
   "source": [
    "(y-39) = 50.4(x-99)"
   ]
  },
  {
   "cell_type": "code",
   "execution_count": 208,
   "metadata": {
    "collapsed": false
   },
   "outputs": [
    {
     "data": {
      "text/plain": [
       "183"
      ]
     },
     "execution_count": 208,
     "metadata": {},
     "output_type": "execute_result"
    }
   ],
   "source": [
    "xdiff = (ls1[0][0] - ls1[1][0], ls2[0][0] - ls2[1][0])\n",
    "ydiff = (ls1[0][1] - ls1[1][1], ls2[0][1] - ls2[1][1]) #Typo was here\n",
    "\n",
    "def det(a, b):\n",
    "    return a[0] * b[1] - a[1] * b[0]\n",
    "\n",
    "det(xdiff,ydiff)"
   ]
  },
  {
   "cell_type": "code",
   "execution_count": 252,
   "metadata": {
    "collapsed": false
   },
   "outputs": [],
   "source": [
    "def line_intersection(line1, line2):\n",
    "    xdiff = (line1[0][0] - line1[1][0], line2[0][0] - line2[1][0])\n",
    "    ydiff = (line1[0][1] - line1[1][1], line2[0][1] - line2[1][1])\n",
    "\n",
    "    def det(a, b):\n",
    "        return a[0] * b[1] - a[1] * b[0]\n",
    "\n",
    "    div = det(xdiff, ydiff)\n",
    "    if div == 0:\n",
    "        return False\n",
    "\n",
    "    d = (det(*line1), det(*line2))\n",
    "    x = det(d, xdiff) / div\n",
    "    y = det(d, ydiff) / div\n",
    "    return (min([line1[0][0],line1[1][0]]) < x < max([line1[0][0],line1[1][0]])) and \\\n",
    "           (min([line2[0][1],line2[1][1]]) < y < max([line2[0][1],line2[1][1]]))"
   ]
  },
  {
   "cell_type": "code",
   "execution_count": 213,
   "metadata": {
    "collapsed": false
   },
   "outputs": [
    {
     "data": {
      "text/plain": [
       "(136.44262295081967,\n",
       " -85.80874316939891,\n",
       " ((99, 39), (96, 49)),\n",
       " ((88, 10), (43, 99)))"
      ]
     },
     "execution_count": 213,
     "metadata": {},
     "output_type": "execute_result"
    }
   ],
   "source": [
    "x in range(sorted([line1[0],line2[0]]))"
   ]
  },
  {
   "cell_type": "code",
   "execution_count": 214,
   "metadata": {
    "collapsed": false
   },
   "outputs": [
    {
     "data": {
      "text/plain": [
       "False"
      ]
     },
     "execution_count": 214,
     "metadata": {},
     "output_type": "execute_result"
    }
   ],
   "source": [
    "doLineSegmentsIntersect((99, 39),(96, 49),(88, 10), (43, 99))"
   ]
  },
  {
   "cell_type": "code",
   "execution_count": 240,
   "metadata": {
    "collapsed": false
   },
   "outputs": [
    {
     "data": {
      "text/plain": [
       "False"
      ]
     },
     "execution_count": 240,
     "metadata": {},
     "output_type": "execute_result"
    }
   ],
   "source": [
    "line_intersection(ls1,ls2)"
   ]
  },
  {
   "cell_type": "code",
   "execution_count": 243,
   "metadata": {
    "collapsed": false
   },
   "outputs": [],
   "source": [
    "def testPathCrosses(path):\n",
    "    \"\"\"\n",
    "        Given a path, this functions returns the number of line crosses are\n",
    "        in the path. (not sure if this works....need to test further)\n",
    "    \"\"\"\n",
    "    count = 0\n",
    "    links = getLinks(path)\n",
    "    for ix,(a,b) in enumerate(links):\n",
    "        for x in range(ix+1, len(links)):\n",
    "            if x < len(links)-1:\n",
    "                print(doLineSegmentsIntersect(a,b,links[x][0],links[x][1]),line_intersection((a,b),(links[x][0],links[x][1])))\n",
    "            else:\n",
    "                print(doLineSegmentsIntersect(a,b,links[0][0],links[0][1]),line_intersection((a,b),(links[0][0],links[0][1])))\n",
    "    return count"
   ]
  },
  {
   "cell_type": "code",
   "execution_count": 234,
   "metadata": {
    "collapsed": false
   },
   "outputs": [
    {
     "data": {
      "text/plain": [
       "False"
      ]
     },
     "execution_count": 234,
     "metadata": {},
     "output_type": "execute_result"
    }
   ],
   "source": [
    "96 < 136.44262295081967 < 99"
   ]
  },
  {
   "cell_type": "code",
   "execution_count": 235,
   "metadata": {
    "collapsed": false
   },
   "outputs": [
    {
     "ename": "SyntaxError",
     "evalue": "invalid syntax (<ipython-input-235-5c8ab82fb824>, line 1)",
     "output_type": "error",
     "traceback": [
      "\u001b[0;36m  File \u001b[0;32m\"<ipython-input-235-5c8ab82fb824>\"\u001b[0;36m, line \u001b[0;32m1\u001b[0m\n\u001b[0;31m    136.44262295081967 between 96 and 99\u001b[0m\n\u001b[0m                             ^\u001b[0m\n\u001b[0;31mSyntaxError\u001b[0m\u001b[0;31m:\u001b[0m invalid syntax\n"
     ]
    }
   ],
   "source": [
    "136.44262295081967 between 96 and 99"
   ]
  },
  {
   "cell_type": "code",
   "execution_count": 259,
   "metadata": {
    "collapsed": false
   },
   "outputs": [
    {
     "name": "stdout",
     "output_type": "stream",
     "text": [
      "False False\n",
      "False False\n",
      "False False\n",
      "False False\n",
      "False False\n",
      "False False\n",
      "False False\n",
      "False False\n",
      "False False\n",
      "False False\n",
      "False False\n",
      "False False\n",
      "False False\n",
      "False False\n",
      "False False\n",
      "False False\n",
      "False False\n",
      "False False\n",
      "False False\n",
      "False False\n",
      "False False\n",
      "False False\n",
      "False False\n",
      "False False\n",
      "False False\n",
      "False False\n",
      "False False\n",
      "False False\n",
      "False False\n",
      "False False\n",
      "False False\n",
      "False False\n",
      "False False\n",
      "False False\n",
      "False False\n",
      "False False\n",
      "False False\n",
      "False False\n",
      "False False\n",
      "False False\n",
      "False False\n",
      "False False\n",
      "False False\n",
      "False False\n",
      "False False\n",
      "False False\n",
      "False False\n",
      "False False\n",
      "False False\n",
      "False False\n",
      "False False\n",
      "False False\n",
      "False False\n",
      "False False\n",
      "False False\n",
      "False False\n",
      "False False\n",
      "False False\n",
      "False False\n",
      "False False\n",
      "False False\n",
      "False False\n",
      "False False\n",
      "False False\n",
      "False False\n",
      "False False\n",
      "False False\n",
      "False False\n",
      "False False\n",
      "False False\n",
      "False False\n",
      "False False\n",
      "False False\n",
      "False False\n",
      "False False\n",
      "False False\n",
      "False False\n",
      "False False\n",
      "False False\n",
      "False False\n",
      "False False\n",
      "False False\n",
      "False False\n",
      "False False\n",
      "False False\n",
      "False False\n",
      "False False\n",
      "False False\n",
      "False False\n",
      "False False\n",
      "False False\n",
      "False False\n",
      "False False\n",
      "False False\n",
      "False False\n",
      "False False\n",
      "False False\n",
      "False False\n",
      "False False\n",
      "False False\n",
      "False False\n",
      "False False\n",
      "False False\n",
      "False False\n",
      "False False\n",
      "False False\n",
      "False False\n",
      "False False\n",
      "False False\n",
      "False False\n",
      "False False\n",
      "False False\n",
      "False False\n",
      "False False\n",
      "False False\n",
      "False False\n",
      "False False\n",
      "False False\n",
      "False False\n",
      "False False\n",
      "False False\n",
      "False False\n",
      "False False\n",
      "False False\n",
      "False False\n",
      "False False\n",
      "False False\n",
      "False False\n",
      "False False\n",
      "False False\n",
      "False False\n",
      "False False\n",
      "False False\n",
      "False False\n",
      "False False\n",
      "False False\n",
      "False False\n",
      "False False\n",
      "False False\n",
      "False False\n",
      "False False\n",
      "False False\n",
      "False False\n",
      "False False\n",
      "False False\n",
      "False False\n",
      "True True\n",
      "False False\n",
      "False False\n",
      "False False\n",
      "False False\n",
      "False False\n",
      "False False\n",
      "False False\n",
      "False False\n",
      "False False\n",
      "False False\n",
      "False False\n",
      "False False\n",
      "False False\n",
      "False False\n",
      "False False\n",
      "False False\n",
      "False False\n",
      "False False\n",
      "False False\n",
      "False False\n",
      "False False\n",
      "False False\n",
      "False False\n",
      "True True\n",
      "False False\n",
      "False False\n",
      "False False\n",
      "False False\n",
      "False False\n",
      "False False\n",
      "False False\n",
      "False False\n",
      "False False\n",
      "False False\n",
      "False False\n",
      "False False\n",
      "False False\n",
      "False False\n",
      "False False\n",
      "False False\n",
      "False False\n",
      "False False\n",
      "False False\n"
     ]
    },
    {
     "data": {
      "text/plain": [
       "0"
      ]
     },
     "execution_count": 259,
     "metadata": {},
     "output_type": "execute_result"
    }
   ],
   "source": [
    "testPathCrosses(min_nn_path)"
   ]
  },
  {
   "cell_type": "code",
   "execution_count": 260,
   "metadata": {
    "collapsed": true
   },
   "outputs": [],
   "source": [
    "x = {(1,2):(3,4)}"
   ]
  },
  {
   "cell_type": "code",
   "execution_count": 261,
   "metadata": {
    "collapsed": false
   },
   "outputs": [
    {
     "data": {
      "text/plain": [
       "{(1, 2): (3, 4)}"
      ]
     },
     "execution_count": 261,
     "metadata": {},
     "output_type": "execute_result"
    }
   ],
   "source": [
    "x"
   ]
  },
  {
   "cell_type": "code",
   "execution_count": 268,
   "metadata": {
    "collapsed": false
   },
   "outputs": [
    {
     "data": {
      "text/plain": [
       "[<matplotlib.lines.Line2D at 0x10fd7bd68>]"
      ]
     },
     "execution_count": 268,
     "metadata": {},
     "output_type": "execute_result"
    },
    {
     "data": {
      "image/png": "[encoded data removed]",
      "text/plain": [
       "<matplotlib.figure.Figure at 0x110202d68>"
      ]
     },
     "metadata": {},
     "output_type": "display_data"
    }
   ],
   "source": [
    "#g = Graph()\n",
    "#for p1,p2 in sorted(itertools.combinations(points,2), key=lambda edge: math.hypot(edge[1][0] - edge[0][0], edge[1][1] - edge[0][1])):\n",
    "#    g.add_edge(x)\n",
    "#print(g.vertices())\n",
    "\n",
    "#xs, ys = zip(*itertools.chain(*sorted(itertools.combinations(points,2), key=lambda edge: math.hypot(edge[1][0] - edge[0][0], edge[1][1] - edge[0][1]))))\n",
    "plt.plot(*zip(*itertools.chain(*sorted(itertools.combinations(points,2), key=lambda edge: math.hypot(edge[1][0] - edge[0][0], edge[1][1] - edge[0][1])))))"
   ]
  },
  {
   "cell_type": "code",
   "execution_count": 273,
   "metadata": {
    "collapsed": false
   },
   "outputs": [
    {
     "data": {
      "image/png": "[encoded data removed]",
      "text/plain": [
       "<matplotlib.figure.Figure at 0x10fb2ea90>"
      ]
     },
     "metadata": {},
     "output_type": "display_data"
    }
   ],
   "source": [
    "g.plot_all_edges()"
   ]
  },
  {
   "cell_type": "code",
   "execution_count": 282,
   "metadata": {
    "collapsed": false
   },
   "outputs": [
    {
     "data": {
      "image/png": "[encoded data removed]",
      "text/plain": [
       "<matplotlib.figure.Figure at 0x1109a31d0>"
      ]
     },
     "metadata": {},
     "output_type": "display_data"
    }
   ],
   "source": [
    "g.plot(annotate=True)"
   ]
  },
  {
   "cell_type": "code",
   "execution_count": null,
   "metadata": {
    "collapsed": true
   },
   "outputs": [],
   "source": []
  },
  {
   "cell_type": "code",
   "execution_count": null,
   "metadata": {
    "collapsed": true
   },
   "outputs": [],
   "source": []
  }
 ],
 "metadata": {
  "kernelspec": {
   "display_name": "Python 3",
   "language": "python",
   "name": "python3"
  },
  "language_info": {
   "codemirror_mode": {
    "name": "ipython",
    "version": 3
   },
   "file_extension": ".py",
   "mimetype": "text/x-python",
   "name": "python",
   "nbconvert_exporter": "python",
   "pygments_lexer": "ipython3",
   "version": "3.5.1"
  },
  "widgets": {
   "state": {},
   "version": "1.1.2"
  }
 },
 "nbformat": 4,
 "nbformat_minor": 0
}
