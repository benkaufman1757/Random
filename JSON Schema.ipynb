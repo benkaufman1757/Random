{
 "cells": [
  {
   "cell_type": "code",
   "execution_count": 83,
   "metadata": {
    "collapsed": true
   },
   "outputs": [],
   "source": [
    "from jsonschema import validate\n",
    "full_stream = {'stream_name': 'test_stream_ignore',\n",
    "                            'stream_tables': [{'table_name': 'test_table_ignore',\n",
    "                                               'columns': [{'column_nullable_flag': False,\n",
    "                                                            'column_type': 'STRING',\n",
    "                                                            'column_name': 'col1'}]},\n",
    "                                              {'table_name': 'test_table_ignore2',\n",
    "                                               'columns': [{'column_nullable_flag': True,\n",
    "                                                            'column_type': 'INT8',\n",
    "                                                            'column_name': 'col2'},\n",
    "                                                           {'column_nullable_flag': False,\n",
    "                                                            'column_type': 'INT8',\n",
    "                                                            'column_name': 'col3'}]}]\n",
    "                            }"
   ]
  },
  {
   "cell_type": "code",
   "execution_count": 79,
   "metadata": {
    "collapsed": false
   },
   "outputs": [],
   "source": [
    "minimum_stream_definition_schema = {\n",
    "    \"title\": \"Stream Definition Schema\",\n",
    "\t\"type\": \"object\",\n",
    "\t\"properties\": {\n",
    "\t\t\"stream_name\": {\n",
    "\t\t\t\"type\": \"string\",\n",
    "            \"pattern\": r\"^[a-zA-Z0-9_]*$\",\n",
    "            \"min_length\": 3,\n",
    "            \"max_length\": 50\n",
    "\t\t},\n",
    "\t\t\"stream_tables\": {\n",
    "\t\t\t\"type\": \"array\"\n",
    "\t\t}\n",
    "    },\n",
    "\t\"required\": [\"stream_name\"],\n",
    "    \"additionalProperties\": False\n",
    "}"
   ]
  },
  {
   "cell_type": "code",
   "execution_count": 80,
   "metadata": {
    "collapsed": false
   },
   "outputs": [],
   "source": [
    "validate(full_stream, minimum_stream_definition_schema)"
   ]
  },
  {
   "cell_type": "code",
   "execution_count": 84,
   "metadata": {
    "collapsed": true
   },
   "outputs": [],
   "source": [
    "stream_definition_schema = {\n",
    "    \"title\": \"Stream Definition Schema\",\n",
    "\t\"type\": \"object\",\n",
    "\t\"properties\": {\n",
    "\t\t\"stream_name\": {\n",
    "\t\t\t\"type\": \"string\",\n",
    "            \"pattern\": r\"^[a-zA-Z0-9_]*$\",\n",
    "            \"min_length\": 3,\n",
    "            \"max_length\": 50\n",
    "\t\t},\n",
    "\t\t\"stream_tables\": {\n",
    "\t\t\t\"type\": \"array\",\n",
    "            \"items\": {\n",
    "                \"properties\": {\n",
    "                    \"table_name\": {\n",
    "                        \"type\": \"string\",\n",
    "                        \"pattern\": r\"^[a-zA-Z0-9_]*$\",\n",
    "                        \"min_length\": 3,\n",
    "                        \"max_length\": 50\n",
    "                    },\n",
    "                    \"columns\": {\n",
    "                        \"type\": \"array\",\n",
    "                        \"minItems\": 1,\n",
    "                        \"items\": {\n",
    "                            \"properties\": {\n",
    "                                \"column_name\": {\n",
    "                                    \"type\": \"string\",\n",
    "                                    \"pattern\": r\"^[a-zA-Z0-9_]*$\",\n",
    "                                    \"min_length\": 3,\n",
    "                                    \"max_length\": 50\n",
    "                                },\n",
    "                                \"column_type\": {\n",
    "                                    \"type\": \"string\",\n",
    "                                    \"pattern\": r\"^[A-Z0-9]*$\",\n",
    "                                    \"min_length\": 4,\n",
    "                                    \"max_length\": 9\n",
    "                                },\n",
    "                                \"column_nullable_flag\": {\n",
    "                                    \"type\": \"boolean\"\n",
    "                                }\n",
    "                            },\n",
    "                            \"required\": [\"column_name\", \"column_type\", \"column_nullable_flag\"]\n",
    "                        }\n",
    "                    }\n",
    "                },\n",
    "                \"required\": [\"table_name\", \"columns\"]\n",
    "            }\n",
    "\t\t}\n",
    "    },\n",
    "\t\"required\": [\"stream_name\", \"stream_tables\"]\n",
    "}"
   ]
  },
  {
   "cell_type": "code",
   "execution_count": 85,
   "metadata": {
    "collapsed": false
   },
   "outputs": [],
   "source": [
    "validate(full_stream, stream_definition_schema)"
   ]
  },
  {
   "cell_type": "code",
   "execution_count": 92,
   "metadata": {
    "collapsed": false
   },
   "outputs": [],
   "source": [
    "update_stream_create_tables = {'create_stream_tables': [{'stream_name': 'test_stream_ignore',\n",
    "                                                               'table_name': 'test_table_ignore3',\n",
    "                                                               'columns': [\n",
    "                                                                   {'column_nullable_flag': False,\n",
    "                                                                    'column_type': 'STRING',\n",
    "                                                                    'column_name': 'col1@!#%'},\n",
    "                                                                   {'column_nullable_flag': True,\n",
    "                                                                    'column_type': 'INT8',\n",
    "                                                                    'column_name': 'col2'}]},\n",
    "                                                              {'stream_name': 'test_stream_ignore',\n",
    "                                                               'table_name': 'test_table_ignore4',\n",
    "                                                               'columns': [\n",
    "                                                                   {'column_nullable_flag': False,\n",
    "                                                                    'column_type': 'STRING',\n",
    "                                                                    'column_name': 'foo'},\n",
    "                                                                   {'column_nullable_flag': True,\n",
    "                                                                    'column_type': 'INT8',\n",
    "                                                                    'column_name': 'bar'}]}]\n",
    "                                     }"
   ]
  },
  {
   "cell_type": "code",
   "execution_count": 93,
   "metadata": {
    "collapsed": true
   },
   "outputs": [],
   "source": [
    "update_stream_definition_schema = {\n",
    "    \"title\": \"Stream Definition Schema\",\n",
    "\t\"type\": \"object\",\n",
    "\t\"properties\": {\n",
    "\t\t\"stream_name\": {\n",
    "\t\t\t\"type\": \"string\",\n",
    "            \"pattern\": r\"^[a-zA-Z0-9_]*$\",\n",
    "            \"min_length\": 3,\n",
    "            \"max_length\": 50\n",
    "\t\t},\n",
    "\t\t\"create_stream_tables\": {\n",
    "\t\t\t\"type\": \"array\",\n",
    "            \"items\": {\n",
    "                \"properties\": {\n",
    "                    \"table_name\": {\n",
    "                        \"type\": \"string\",\n",
    "                        \"pattern\": r\"^[a-zA-Z0-9_]*$\",\n",
    "                        \"min_length\": 3,\n",
    "                        \"max_length\": 50\n",
    "                    },\n",
    "                    \"columns\": {\n",
    "                        \"type\": \"array\",\n",
    "                        \"minItems\": 1,\n",
    "                        \"items\": {\n",
    "                            \"properties\": {\n",
    "                                \"column_name\": {\n",
    "                                    \"type\": \"string\",\n",
    "                                    \"pattern\": r\"^[a-zA-Z0-9_]*$\",\n",
    "                                    \"min_length\": 3,\n",
    "                                    \"max_length\": 50\n",
    "                                },\n",
    "                                \"column_type\": {\n",
    "                                    \"type\": \"string\",\n",
    "                                    \"pattern\": r\"^[A-Z0-9]*$\",\n",
    "                                    \"min_length\": 4,\n",
    "                                    \"max_length\": 9\n",
    "                                },\n",
    "                                \"column_nullable_flag\": {\n",
    "                                    \"type\": \"boolean\"\n",
    "                                }\n",
    "                            },\n",
    "                            \"required\": [\"column_name\", \"column_type\", \"column_nullable_flag\"]\n",
    "                        }\n",
    "                    }\n",
    "                },\n",
    "                \"required\": [\"table_name\", \"columns\"]\n",
    "            }\n",
    "\t\t},\n",
    "        \"remove_stream_tables\": {\n",
    "            \"type\": \"array\",\n",
    "            \"uniqueItems\": True,\n",
    "            \"items\": {\n",
    "                \"type\": \"string\",\n",
    "                \"pattern\": r\"^[a-zA-Z0-9_]*$\",\n",
    "                \"min_length\": 3,\n",
    "                \"max_length\": 50\n",
    "            }\n",
    "        },\n",
    "        \"update_stream_tables\": {\n",
    "            \"type\": \"array\",\n",
    "            \"items\": {\n",
    "                \"properties\": {\n",
    "                    \"stream_table_name\": {\n",
    "                        \"type\": \"string\",\n",
    "                        \"pattern\": r\"^[a-zA-Z0-9_]*$\",\n",
    "                        \"min_length\": 3,\n",
    "                        \"max_length\": 50\n",
    "                    },\n",
    "                    \"columns\": {\n",
    "                        \"type\": \"array\",\n",
    "                        \"minItems\": 1,\n",
    "                        \"items\": {\n",
    "                            \"properties\": {\n",
    "                                \"column_name\": {\n",
    "                                    \"type\": \"string\",\n",
    "                                    \"pattern\": r\"^[a-zA-Z0-9_]*$\",\n",
    "                                    \"min_length\": 3,\n",
    "                                    \"max_length\": 50\n",
    "                                },\n",
    "                                \"column_type\": {\n",
    "                                    \"type\": \"string\",\n",
    "                                    \"pattern\": r\"^[A-Z0-9]*$\",\n",
    "                                    \"min_length\": 4,\n",
    "                                    \"max_length\": 9\n",
    "                                },\n",
    "                                \"column_nullable_flag\": {\n",
    "                                    \"type\": \"boolean\"\n",
    "                                }\n",
    "                            },\n",
    "                            \"required\": [\"column_name\", \"column_type\", \"column_nullable_flag\"]\n",
    "                        }\n",
    "                    },\n",
    "                    \"new_table_name\": {\n",
    "                        \"type\": \"string\",\n",
    "                        \"pattern\": r\"^[a-zA-Z0-9_]*$\",\n",
    "                        \"min_length\": 3,\n",
    "                        \"max_length\": 50\n",
    "                    }\n",
    "                },\n",
    "                \"required\": [\"stream_table_name\"]\n",
    "            }\n",
    "        }\n",
    "    }\n",
    "}"
   ]
  },
  {
   "cell_type": "code",
   "execution_count": 94,
   "metadata": {
    "collapsed": false
   },
   "outputs": [
    {
     "ename": "ValidationError",
     "evalue": "'col1@!#%' does not match '^[a-zA-Z0-9_]*$'\n\nFailed validating 'pattern' in schema['properties']['create_stream_tables']['items']['properties']['columns']['items']['properties']['column_name']:\n    {'max_length': 50,\n     'min_length': 3,\n     'pattern': '^[a-zA-Z0-9_]*$',\n     'type': 'string'}\n\nOn instance['create_stream_tables'][0]['columns'][0]['column_name']:\n    'col1@!#%'",
     "output_type": "error",
     "traceback": [
      "\u001b[0;31m---------------------------------------------------------------------------\u001b[0m",
      "\u001b[0;31mValidationError\u001b[0m                           Traceback (most recent call last)",
      "\u001b[0;32m<ipython-input-94-eb537bf0577d>\u001b[0m in \u001b[0;36m<module>\u001b[0;34m()\u001b[0m\n\u001b[0;32m----> 1\u001b[0;31m \u001b[0mvalidate\u001b[0m\u001b[0;34m(\u001b[0m\u001b[0mupdate_stream_create_tables\u001b[0m\u001b[0;34m,\u001b[0m \u001b[0mupdate_stream_definition_schema\u001b[0m\u001b[0;34m)\u001b[0m\u001b[0;34m\u001b[0m\u001b[0m\n\u001b[0m",
      "\u001b[0;32m/Users/benkaufman/py3venv/lib/python3.4/site-packages/jsonschema/validators.py\u001b[0m in \u001b[0;36mvalidate\u001b[0;34m(instance, schema, cls, *args, **kwargs)\u001b[0m\n\u001b[1;32m    426\u001b[0m         \u001b[0mcls\u001b[0m \u001b[0;34m=\u001b[0m \u001b[0mvalidator_for\u001b[0m\u001b[0;34m(\u001b[0m\u001b[0mschema\u001b[0m\u001b[0;34m)\u001b[0m\u001b[0;34m\u001b[0m\u001b[0m\n\u001b[1;32m    427\u001b[0m     \u001b[0mcls\u001b[0m\u001b[0;34m.\u001b[0m\u001b[0mcheck_schema\u001b[0m\u001b[0;34m(\u001b[0m\u001b[0mschema\u001b[0m\u001b[0;34m)\u001b[0m\u001b[0;34m\u001b[0m\u001b[0m\n\u001b[0;32m--> 428\u001b[0;31m     \u001b[0mcls\u001b[0m\u001b[0;34m(\u001b[0m\u001b[0mschema\u001b[0m\u001b[0;34m,\u001b[0m \u001b[0;34m*\u001b[0m\u001b[0margs\u001b[0m\u001b[0;34m,\u001b[0m \u001b[0;34m**\u001b[0m\u001b[0mkwargs\u001b[0m\u001b[0;34m)\u001b[0m\u001b[0;34m.\u001b[0m\u001b[0mvalidate\u001b[0m\u001b[0;34m(\u001b[0m\u001b[0minstance\u001b[0m\u001b[0;34m)\u001b[0m\u001b[0;34m\u001b[0m\u001b[0m\n\u001b[0m",
      "\u001b[0;32m/Users/benkaufman/py3venv/lib/python3.4/site-packages/jsonschema/validators.py\u001b[0m in \u001b[0;36mvalidate\u001b[0;34m(self, *args, **kwargs)\u001b[0m\n\u001b[1;32m    115\u001b[0m         \u001b[0;32mdef\u001b[0m \u001b[0mvalidate\u001b[0m\u001b[0;34m(\u001b[0m\u001b[0mself\u001b[0m\u001b[0;34m,\u001b[0m \u001b[0;34m*\u001b[0m\u001b[0margs\u001b[0m\u001b[0;34m,\u001b[0m \u001b[0;34m**\u001b[0m\u001b[0mkwargs\u001b[0m\u001b[0;34m)\u001b[0m\u001b[0;34m:\u001b[0m\u001b[0;34m\u001b[0m\u001b[0m\n\u001b[1;32m    116\u001b[0m             \u001b[0;32mfor\u001b[0m \u001b[0merror\u001b[0m \u001b[0;32min\u001b[0m \u001b[0mself\u001b[0m\u001b[0;34m.\u001b[0m\u001b[0miter_errors\u001b[0m\u001b[0;34m(\u001b[0m\u001b[0;34m*\u001b[0m\u001b[0margs\u001b[0m\u001b[0;34m,\u001b[0m \u001b[0;34m**\u001b[0m\u001b[0mkwargs\u001b[0m\u001b[0;34m)\u001b[0m\u001b[0;34m:\u001b[0m\u001b[0;34m\u001b[0m\u001b[0m\n\u001b[0;32m--> 117\u001b[0;31m                 \u001b[0;32mraise\u001b[0m \u001b[0merror\u001b[0m\u001b[0;34m\u001b[0m\u001b[0m\n\u001b[0m\u001b[1;32m    118\u001b[0m \u001b[0;34m\u001b[0m\u001b[0m\n\u001b[1;32m    119\u001b[0m         \u001b[0;32mdef\u001b[0m \u001b[0mis_type\u001b[0m\u001b[0;34m(\u001b[0m\u001b[0mself\u001b[0m\u001b[0;34m,\u001b[0m \u001b[0minstance\u001b[0m\u001b[0;34m,\u001b[0m \u001b[0mtype\u001b[0m\u001b[0;34m)\u001b[0m\u001b[0;34m:\u001b[0m\u001b[0;34m\u001b[0m\u001b[0m\n",
      "\u001b[0;31mValidationError\u001b[0m: 'col1@!#%' does not match '^[a-zA-Z0-9_]*$'\n\nFailed validating 'pattern' in schema['properties']['create_stream_tables']['items']['properties']['columns']['items']['properties']['column_name']:\n    {'max_length': 50,\n     'min_length': 3,\n     'pattern': '^[a-zA-Z0-9_]*$',\n     'type': 'string'}\n\nOn instance['create_stream_tables'][0]['columns'][0]['column_name']:\n    'col1@!#%'"
     ]
    }
   ],
   "source": [
    "validate(update_stream_create_tables, update_stream_definition_schema)"
   ]
  },
  {
   "cell_type": "code",
   "execution_count": null,
   "metadata": {
    "collapsed": true
   },
   "outputs": [],
   "source": []
  }
 ],
 "metadata": {
  "kernelspec": {
   "display_name": "Python 3",
   "language": "python",
   "name": "python3"
  },
  "language_info": {
   "codemirror_mode": {
    "name": "ipython",
    "version": 3
   },
   "file_extension": ".py",
   "mimetype": "text/x-python",
   "name": "python",
   "nbconvert_exporter": "python",
   "pygments_lexer": "ipython3",
   "version": "3.4.2"
  }
 },
 "nbformat": 4,
 "nbformat_minor": 0
}
