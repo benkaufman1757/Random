{
 "cells": [
  {
   "cell_type": "code",
   "execution_count": 1,
   "metadata": {
    "collapsed": true
   },
   "outputs": [],
   "source": [
    "import numpy as np"
   ]
  },
  {
   "cell_type": "code",
   "execution_count": 2,
   "metadata": {
    "collapsed": false
   },
   "outputs": [],
   "source": [
    "def f(n, r):\n",
    "    # generate set of random permutations \n",
    "    # they could be the same permutations, page doesn't specify that they should be unique\n",
    "    perms = [np.random.permutation(range(1,n+1)) for _ in range(0,r)]\n",
    "    \n",
    "    # count number of permutations with collisions\n",
    "    num_collisions = 0\n",
    "    for p in perms:\n",
    "        for ix, x in enumerate(p):\n",
    "            if (ix + 1) == x:\n",
    "                num_collisions += 1\n",
    "                break # finished checking permutation to stop double counting\n",
    "    \n",
    "    # return the fraction of permutations with no collisions\n",
    "    return (1 - (num_collisions / len(perms)))"
   ]
  },
  {
   "cell_type": "code",
   "execution_count": 3,
   "metadata": {
    "collapsed": false
   },
   "outputs": [
    {
     "name": "stdout",
     "output_type": "stream",
     "text": [
      "Fraction of collision-free permutations when n=1 and r=500: 0.0\n",
      "Fraction of collision-free permutations when n=2 and r=500: 0.49\n",
      "Fraction of collision-free permutations when n=3 and r=500: 0.372\n",
      "Fraction of collision-free permutations when n=4 and r=500: 0.368\n",
      "Fraction of collision-free permutations when n=5 and r=500: 0.356\n",
      "Fraction of collision-free permutations when n=10 and r=500: 0.37\n",
      "Fraction of collision-free permutations when n=100 and r=500: 0.366\n"
     ]
    }
   ],
   "source": [
    "for x in [1,2,3,4,5,10,100]:\n",
    "    print(\"Fraction of collision-free permutations when n={0} and r=500: {1}\".format(x, f(x,500)))"
   ]
  },
  {
   "cell_type": "code",
   "execution_count": 4,
   "metadata": {
    "collapsed": false
   },
   "outputs": [
    {
     "name": "stdout",
     "output_type": "stream",
     "text": [
      "Median fraction of collision-free permutations after 100 trials when n=1 and r=500: 0.0\n",
      "Median fraction of collision-free permutations after 100 trials when n=2 and r=500: 0.498\n",
      "Median fraction of collision-free permutations after 100 trials when n=3 and r=500: 0.33399999999999996\n",
      "Median fraction of collision-free permutations after 100 trials when n=4 and r=500: 0.378\n",
      "Median fraction of collision-free permutations after 100 trials when n=5 and r=500: 0.366\n",
      "Median fraction of collision-free permutations after 100 trials when n=10 and r=500: 0.372\n",
      "Median fraction of collision-free permutations after 100 trials when n=100 and r=500: 0.366\n"
     ]
    }
   ],
   "source": [
    "for x in [1,2,3,4,5,10,100]:\n",
    "    temp = [f(x,500) for _ in range(0,100)]\n",
    "    print(\"Median fraction of collision-free permutations after 100 trials when n={0} and r=500: {1}\".format(x,np.median(temp)))   "
   ]
  }
 ],
 "metadata": {
  "kernelspec": {
   "display_name": "Python 3",
   "language": "python",
   "name": "python3"
  },
  "language_info": {
   "codemirror_mode": {
    "name": "ipython",
    "version": 3
   },
   "file_extension": ".py",
   "mimetype": "text/x-python",
   "name": "python",
   "nbconvert_exporter": "python",
   "pygments_lexer": "ipython3",
   "version": "3.5.1"
  }
 },
 "nbformat": 4,
 "nbformat_minor": 0
}
