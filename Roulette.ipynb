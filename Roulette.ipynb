{
 "cells": [
  {
   "cell_type": "code",
   "execution_count": 1,
   "metadata": {
    "collapsed": false
   },
   "outputs": [],
   "source": [
    "from random import randint"
   ]
  },
  {
   "cell_type": "code",
   "execution_count": 59,
   "metadata": {
    "collapsed": false
   },
   "outputs": [
    {
     "name": "stdout",
     "output_type": "stream",
     "text": [
      "99848 / 152\n",
      "win perc: 0.99848\n",
      "lose perc: 0.00152\n",
      "avg rounds: 2.10347\n"
     ]
    }
   ],
   "source": [
    "wins = 0\n",
    "losses = 0\n",
    "rounds = []\n",
    "for x in range(0,100000):\n",
    "    money = 1000\n",
    "    rounds_till_win = 0\n",
    "    counter = 0\n",
    "    while money > 0 and money < 1001:\n",
    "        counter += 1\n",
    "        x = randint(1,38)\n",
    "        if x <= 18:\n",
    "            money += (2**(rounds_till_win))\n",
    "            rounds_till_win = 0\n",
    "        else:\n",
    "            money -= 2**(rounds_till_win)\n",
    "            rounds_till_win += 1\n",
    "    if money > 1:\n",
    "        wins += 1\n",
    "    else:\n",
    "        losses += 1\n",
    "    rounds.append(counter)\n",
    "    if rounds_till_win > 10:\n",
    "        print(\"HELL0\")\n",
    "    \n",
    "\n",
    "        \n",
    "print(wins,\"/\", losses)\n",
    "print(\"win perc:\",wins/(wins+losses))\n",
    "print(\"lose perc:\",losses/(wins+losses))\n",
    "print(\"avg rounds:\", sum(rounds)/len(rounds))"
   ]
  },
  {
   "cell_type": "code",
   "execution_count": 60,
   "metadata": {
    "collapsed": false
   },
   "outputs": [
    {
     "data": {
      "text/plain": [
       "-0.558"
      ]
     },
     "execution_count": 60,
     "metadata": {},
     "output_type": "execute_result"
    }
   ],
   "source": [
    "(wins - (losses*(2**10)))/100000"
   ]
  },
  {
   "cell_type": "code",
   "execution_count": 61,
   "metadata": {
    "collapsed": false
   },
   "outputs": [
    {
     "data": {
      "text/plain": [
       "64"
      ]
     },
     "execution_count": 61,
     "metadata": {},
     "output_type": "execute_result"
    }
   ],
   "source": [
    "# in a given betting cycle you can expect to lose 55.8 cents\n",
    "2**6"
   ]
  },
  {
   "cell_type": "code",
   "execution_count": 80,
   "metadata": {
    "collapsed": false
   },
   "outputs": [
    {
     "data": {
      "text/plain": [
       "-0.05263157894736836"
      ]
     },
     "execution_count": 80,
     "metadata": {},
     "output_type": "execute_result"
    }
   ],
   "source": [
    "# Expected Return =\n",
    "temp = ((20/38)**1)\n",
    "((1-((20/38)**1))*1) - (((20/38)**1)*((2**1)-1))"
   ]
  },
  {
   "cell_type": "code",
   "execution_count": 81,
   "metadata": {
    "collapsed": true
   },
   "outputs": [],
   "source": [
    "from matplotlib import pyplot as plt\n",
    "%matplotlib inline"
   ]
  },
  {
   "cell_type": "code",
   "execution_count": 86,
   "metadata": {
    "collapsed": false
   },
   "outputs": [
    {
     "data": {
      "text/plain": [
       "[<matplotlib.lines.Line2D at 0x1106d0a20>]"
      ]
     },
     "execution_count": 86,
     "metadata": {},
     "output_type": "execute_result"
    },
    {
     "data": {
      "image/png": "[encoded data removed]",
      "text/plain": [
       "<matplotlib.figure.Figure at 0x110625438>"
      ]
     },
     "metadata": {},
     "output_type": "display_data"
    }
   ],
   "source": [
    "x,y = zip(*[(x,((1-((20/38)**x))*1) - (((20/38)**x)*((2**x)-1))) for x in range(1,100)])\n",
    "plt.plot(x,y)"
   ]
  },
  {
   "cell_type": "code",
   "execution_count": null,
   "metadata": {
    "collapsed": true
   },
   "outputs": [],
   "source": []
  }
 ],
 "metadata": {
  "kernelspec": {
   "display_name": "Python 3",
   "language": "python",
   "name": "python3"
  },
  "language_info": {
   "codemirror_mode": {
    "name": "ipython",
    "version": 3
   },
   "file_extension": ".py",
   "mimetype": "text/x-python",
   "name": "python",
   "nbconvert_exporter": "python",
   "pygments_lexer": "ipython3",
   "version": "3.5.1"
  }
 },
 "nbformat": 4,
 "nbformat_minor": 0
}
