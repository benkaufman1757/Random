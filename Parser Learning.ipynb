{
 "cells": [
  {
   "cell_type": "code",
   "execution_count": 40,
   "metadata": {
    "collapsed": false
   },
   "outputs": [],
   "source": [
    "class Node(object):\n",
    "    def __init__(self, value):\n",
    "        self.value = value\n",
    "        self.left = None\n",
    "        self.right = None\n",
    "    def set_left(self, value):\n",
    "        self.left = value\n",
    "    def set_right(self, value):\n",
    "        self.right = value\n",
    "        \n",
    "def add_node(root, node):\n",
    "        if root is None:\n",
    "            root = node\n",
    "        else:\n",
    "            if node.value < root.value:\n",
    "                if root.left is None:\n",
    "                    root.left = node\n",
    "                else:\n",
    "                    return add_node(root.left, node)\n",
    "            else:\n",
    "                if root.right is None:\n",
    "                    root.right = node\n",
    "                else:\n",
    "                    return add_node(root.right, node)"
   ]
  },
  {
   "cell_type": "code",
   "execution_count": 2,
   "metadata": {
    "collapsed": false
   },
   "outputs": [
    {
     "data": {
      "text/plain": [
       "[50, 39, 26, 17, 21, 34, 30, 5, 12, 46, 38, 45, 13, 37, 48]"
      ]
     },
     "execution_count": 2,
     "metadata": {},
     "output_type": "execute_result"
    }
   ],
   "source": [
    "from random import randint\n",
    "[randint(0,50) for x in range(0,15)]"
   ]
  },
  {
   "cell_type": "code",
   "execution_count": 6,
   "metadata": {
    "collapsed": false
   },
   "outputs": [],
   "source": [
    "l = [50, 39, 26, 17, 21, 34, 30, 5, 12, 46, 38, 45, 13, 37, 48]"
   ]
  },
  {
   "cell_type": "code",
   "execution_count": 41,
   "metadata": {
    "collapsed": false
   },
   "outputs": [
    {
     "name": "stdout",
     "output_type": "stream",
     "text": [
      "50\n",
      "39\n",
      "26\n",
      "17\n",
      "21\n",
      "34\n",
      "30\n",
      "5\n",
      "12\n",
      "46\n",
      "38\n",
      "45\n",
      "13\n",
      "37\n",
      "48\n"
     ]
    }
   ],
   "source": [
    "x = Node(25)\n",
    "for n in l:\n",
    "    print(n)\n",
    "    add_node(x, Node(n))"
   ]
  },
  {
   "cell_type": "code",
   "execution_count": 43,
   "metadata": {
    "collapsed": false
   },
   "outputs": [
    {
     "name": "stdout",
     "output_type": "stream",
     "text": [
      "5\n",
      "12\n",
      "13\n",
      "17\n",
      "21\n",
      "25\n",
      "26\n",
      "30\n",
      "34\n",
      "37\n",
      "38\n",
      "39\n",
      "45\n",
      "46\n",
      "48\n",
      "50\n"
     ]
    }
   ],
   "source": [
    "result = []\n",
    "def traverse_ascending(tree):\n",
    "    if tree is not None:\n",
    "        traverse_ascending(tree.left)\n",
    "        print(tree.value)\n",
    "        traverse_ascending(tree.right)\n",
    "        \n",
    "traverse_ascending(x)"
   ]
  },
  {
   "cell_type": "code",
   "execution_count": 93,
   "metadata": {
    "collapsed": false
   },
   "outputs": [
    {
     "name": "stdout",
     "output_type": "stream",
     "text": [
      "['create streamtable test(col1 date NULL)']\n",
      "[['create', 'streamtable', 'test', '(', 'col1', 'date', 'NULL', ')', '']]\n",
      "['create', '', 'streamtable', '', 'test(', '', 'col1', '', 'date', '', 'NULL)', '', '']\n"
     ]
    }
   ],
   "source": [
    "from collections import namedtuple\n",
    "import re\n",
    "from io import StringIO\n",
    "import tokenize\n",
    "\n",
    "token_map = {';':'NEW_CMD'}\n",
    "Token = namedtuple('Token', ['name', 'value'])\n",
    "expr = \"\"\"create streamtable test(\n",
    "col1 date NULL);\"\"\"\n",
    "split_data = list(filter(None,expr.replace(\"\\n\",\"\").split(\";\")))\n",
    "print(split_data)\n",
    "commands = []\n",
    "for cmd_data in split_data:\n",
    "    data = StringIO(cmd_data)\n",
    "    commands.append([tok for _,tok,_,_,_ in tokenize.generate_tokens(data.readline)])\n",
    "print(commands)\n",
    "split_expr = re.findall(r'[a-zA-Z0-9\\(\\)]*', expr.rstrip('\\n'))\n",
    "print(split_expr)\n",
    "tokens = [Token(token_map.get(x, 'NUM'), x) for x in split_expr]\n",
    "\n",
    "RuleMatch = namedtuple('RuleMatch', ['name', 'matched'])\n",
    "\n",
    "#def match(rule_name, tokens):\n",
    "    "
   ]
  },
  {
   "cell_type": "code",
   "execution_count": 79,
   "metadata": {
    "collapsed": false
   },
   "outputs": [
    {
     "data": {
      "text/plain": [
       "[Token(name='NUM', value='create streamtable test(\\ncol1 date NULL);')]"
      ]
     },
     "execution_count": 79,
     "metadata": {},
     "output_type": "execute_result"
    }
   ],
   "source": [
    "tokens"
   ]
  },
  {
   "cell_type": "code",
   "execution_count": 74,
   "metadata": {
    "collapsed": false
   },
   "outputs": [
    {
     "data": {
      "text/plain": [
       "[]"
      ]
     },
     "execution_count": 74,
     "metadata": {},
     "output_type": "execute_result"
    }
   ],
   "source": [
    "re.findall(r'^[a-zA-Z0-9\\s\\(\\)]*;$',expr.strip('\\n'))"
   ]
  },
  {
   "cell_type": "code",
   "execution_count": 75,
   "metadata": {
    "collapsed": false
   },
   "outputs": [
    {
     "data": {
      "text/plain": [
       "'create streamtable test(\\ncol1 date NULL); create streamtable test2(col2 numeric not null);'"
      ]
     },
     "execution_count": 75,
     "metadata": {},
     "output_type": "execute_result"
    }
   ],
   "source": [
    "expr"
   ]
  },
  {
   "cell_type": "code",
   "execution_count": 94,
   "metadata": {
    "collapsed": false
   },
   "outputs": [
    {
     "ename": "ImportError",
     "evalue": "No module named 'cv2'",
     "output_type": "error",
     "traceback": [
      "\u001b[0;31m---------------------------------------------------------------------------\u001b[0m",
      "\u001b[0;31mImportError\u001b[0m                               Traceback (most recent call last)",
      "\u001b[0;32m<ipython-input-94-72fbbcfe2587>\u001b[0m in \u001b[0;36m<module>\u001b[0;34m()\u001b[0m\n\u001b[0;32m----> 1\u001b[0;31m \u001b[0;32mimport\u001b[0m \u001b[0mcv2\u001b[0m\u001b[0;34m\u001b[0m\u001b[0m\n\u001b[0m",
      "\u001b[0;31mImportError\u001b[0m: No module named 'cv2'"
     ]
    }
   ],
   "source": [
    "import cv2"
   ]
  },
  {
   "cell_type": "code",
   "execution_count": null,
   "metadata": {
    "collapsed": true
   },
   "outputs": [],
   "source": []
  }
 ],
 "metadata": {
  "kernelspec": {
   "display_name": "Python 3",
   "language": "python",
   "name": "python3"
  },
  "language_info": {
   "codemirror_mode": {
    "name": "ipython",
    "version": 3
   },
   "file_extension": ".py",
   "mimetype": "text/x-python",
   "name": "python",
   "nbconvert_exporter": "python",
   "pygments_lexer": "ipython3",
   "version": "3.4.2"
  }
 },
 "nbformat": 4,
 "nbformat_minor": 0
}
