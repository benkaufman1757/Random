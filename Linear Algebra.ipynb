{
 "cells": [
  {
   "cell_type": "code",
   "execution_count": 454,
   "metadata": {
    "collapsed": true
   },
   "outputs": [],
   "source": [
    "# Here is a little matrix class with some random stuff from linear algrebra\n",
    "# I know I should use numpy but I wanted to implement it myself (even if it is less efficient)"
   ]
  },
  {
   "cell_type": "code",
   "execution_count": 475,
   "metadata": {
    "collapsed": true
   },
   "outputs": [],
   "source": [
    "# A few basic functions\n",
    "def dot_product(v1,v2):\n",
    "    total = 0\n",
    "    for x, y in zip(v1,v2):\n",
    "        total += x*y\n",
    "    return total\n",
    "\n",
    "def add_vectors(v1,v2):\n",
    "    return [x+y for x, y in zip(v1,v2)]\n",
    "\n",
    "def subtract_vectors(v1,v2):\n",
    "    return [x-y for x, y in zip(v1,v2)]\n",
    "\n",
    "def scalar_multiply(c, v):\n",
    "    return [c*x for x in v]\n",
    "\n",
    "def vector_length(v):\n",
    "    return sqrt(sum([(a**2) for a in v]))\n",
    "\n",
    "# my basic matrix multiplication algorithm\n",
    "def matrix_multiplication(A,B):\n",
    "    if len(A[0]) != len(B):\n",
    "        raise Exception(\"Cannot multiply matrices, # columns of A must equal # rows of B\")\n",
    "    \n",
    "    result = [([0] * len(B[0])) for _ in range(0,len(A))]\n",
    "    \n",
    "    for Arow_ix, Arow in enumerate(A):\n",
    "        for Brow_ix, Brow in enumerate(B): \n",
    "            result[Arow_ix][Brow_ix] = dot_product(Arow, Brow)\n",
    "    \n",
    "    return result\n",
    "\n",
    "def transpose(matrix):\n",
    "        columns = []\n",
    "        for column in range(0,len(matrix[0])):\n",
    "            columns.append([row[column] for row in matrix])\n",
    "        return columns"
   ]
  },
  {
   "cell_type": "code",
   "execution_count": 476,
   "metadata": {
    "collapsed": false
   },
   "outputs": [
    {
     "name": "stdout",
     "output_type": "stream",
     "text": [
      "Dot product of <1,2,3> and <4,5,6> = 32\n",
      "Sum of vectors <1,2,3> and <4,5,6> = [5, 7, 9]\n",
      "Difference of vectors <1,2,3> and <4,5,6> = [-3, -3, -3]\n",
      "Scalar multiple 4 times vector <1,2,3> = [4, 8, 12]\n",
      "Length of vector <1,2,3> = 3.7416573867739413\n",
      "Matrix A=[[1,2],[3,4]] x B=[[5,6],[7,8]] = [[17, 23], [39, 53]]\n",
      "Transpose of matrix A=[[1,2],[3,4]] = [[1, 3], [2, 4]]\n"
     ]
    }
   ],
   "source": [
    "print(\"Dot product of <1,2,3> and <4,5,6> = {0}\".format(dot_product([1,2,3],[4,5,6])))\n",
    "print(\"Sum of vectors <1,2,3> and <4,5,6> = {0}\".format(add_vectors([1,2,3],[4,5,6])))\n",
    "print(\"Difference of vectors <1,2,3> and <4,5,6> = {0}\".format(subtract_vectors([1,2,3],[4,5,6])))\n",
    "print(\"Scalar multiple 4 times vector <1,2,3> = {0}\".format(scalar_multiply(4,[1,2,3])))\n",
    "print(\"Length of vector <1,2,3> = {0}\".format(vector_length([1,2,3])))\n",
    "print(\"Matrix A=[[1,2],[3,4]] x B=[[5,6],[7,8]] = {0}\".format(matrix_multiplication([[1,2],[3,4]],[[5,6],[7,8]])))\n",
    "print(\"Transpose of matrix A=[[1,2],[3,4]] = {0}\".format(transpose([[1,2],[3,4]])))"
   ]
  },
  {
   "cell_type": "code",
   "execution_count": 484,
   "metadata": {
    "collapsed": true
   },
   "outputs": [],
   "source": [
    "from fractions import Fraction\n",
    "from math import sqrt\n",
    "\n",
    "# Gram-Schmidt: from a basis create find an orthogonal basis\n",
    "def gram_schmidt(basis, fraction=True):\n",
    "    # v1 = x1 always\n",
    "    basis = [[Fraction(x) for x in v] for v in basis]\n",
    "    basis = transpose(basis)\n",
    "    orthogonal_basis = [basis[0]]\n",
    "    \n",
    "    # vp = xp - (dot(xp,vp-1)/dot(vp-1,vp-1))(vp-1) -...- (dot(xp,v1)/dot(v1,v1))(v1)\n",
    "    for vector in basis[1:]:\n",
    "        for ortho_vector in orthogonal_basis:\n",
    "            temp = scalar_multiply((dot_product(vector, ortho_vector) /  dot_product(ortho_vector, ortho_vector)), \n",
    "                                   ortho_vector)\n",
    "            \n",
    "            vector = subtract_vectors(vector, temp)\n",
    "        orthogonal_basis.append(vector)\n",
    "    \n",
    "    return orthogonal_basis\n",
    "\n",
    "def orthonormal_basis(basis, fraction=True):\n",
    "    orthogonal_basis = gram_schmidt(basis, fraction=fraction)\n",
    "    \n",
    "    orthonormal_basis = []\n",
    "    for column in orthogonal_basis:\n",
    "        length = vector_length(column)\n",
    "        orthonormal_basis.append([(x/length) for x in column])\n",
    "        \n",
    "    return orthonormal_basis"
   ]
  },
  {
   "cell_type": "code",
   "execution_count": 485,
   "metadata": {
    "collapsed": false
   },
   "outputs": [
    {
     "name": "stdout",
     "output_type": "stream",
     "text": [
      "Orthogonal basis from basis A:\n",
      "[Fraction(1, 1), Fraction(1, 1), Fraction(1, 1), Fraction(1, 1)]\n",
      "[Fraction(-3, 4), Fraction(1, 4), Fraction(1, 4), Fraction(1, 4)]\n",
      "[Fraction(0, 1), Fraction(-2, 3), Fraction(1, 3), Fraction(1, 3)]\n",
      "\n",
      "Orthonormal basis from basis A:\n",
      "[0.5, 0.5, 0.5, 0.5]\n",
      "[-0.8660254037844387, 0.2886751345948129, 0.2886751345948129, 0.2886751345948129]\n",
      "[0.0, -0.816496580927726, 0.408248290463863, 0.408248290463863]\n"
     ]
    }
   ],
   "source": [
    "A = [[1,0,0],\n",
    "     [1,1,0],\n",
    "     [1,1,1],\n",
    "     [1,1,1]]\n",
    "\n",
    "print(\"Orthogonal basis from basis A:\")\n",
    "for x in gram_schmidt(A):\n",
    "    print(x)\n",
    "\n",
    "print()\n",
    "\n",
    "print(\"Orthonormal basis from basis A:\")\n",
    "for x in orthonormal_basis(A):\n",
    "    print(x)"
   ]
  },
  {
   "cell_type": "code",
   "execution_count": 505,
   "metadata": {
    "collapsed": false
   },
   "outputs": [],
   "source": [
    "from copy import deepcopy\n",
    "from fractions import Fraction\n",
    "from math import sqrt\n",
    "\n",
    "class Matrix:\n",
    "    \"\"\"Matrix class for random things you can do to a matrix, may add bases stuff to this\n",
    "    because you can essentially treat them as matrices\"\"\"\n",
    "    \n",
    "    def __init__(self, matrix):\n",
    "        \"Create mxn matrix\"\n",
    "        try:\n",
    "            n = len(matrix[0])\n",
    "        except TypeError:\n",
    "            raise Exception(\"Matrix should be constructed from lists\")\n",
    "        \n",
    "        for column in matrix:\n",
    "            if len(column) != n:\n",
    "                raise Exception(\"Rows must be the same length\")\n",
    "        \n",
    "        self.matrix = matrix\n",
    "    \n",
    "    def dot_product(self,v1,v2):\n",
    "        total = 0\n",
    "        for x, y in zip(v1,v2):\n",
    "            total += x*y\n",
    "        return total\n",
    "    \n",
    "    def add_vectors(self,v1,v2):\n",
    "        return [x+y for x, y in zip(v1,v2)]\n",
    "\n",
    "    def subtract_vectors(self,v1,v2):\n",
    "        return [x-y for x, y in zip(v1,v2)]\n",
    "\n",
    "    def scalar_multiply(self,c, v):\n",
    "        return [c*x for x in v]\n",
    "\n",
    "    def vector_length(self,v):\n",
    "        return sqrt(sum([(a**2) for a in v]))\n",
    "\n",
    "    # my basic matrix multiplication algorithm\n",
    "    def matrix_multiplication(self,A,B):\n",
    "        if len(A[0]) != len(B):\n",
    "            raise Exception(\"Cannot multiply matrices, # columns of A must equal # rows of B\")\n",
    "\n",
    "        result = [([0] * len(B[0])) for _ in range(0,len(A))]\n",
    "\n",
    "        for Arow_ix, Arow in enumerate(A):\n",
    "            for Brow_ix, Brow in enumerate(B): \n",
    "                result[Arow_ix][Brow_ix] = self.dot_product(Arow, Brow)\n",
    "\n",
    "        return result\n",
    "    \n",
    "    def size(self):\n",
    "        return (len(self.matrix), len(self.matrix[0]))\n",
    "    \n",
    "    def isSquare(self):\n",
    "        \"Check if the matrix is square\"\n",
    "        return len(self.matrix) == len(self.matrix[0])\n",
    "    \n",
    "    def transpose(self):\n",
    "        columns = []\n",
    "        for column in range(0,len(self.matrix[0])):\n",
    "            columns.append([row[column] for row in self.matrix])\n",
    "        return columns\n",
    "    \n",
    "    def invertible(self):\n",
    "        if not self.isSquare():\n",
    "            return False\n",
    "        \n",
    "        test = [0]*len(self.matrix[0])\n",
    "        for row in self.matrix:\n",
    "            if row == test:\n",
    "                return False\n",
    "        return True\n",
    "            \n",
    "    def echelonForm(self, matrix=\"self\"):\n",
    "        \"Use row reduction to get echelon form of matrix\"\n",
    "        A = self.matrix if matrix == \"self\" else matrix\n",
    "        row = 0\n",
    "        column = 0\n",
    "\n",
    "        while row < len(A) and column < len(A[0]):\n",
    "            if A[row][column] != 0:\n",
    "                A[row] = [x/A[row][column] for x in A[row]]\n",
    "\n",
    "                for i in range(row+1,len(A)):\n",
    "                        if A[i][column] != 0:\n",
    "                            A[i] = [x + y for x, y in zip(A[i], [x*-A[i][column] for x in A[column]])]\n",
    "            column+=1\n",
    "            row+=1\n",
    "            \n",
    "        # find pivot with 1 in first position TODO?\n",
    "        return A\n",
    "    \n",
    "    # fix this TODO\n",
    "    def reducedEchelonForm(self, matrix=\"self\"):\n",
    "        A = self.echelonForm()\n",
    "        \n",
    "        for r_ix, row in enumerate(reversed(A)):\n",
    "            try:\n",
    "                pivot_column = row.index(1)\n",
    "                pivot_row = len(A) - (r_ix+1)\n",
    "                # inner loop\n",
    "                for ri, r in enumerate(A):\n",
    "                    if r[pivot_column] != 0 and ri != pivot_row:\n",
    "                        A[ri] = [x + y for x, y in zip(A[ri], [x*-A[ri][pivot_column] for x in A[pivot_row]])]\n",
    "            except:\n",
    "                pass\n",
    "        return A\n",
    "    \n",
    "    def __reducedEchelonForm(self,A):\n",
    "        for r_ix, row in enumerate(reversed(A)):\n",
    "            try:\n",
    "                pivot_column = row.index(1)\n",
    "                pivot_row = len(A) - (r_ix+1)\n",
    "                # inner loop\n",
    "                for ri, r in enumerate(A):\n",
    "                    if r[pivot_column] != 0 and ri != pivot_row:\n",
    "                        A[ri] = [x + y for x, y in zip(A[ri], [x*-A[ri][pivot_column] for x in A[pivot_row]])]\n",
    "            except:\n",
    "                pass\n",
    "        return A\n",
    "    \n",
    "    \n",
    "    def __determinant_helper(self, matrix):\n",
    "        if len(matrix) == 2:\n",
    "            return (matrix[0][0]*matrix[1][1]) - (matrix[1][0]*matrix[0][1])\n",
    "\n",
    "        # alternatively, find row or column with fewest non-zero values TODO\n",
    "\n",
    "        total = 0\n",
    "\n",
    "        # make the minor\n",
    "        for ix, value in enumerate(matrix[0]):\n",
    "            if value != 0:\n",
    "                temp_mat = []\n",
    "                for i, row in enumerate(matrix):\n",
    "                    if i != 0:\n",
    "                        temp_row = []\n",
    "                        for j, val in enumerate(row):\n",
    "                            if j != ix:\n",
    "                                temp_row.append(val)\n",
    "                        temp_mat.append(temp_row)\n",
    "\n",
    "                # -1^(j+1)a1jdetA1j\n",
    "                total += ((-1)**(ix)) * value * determinant(temp_mat)\n",
    "        return total\n",
    "    \n",
    "    def determinant(self):\n",
    "        if self.isSquare():\n",
    "            return self.__determinant_helper(self.matrix)\n",
    "    \n",
    "    # fix memory stuff...\n",
    "    def inverse(self):\n",
    "        if not self.invertible():\n",
    "            raise Exception(\"Matrix not invertible\")\n",
    "        \n",
    "        identity_matrix = []\n",
    "        for x in range(0,len(self.matrix)):\n",
    "            temp = []\n",
    "            for y in range(0,len(self.matrix)):\n",
    "                if x == y:\n",
    "                    temp.append(1)\n",
    "                else:\n",
    "                    temp.append(0)\n",
    "            identity_matrix.append(temp)\n",
    "                    \n",
    "        A = deepcopy(self.matrix)\n",
    "        for ix, (a_row, i_row) in enumerate(zip(A,identity_matrix)):\n",
    "            A[ix] = a_row + i_row\n",
    "        \n",
    "        # got a little frustrated with some functions. just made a new matrix instead.\n",
    "        temp = Matrix(A)\n",
    "        inverse = []\n",
    "        n = len(self.matrix[0])\n",
    "        \n",
    "        for row in temp.reducedEchelonForm():\n",
    "            inv_row = []\n",
    "            for ix in range(n,(2*n)):\n",
    "                inv_row.append(row[ix])\n",
    "            inverse.append(inv_row)\n",
    "             \n",
    "        return inverse\n",
    "    \n",
    "    # Gram-Schmidt: from a basis create find an orthogonal basis\n",
    "    def gram_schmidt(self, basis, fraction=True):\n",
    "        # v1 = x1 always\n",
    "        basis = [[Fraction(x) for x in v] for v in basis]\n",
    "        orthogonal_basis = [basis[0]]\n",
    "\n",
    "        # vp = xp - (dot(xp,vp-1)/dot(vp-1,vp-1))(vp-1) -...- (dot(xp,v1)/dot(v1,v1))(v1)\n",
    "        for vector in basis[1:]:\n",
    "            for ortho_vector in orthogonal_basis:\n",
    "                temp = self.scalar_multiply((dot_product(vector, ortho_vector) /  dot_product(ortho_vector, ortho_vector)), \n",
    "                                       ortho_vector)\n",
    "\n",
    "                vector = self.subtract_vectors(vector, temp)\n",
    "            orthogonal_basis.append(vector)\n",
    "\n",
    "        return orthogonal_basis\n",
    "\n",
    "    def orthonormal_basis(self, basis, fraction=True):\n",
    "        orthogonal_basis = gram_schmidt(basis, fraction=fraction)\n",
    "        orthonormal_basis = []\n",
    "        for column in orthogonal_basis:\n",
    "            length = vector_length(column)\n",
    "            orthonormal_basis.append([(x/length) for x in column])\n",
    "        \n",
    "        return orthonormal_basis\n",
    "    \n",
    "    # QR factorization\n",
    "    def eigenValues(self):\n",
    "        #seriously need transpose function to call (static)\n",
    "        A = self.orthonormal_basis(self.transpose())\n",
    "        #R = Qt A\n",
    "        R = matrix_multiplication(A, self.matrix)\n",
    "        return [R[x][x] for x in range(len(R))]\n",
    "    \n",
    "    def eigenVectors(self):\n",
    "        pass\n",
    "    \n",
    "    def leastSquares(self, b):\n",
    "        pass"
   ]
  },
  {
   "cell_type": "code",
   "execution_count": 560,
   "metadata": {
    "collapsed": false
   },
   "outputs": [
    {
     "name": "stdout",
     "output_type": "stream",
     "text": [
      "[1.0]\n",
      "[2.0]\n"
     ]
    }
   ],
   "source": [
    "def mat_mul2(A,B):\n",
    "    if len(A[0]) != len(B):\n",
    "        raise Exception(\"Cannot multiply matrices, # columns of A must equal # rows of B\")\n",
    "        \n",
    "    result = []\n",
    "    for col_ix in range(0, len(B[0])):\n",
    "        temp = []\n",
    "        for ix, row in enumerate(A):\n",
    "            temp.append(dot_product(row,[B[x][col_ix] for x in range(0,len(B))]))\n",
    "        result.append(temp)\n",
    "    return result\n",
    "\n",
    "\n",
    "# AT Ax = AT b\n",
    "# x = ((AT A)^(-1)) ((AT b))\n",
    "\n",
    "A = [[4,0],\n",
    "     [0,2],\n",
    "     [1,1]]\n",
    "\n",
    "b = [[2],[0],[11]]\n",
    "\n",
    "\n",
    "def leastSquares(A,b):\n",
    "    AT_A = Matrix(mat_mul2(transpose(A),A))\n",
    "    AT_b = mat_mul2(transpose(A),b)    \n",
    "    \n",
    "    return mat_mul2(AT_b,AT_A.inverse())\n",
    "\n",
    "for x in leastSquares(A,b):\n",
    "    print(x)"
   ]
  },
  {
   "cell_type": "code",
   "execution_count": 547,
   "metadata": {
    "collapsed": true
   },
   "outputs": [],
   "source": [
    "# feel free to ignore this stuff"
   ]
  },
  {
   "cell_type": "code",
   "execution_count": 500,
   "metadata": {
    "collapsed": false
   },
   "outputs": [],
   "source": [
    "# A bunch of matrices you can try out\n",
    "A = [[1,0,0],\n",
    "     [1,1,0],\n",
    "     [1,1,1],\n",
    "     [1,1,1]]\n",
    "\n",
    "B = [[1,2,3,4],\n",
    "     [5,6,7,8],\n",
    "     [9,10,11,12]]\n",
    "\n",
    "C = [[-.7,.3,.3],\n",
    "     [.4,-.9,.5],\n",
    "     [.3,.6,-.8]]\n",
    "\n",
    "D = [[12,24,-4],\n",
    "     [6,-2,-2],\n",
    "     [-9,5,3],\n",
    "     [-3,1,1]]\n",
    "\n",
    "E = [[1,0,3],\n",
    "     [-1,1,-6],\n",
    "     [2,4,1]]"
   ]
  },
  {
   "cell_type": "code",
   "execution_count": 501,
   "metadata": {
    "collapsed": true
   },
   "outputs": [],
   "source": [
    "M = Matrix(E)"
   ]
  },
  {
   "cell_type": "code",
   "execution_count": 502,
   "metadata": {
    "collapsed": false
   },
   "outputs": [
    {
     "data": {
      "text/plain": [
       "True"
      ]
     },
     "execution_count": 502,
     "metadata": {},
     "output_type": "execute_result"
    }
   ],
   "source": [
    "M.isSquare()"
   ]
  },
  {
   "cell_type": "code",
   "execution_count": 503,
   "metadata": {
    "collapsed": false
   },
   "outputs": [
    {
     "data": {
      "text/plain": [
       "7"
      ]
     },
     "execution_count": 503,
     "metadata": {},
     "output_type": "execute_result"
    }
   ],
   "source": [
    "M.determinant()"
   ]
  },
  {
   "cell_type": "code",
   "execution_count": 490,
   "metadata": {
    "collapsed": false
   },
   "outputs": [
    {
     "data": {
      "text/plain": [
       "[3.162277660168379, 1.3784048752090223, 1.6059101370939326]"
      ]
     },
     "execution_count": 490,
     "metadata": {},
     "output_type": "execute_result"
    }
   ],
   "source": [
    "M.eigenValues()"
   ]
  },
  {
   "cell_type": "code",
   "execution_count": 492,
   "metadata": {
    "collapsed": false
   },
   "outputs": [
    {
     "name": "stdout",
     "output_type": "stream",
     "text": [
      "[1.0, 0.0, 3.0]\n",
      "[0.0, 1.0, -3.0]\n",
      "[0.0, 0.0, 1.0]\n"
     ]
    }
   ],
   "source": [
    "for x in M.echelonForm():\n",
    "    print(x)"
   ]
  },
  {
   "cell_type": "code",
   "execution_count": 494,
   "metadata": {
    "collapsed": false
   },
   "outputs": [
    {
     "name": "stdout",
     "output_type": "stream",
     "text": [
      "[1.0, 0.0, 0.0]\n",
      "[0.0, 1.0, 0.0]\n",
      "[0.0, 0.0, 1.0]\n"
     ]
    }
   ],
   "source": [
    "for x in M.reducedEchelonForm():\n",
    "    print(x)"
   ]
  },
  {
   "cell_type": "code",
   "execution_count": 504,
   "metadata": {
    "collapsed": false
   },
   "outputs": [
    {
     "data": {
      "text/plain": [
       "[[3.571428571428571, 1.7142857142857142, -0.42857142857142855],\n",
       " [-1.5714285714285712, -0.7142857142857142, 0.42857142857142855],\n",
       " [-0.8571428571428571, -0.5714285714285714, 0.14285714285714285]]"
      ]
     },
     "execution_count": 504,
     "metadata": {},
     "output_type": "execute_result"
    }
   ],
   "source": [
    "M.inverse()"
   ]
  }
 ],
 "metadata": {
  "kernelspec": {
   "display_name": "Python 3",
   "language": "python",
   "name": "python3"
  },
  "language_info": {
   "codemirror_mode": {
    "name": "ipython",
    "version": 3
   },
   "file_extension": ".py",
   "mimetype": "text/x-python",
   "name": "python",
   "nbconvert_exporter": "python",
   "pygments_lexer": "ipython3",
   "version": "3.5.1"
  },
  "widgets": {
   "state": {},
   "version": "1.1.2"
  }
 },
 "nbformat": 4,
 "nbformat_minor": 0
}
