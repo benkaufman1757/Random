{
 "cells": [
  {
   "cell_type": "code",
   "execution_count": null,
   "metadata": {
    "collapsed": true
   },
   "outputs": [],
   "source": [
    "# Here is a little matrix class with some random stuff from linear algrebra\n",
    "# I know I should use numpy but I wanted to implement it myself (even if it is less efficient)"
   ]
  },
  {
   "cell_type": "code",
   "execution_count": 318,
   "metadata": {
    "collapsed": true
   },
   "outputs": [],
   "source": [
    "# A few basic functions\n",
    "def dot_product(v1,v2):\n",
    "    total = 0\n",
    "    for x, y in zip(v1,v2):\n",
    "        total += x*y\n",
    "    return total\n",
    "\n",
    "def add_vectors(v1,v2):\n",
    "    return [x+y for x, y in zip(v1,v2)]\n",
    "\n",
    "def subtract_vectors(v1,v2):\n",
    "    return [x-y for x, y in zip(v1,v2)]\n",
    "\n",
    "def scalar_multiply(c, v):\n",
    "    return [c*x for x in v]\n",
    "\n",
    "def vector_length(v):\n",
    "    return sqrt(sum([(a**2) for a in v]))"
   ]
  },
  {
   "cell_type": "code",
   "execution_count": 319,
   "metadata": {
    "collapsed": true
   },
   "outputs": [],
   "source": [
    "from fractions import Fraction\n",
    "\n",
    "# Gram-Schmidt: from a basis create find an orthogonal basis\n",
    "def gram_schmidt(basis, fraction=True):\n",
    "    # v1 = x1 always\n",
    "    basis = [[Fraction(x) for x in v] for v in basis]\n",
    "    orthogonal_basis = [basis[0]]\n",
    "\n",
    "    # vp = xp - (dot(xp,vp-1)/dot(vp-1,vp-1))(vp-1) -...- (dot(xp,v1)/dot(v1,v1))(v1)\n",
    "    for vector in basis[1:]:\n",
    "        for ortho_vector in orthogonal_basis:\n",
    "            temp = scalar_multiply((dot_product(vector, ortho_vector) /  dot_product(ortho_vector, ortho_vector)), \n",
    "                                   ortho_vector)\n",
    "            \n",
    "            vector = subtract_vectors(vector, temp)\n",
    "        orthogonal_basis.append(vector)\n",
    "    \n",
    "    return orthogonal_basis\n",
    "\n",
    "def orthonormal_basis(basis, fraction=True):\n",
    "    orthogonal_basis = gram_schmidt(basis, fraction=fraction)\n",
    "    \n",
    "    columns = []\n",
    "    for column in range(0,len(self.matrix[0])):\n",
    "        columns.append([row[column] for row in basis])\n",
    "    \n",
    "    orthonormal_basis = []\n",
    "    for column in columns:\n",
    "        length = vector_length(column)\n",
    "        orthonormal_basis.append([(x/vector_length) for x in column])\n",
    "    \n",
    "    rows = []\n",
    "    for row in range(0,len(self.matrix[0])):\n",
    "        rows.append([column[row] for column in orthonormal_basis])\n",
    "        \n",
    "    return rows"
   ]
  },
  {
   "cell_type": "code",
   "execution_count": 10,
   "metadata": {
    "collapsed": true
   },
   "outputs": [],
   "source": [
    "class Matrix:\n",
    "    \"\"\"Matrix class for random things you can do to a matrix, may add bases to this\n",
    "    because you can essentially treat them as matrices\"\"\"\n",
    "    \n",
    "    def __init__(self, matrix):\n",
    "        \"Create mxn matrix\"\n",
    "        try:\n",
    "            n = len(matrix[0])\n",
    "        except TypeError:\n",
    "            raise Exception(\"Matrix should be constructed from lists\")\n",
    "        \n",
    "        for column in matrix:\n",
    "            if len(column) != n:\n",
    "                raise Exception(\"Rows must be the same length\")\n",
    "        \n",
    "        self.matrix = matrix\n",
    "       \n",
    "    \n",
    "    def size(self):\n",
    "        return (len(self.matrix), len(self.matrix[0]))\n",
    "    \n",
    "    def isSquare(self):\n",
    "        \"Check if the matrix is square\"\n",
    "        return len(self.matrix) == len(self.matrix[0])\n",
    "    \n",
    "    \n",
    "    def __gcd(self,a,b):\n",
    "        return a if (b==0) else gcd(b,a%b)\n",
    "    \n",
    "    def transpose(self):\n",
    "        columns = []\n",
    "        for column in range(0,len(self.matrix[0])):\n",
    "            columns.append([row[column] for row in self.matrix])\n",
    "        return columns\n",
    "    \n",
    "    def columnsAreScalarMultiples(self):\n",
    "        A = self.transpose()\n",
    "        for col_ix in range(0,len(A)-1):\n",
    "            temp = []\n",
    "            for row_ix in range(0,len(A[0])):\n",
    "                if (A[col_ix][row_ix] == 0 and A[col_ix+1][row_ix] != 0) \\\n",
    "                or (A[col_ix+1][row_ix] == 0 and A[col_ix][row_ix] != 0):\n",
    "                    return False\n",
    "                temp.append(A[col_ix][row_ix]/A[col_ix+1][row_ix])\n",
    "            for ix in range(0,len(temp)-1):\n",
    "                if temp[ix] != temp[ix+1]:\n",
    "                    return False\n",
    "        return True\n",
    "            \n",
    "    \n",
    "    def echelonForm(self, matrix=\"self\"):\n",
    "        \"Use row reduction to get echelon form of matrix\"\n",
    "        A = self.matrix if matrix == \"self\" else matrix\n",
    "        row = 0\n",
    "        column = 0\n",
    "\n",
    "        while row < len(A) and column < len(A[0]):\n",
    "            if A[row][column] != 0:\n",
    "                A[row] = [x/A[row][column] for x in A[row]]\n",
    "\n",
    "                for i in range(row+1,len(A)):\n",
    "                        if A[i][column] != 0:\n",
    "                            A[i] = [x + y for x, y in zip(A[i], [x*-A[i][column] for x in A[column]])]\n",
    "            column+=1\n",
    "            row+=1\n",
    "            \n",
    "        # find pivot with 1 in first position TODO?\n",
    "        return A\n",
    "    \n",
    "    def reducedEchelonForm(self, matrix=\"self\"):\n",
    "        A = self.echelonForm()\n",
    "        \n",
    "        for r_ix, row in enumerate(reversed(A)):\n",
    "            try:\n",
    "                pivot_column = row.index(1)\n",
    "                pivot_row = len(A) - (r_ix+1)\n",
    "                # inner loop\n",
    "                for ri, r in enumerate(A):\n",
    "                    if r[pivot_column] != 0 and ri != pivot_row:\n",
    "                        A[ri] = [x + y for x, y in zip(A[ri], [x*-A[ri][pivot_column] for x in A[pivot_row]])]\n",
    "            except:\n",
    "                pass\n",
    "        return A\n",
    "    \n",
    "    def __reducedEchelonForm(self,A):\n",
    "        for r_ix, row in enumerate(reversed(A)):\n",
    "            try:\n",
    "                pivot_column = row.index(1)\n",
    "                pivot_row = len(A) - (r_ix+1)\n",
    "                # inner loop\n",
    "                for ri, r in enumerate(A):\n",
    "                    if r[pivot_column] != 0 and ri != pivot_row:\n",
    "                        A[ri] = [x + y for x, y in zip(A[ri], [x*-A[ri][pivot_column] for x in A[pivot_row]])]\n",
    "            except:\n",
    "                pass\n",
    "        return A\n",
    "    \n",
    "    \n",
    "    def __determinant_helper(self, matrix):\n",
    "        if len(matrix) == 2:\n",
    "            return (matrix[0][0]*matrix[1][1]) - (matrix[1][0]*matrix[0][1])\n",
    "\n",
    "        # alternatively, find row or column with fewest non-zero values TODO\n",
    "\n",
    "        total = 0\n",
    "\n",
    "        # make the minor\n",
    "        for ix, value in enumerate(matrix[0]):\n",
    "            if value != 0:\n",
    "                temp_mat = []\n",
    "                for i, row in enumerate(matrix):\n",
    "                    if i != 0:\n",
    "                        temp_row = []\n",
    "                        for j, val in enumerate(row):\n",
    "                            if j != ix:\n",
    "                                temp_row.append(val)\n",
    "                        temp_mat.append(temp_row)\n",
    "\n",
    "                # -1^(j+1)a1jdetA1j\n",
    "                total += ((-1)**(ix)) * value * determinant(temp_mat)\n",
    "        return total\n",
    "    \n",
    "    def determinant(self):\n",
    "        if self.isSquare():\n",
    "            return self.__determinant_helper(self.matrix)\n",
    "    \n",
    "    # fix memory stuff...\n",
    "    def inverse(self):\n",
    "        # all the invertible checks go here...\n",
    "        if not self.isSquare():\n",
    "            raise Exception(\"Matrix must be square to be invertible\")\n",
    "        \n",
    "        identity_matrix = []\n",
    "        for x in range(0,len(self.matrix)):\n",
    "            temp = []\n",
    "            for y in range(0,len(self.matrix)):\n",
    "                if x == y:\n",
    "                    temp.append(1)\n",
    "                else:\n",
    "                    temp.append(0)\n",
    "            identity_matrix.append(temp)\n",
    "                    \n",
    "        A = self.matrix\n",
    "        for ix, (a_row, i_row) in enumerate(zip(A,identity_matrix)):\n",
    "            A[ix] = a_row + i_row\n",
    "        \n",
    "        # got a little frustrated with some functions. just made a new matrix instead.\n",
    "        temp = Matrix(A)\n",
    "        return temp.reducedEchelonForm() # get the matrix that was appended and multiply everything by the determinant"
   ]
  },
  {
   "cell_type": "code",
   "execution_count": null,
   "metadata": {
    "collapsed": true
   },
   "outputs": [],
   "source": [
    "# feel free to ignore this stuff"
   ]
  },
  {
   "cell_type": "code",
   "execution_count": 317,
   "metadata": {
    "collapsed": false
   },
   "outputs": [
    {
     "data": {
      "text/plain": [
       "True"
      ]
     },
     "execution_count": 317,
     "metadata": {},
     "output_type": "execute_result"
    }
   ],
   "source": [
    "M = Matrix([[1,2],[5,10]])\n",
    "M.columnsAreScalarMultiples()"
   ]
  },
  {
   "cell_type": "code",
   "execution_count": 291,
   "metadata": {
    "collapsed": true
   },
   "outputs": [],
   "source": [
    "M = Matrix([[1, 2, 1, 0],[0, -2, -3, 1]])"
   ]
  },
  {
   "cell_type": "code",
   "execution_count": 305,
   "metadata": {
    "collapsed": false
   },
   "outputs": [
    {
     "data": {
      "text/plain": [
       "[[1.0, 0.0, 3.0], [0.0, 1.0, -3.0], [0.0, 0.0, 1.0]]"
      ]
     },
     "execution_count": 305,
     "metadata": {},
     "output_type": "execute_result"
    }
   ],
   "source": [
    "M = Matrix([[1,0,3],[-1,1,-6],[2,4,1]])\n",
    "M.echelonForm()"
   ]
  },
  {
   "cell_type": "code",
   "execution_count": 307,
   "metadata": {
    "collapsed": false
   },
   "outputs": [
    {
     "data": {
      "text/plain": [
       "[[1.0, 0.0, 0.0], [0.0, 1.0, 0.0], [3.0, -3.0, 1.0]]"
      ]
     },
     "execution_count": 307,
     "metadata": {},
     "output_type": "execute_result"
    }
   ],
   "source": [
    "M.getColumns()"
   ]
  },
  {
   "cell_type": "code",
   "execution_count": 220,
   "metadata": {
    "collapsed": false
   },
   "outputs": [
    {
     "data": {
      "text/plain": [
       "[[1.0, 0.0, -2.0, 1.0], [-0.0, 1.0, 1.5, -0.5]]"
      ]
     },
     "execution_count": 220,
     "metadata": {},
     "output_type": "execute_result"
    }
   ],
   "source": [
    "M.reducedEchelonForm()"
   ]
  },
  {
   "cell_type": "code",
   "execution_count": 139,
   "metadata": {
    "collapsed": false,
    "scrolled": true
   },
   "outputs": [
    {
     "name": "stdout",
     "output_type": "stream",
     "text": [
      "0 0\n",
      "1 1\n",
      "2 2\n",
      "[1.0, 1.0, -0.3333333333333333]\n",
      "[-0.0, 1.0, -0.0]\n",
      "[0.0, 0.0, 0.0]\n",
      "[0.0, 0.0, 0.0]\n",
      "[1.0, 1.0, -0.3333333333333333] hey\n",
      "[1.0, 0.0, -0.3333333333333333]\n",
      "[-0.0, 1.0, -0.0]\n",
      "[0.0, 0.0, 0.0]\n",
      "[0.0, 0.0, 0.0]\n",
      "[[1.0, 0.0, -0.3333333333333333], [-0.0, 1.0, -0.0], [0.0, 0.0, 0.0], [0.0, 0.0, 0.0]]\n"
     ]
    }
   ],
   "source": [
    "for r_ix, row in enumerate(reversed(M.echelonForm())):\n",
    "    try:\n",
    "        pivot_column = row.index(1)\n",
    "        pivot_row = len(A) - (r_ix+1)\n",
    "        for x in A:\n",
    "            print(x)\n",
    "        # inner loop\n",
    "        for ri, r in enumerate(A):\n",
    "            if r[pivot_column] != 0 and ri != pivot_row:\n",
    "                A[ri] = [x + y for x, y in zip(A[ri], [x*-A[pivot_row][pivot_column] for x in A[pivot_row]])]\n",
    "    except:\n",
    "        pass"
   ]
  },
  {
   "cell_type": "code",
   "execution_count": 132,
   "metadata": {
    "collapsed": false
   },
   "outputs": [
    {
     "name": "stdout",
     "output_type": "stream",
     "text": [
      "0 0\n",
      "1 1\n",
      "2 2\n"
     ]
    },
    {
     "data": {
      "text/plain": [
       "[[1.0, 2.0, -0.3333333333333333],\n",
       " [0.0, 0.0, 0.0],\n",
       " [0.0, 0.0, 0.0],\n",
       " [0.0, 0.0, 0.0]]"
      ]
     },
     "execution_count": 132,
     "metadata": {},
     "output_type": "execute_result"
    }
   ],
   "source": [
    "M.echelonForm()"
   ]
  },
  {
   "cell_type": "code",
   "execution_count": 111,
   "metadata": {
    "collapsed": false
   },
   "outputs": [
    {
     "data": {
      "text/plain": [
       "[[1.0, 2.0, -0.3333333333333333],\n",
       " [0.0, 0.0, 0.0],\n",
       " [0.0, 0.0, 0.0],\n",
       " [0.0, 0.0, 0.0]]"
      ]
     },
     "execution_count": 111,
     "metadata": {},
     "output_type": "execute_result"
    }
   ],
   "source": [
    "A"
   ]
  },
  {
   "cell_type": "code",
   "execution_count": 176,
   "metadata": {
    "collapsed": false
   },
   "outputs": [],
   "source": [
    "x = Matrix([[-.7,.3,.3],[.4,-.9,.5]])"
   ]
  },
  {
   "cell_type": "code",
   "execution_count": 177,
   "metadata": {
    "collapsed": false
   },
   "outputs": [
    {
     "data": {
      "text/plain": [
       "False"
      ]
     },
     "execution_count": 177,
     "metadata": {},
     "output_type": "execute_result"
    }
   ],
   "source": [
    "x.isSquare()"
   ]
  },
  {
   "cell_type": "code",
   "execution_count": 178,
   "metadata": {
    "collapsed": false
   },
   "outputs": [
    {
     "data": {
      "text/plain": [
       "[[1.0, 0.0, -0.8235294117647061], [-0.0, 1.0, -0.9215686274509806]]"
      ]
     },
     "execution_count": 178,
     "metadata": {},
     "output_type": "execute_result"
    }
   ],
   "source": [
    "x.reducedEchelonForm()"
   ]
  },
  {
   "cell_type": "code",
   "execution_count": 284,
   "metadata": {
    "collapsed": false
   },
   "outputs": [],
   "source": [
    "# determinant found using cofactor expansion\n",
    "E = [[1,0,3],\n",
    "     [-1,1,-6],\n",
    "     [2,4,1]]\n",
    "\n",
    "def determinant(matrix):\n",
    "    if len(matrix) == 2:\n",
    "        return (matrix[0][0]*matrix[1][1]) - (matrix[1][0]*matrix[0][1])\n",
    "    \n",
    "    # alternatively, find row or column with fewest non-zero values TODO\n",
    "    \n",
    "    total = 0\n",
    "    \n",
    "    # make the minor\n",
    "    for ix, value in enumerate(matrix[0]):\n",
    "        if value != 0:\n",
    "            temp_mat = []\n",
    "            for i, row in enumerate(matrix):\n",
    "                if i != 0:\n",
    "                    temp_row = []\n",
    "                    for j, val in enumerate(row):\n",
    "                        if j != ix:\n",
    "                            temp_row.append(val)\n",
    "                    temp_mat.append(temp_row)\n",
    "            \n",
    "            # -1^(j+1)a1jdetA1j\n",
    "            total += ((-1)**(ix)) * value * determinant(temp_mat)\n",
    "    return total"
   ]
  },
  {
   "cell_type": "code",
   "execution_count": 285,
   "metadata": {
    "collapsed": false
   },
   "outputs": [
    {
     "name": "stdout",
     "output_type": "stream",
     "text": [
      "1\n",
      "-6\n",
      "4\n",
      "1\n",
      "[[1, -6], [4, 1]]\n",
      "-1\n",
      "1\n",
      "2\n",
      "4\n",
      "[[-1, 1], [2, 4]]\n"
     ]
    },
    {
     "data": {
      "text/plain": [
       "7"
      ]
     },
     "execution_count": 285,
     "metadata": {},
     "output_type": "execute_result"
    }
   ],
   "source": [
    "determinant(E)"
   ]
  },
  {
   "cell_type": "code",
   "execution_count": null,
   "metadata": {
    "collapsed": true
   },
   "outputs": [],
   "source": []
  }
 ],
 "metadata": {
  "kernelspec": {
   "display_name": "Python 3",
   "language": "python",
   "name": "python3"
  },
  "language_info": {
   "codemirror_mode": {
    "name": "ipython",
    "version": 3
   },
   "file_extension": ".py",
   "mimetype": "text/x-python",
   "name": "python",
   "nbconvert_exporter": "python",
   "pygments_lexer": "ipython3",
   "version": "3.5.1"
  },
  "widgets": {
   "state": {},
   "version": "1.1.2"
  }
 },
 "nbformat": 4,
 "nbformat_minor": 0
}
