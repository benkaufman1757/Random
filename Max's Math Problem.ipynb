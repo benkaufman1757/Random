{
 "cells": [
  {
   "cell_type": "code",
   "execution_count": 45,
   "metadata": {
    "collapsed": false
   },
   "outputs": [],
   "source": [
    "# 5^2 = 25\n",
    "# 11^2 = 121\n",
    "# 3! * 6 = 36\n",
    "# 5! + 4! + 1 = 145 or (4 + 1)! + 5 = 145\n",
    "# 2^(8-1) = 128\n",
    "# (2^7)-1 = 127\n",
    "# 4! * 3! - 1 = 143\n",
    "# 5 ^ (2 + 1) = 125\n",
    "\n",
    "\n",
    "# Over 200\n",
    "# 6 ^ (2 + 1) = 216\n",
    "\n",
    "\n",
    "\n",
    "\n",
    "\n",
    "# Don't think these count\n",
    "# 4! * (2^0) = 024\n",
    "# 10 * 10 = 100.0\n",
    "\n",
    "\n",
    "from math import factorial\n",
    "first_num = list(range(1,10))\n",
    "second_num = list(range(1,10))\n",
    "third_num = 1\n",
    "\n",
    "### Thank you stack overflow, much nicer way ###\n",
    "### http://stackoverflow.com/questions/2983139/assign-operator-to-variable-in-python\n",
    "import operator\n",
    "ops = {\"+\": operator.add,\n",
    "       \"-\": operator.sub,\n",
    "       \"*\": operator.mul,\n",
    "       \"/\": operator.truediv,\n",
    "       \"^\": operator.pow} # truediv in python3"
   ]
  },
  {
   "cell_type": "code",
   "execution_count": 75,
   "metadata": {
    "collapsed": false
   },
   "outputs": [
    {
     "name": "stdout",
     "output_type": "stream",
     "text": [
      "3 * 4 ! =  143 Tada blah!\n",
      "3 * 6 ! =  36 Tada!\n",
      "4 * 3 ! =  143 Tada blah!\n",
      "2 ^ 7 ! =  127 Tada!\n",
      "5 ^ 2  =  25 FOUND IT\n",
      "( 2 ^ 7 ) - 1  =  127 HOORAY\n",
      "2 ( 8 - 1 ) =  128 Wooo\n",
      "5 ( 2 + 1 ) =  125 Wooo\n",
      "6 ( 2 + 1 ) =  216 Wooo\n"
     ]
    }
   ],
   "source": [
    "for sym, op in ops.items():\n",
    "    for fnum in first_num:\n",
    "        for snum in second_num:\n",
    "            \"\"\"\n",
    "            if switch == 1:\n",
    "                fnum = fnum\n",
    "                snum = snum\n",
    "            elif switch == 2 and fnum <5:\n",
    "                fnum = factorial(fnum)\n",
    "                snum = snum\n",
    "            elif switch == 3 snum <5:\n",
    "                fnum = fnum\n",
    "                snum = factorial(snum)\n",
    "            elif switch == 4 and fnum <5 and snum <5:\n",
    "                fnum = factorial(fnum)\n",
    "                snum = factorial(snum)\n",
    "            \"\"\"\n",
    "\n",
    "            # Combination of operations with 2 numbers\n",
    "            if sorted([str(fnum),str(snum)]) == sorted(str(op(fnum,snum))):\n",
    "                print(fnum, sym, snum,\" = \",op(fnum,snum), \"FOUND IT\")\n",
    "\n",
    "            # Combinations of exponents\n",
    "            if sorted(str(op(fnum**snum,1))) == sorted([str(fnum),str(snum),'1']):\n",
    "                print(\"(\",fnum,\"^\",snum,\")\",sym,'1',\" = \",op(fnum**snum,1),\"HOORAY\")\n",
    "            if sorted(str(fnum**op(snum,1))) == sorted([str(fnum),str(snum),'1']):\n",
    "                print(fnum,\"(\",snum,sym,1,\") = \", fnum**op(snum,1), \"Wooo\")\n",
    "            if sorted(str(op(fnum,1)**snum)) == sorted([str(fnum),str(snum),'1']):\n",
    "                print(fnum,\"(\",snum,sym,1,\") = \", op(fnum,1)**snum, \"Ummm\")\n",
    "\n",
    "            # Factorials\n",
    "            if sorted([str(fnum),str(snum)]) == sorted(str(op(factorial(fnum),snum))):\n",
    "                print(fnum,sym,snum,\"! = \", op(factorial(fnum),snum), \"Tada!\")\n",
    "            \n",
    "            for sym2, op2 in ops.items():\n",
    "                \n",
    "                if sorted([str(fnum),str(snum),'1']) == sorted(str(op2(op(factorial(fnum),snum),1))):\n",
    "                    print(fnum,sym,snum,\"! = \", op2(op(factorial(fnum),snum),1), \"Tada!\")\n",
    "                if factorial(fnum) * factorial(snum) < 2000:\n",
    "                    if sorted([str(fnum),str(snum),'1']) == sorted(str(op2(op(factorial(fnum),factorial(snum)),1))):\n",
    "                        print(fnum,sym,snum,\"! = \", op2(op(factorial(fnum),factorial(snum)),1), \"Tada blah!\")\n",
    "                    if sorted([str(fnum),str(snum),'1']) == sorted(str(op2(op(factorial(fnum),1),factorial(snum)))):\n",
    "                        print(fnum,snum,1)\n",
    "            \n",
    "            if sorted([str(fnum),str(snum)]) == sorted(str(op(factorial(fnum),snum**(-1)))):\n",
    "                print(fnum,snum,1)\n",
    "            \n",
    "            #print(sorted([str(fnum),str(snum)]), sorted(str(op(fnum,snum))))\n",
    "\n"
   ]
  },
  {
   "cell_type": "code",
   "execution_count": 15,
   "metadata": {
    "collapsed": false
   },
   "outputs": [
    {
     "data": {
      "text/plain": [
       "['a', 'b', 'c', 'd']"
      ]
     },
     "execution_count": 15,
     "metadata": {},
     "output_type": "execute_result"
    }
   ],
   "source": [
    "sorted(\"dabc\")"
   ]
  },
  {
   "cell_type": "code",
   "execution_count": null,
   "metadata": {
    "collapsed": true
   },
   "outputs": [],
   "source": []
  }
 ],
 "metadata": {
  "kernelspec": {
   "display_name": "Python 3",
   "language": "python",
   "name": "python3"
  },
  "language_info": {
   "codemirror_mode": {
    "name": "ipython",
    "version": 3
   },
   "file_extension": ".py",
   "mimetype": "text/x-python",
   "name": "python",
   "nbconvert_exporter": "python",
   "pygments_lexer": "ipython3",
   "version": "3.5.1"
  }
 },
 "nbformat": 4,
 "nbformat_minor": 0
}
