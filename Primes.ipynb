{
 "cells": [
  {
   "cell_type": "code",
   "execution_count": 2,
   "metadata": {
    "collapsed": true
   },
   "outputs": [],
   "source": [
    "def expand_x_1(n): \n",
    "# This version uses a generator and thus less computations\n",
    "    c =1\n",
    "    for i in range(n/2+1):\n",
    "        c = c*(n-i)/(i+1)\n",
    "        yield c\n",
    "\n",
    "def aks(p):\n",
    "    if p==2:\n",
    "        return True\n",
    " \n",
    "    for i in expand_x_1(p):\n",
    "        if i % p:\n",
    "# we stop without computing all possible solutions\n",
    "            return False\n",
    "    return True"
   ]
  },
  {
   "cell_type": "code",
   "execution_count": 5,
   "metadata": {
    "collapsed": false
   },
   "outputs": [
    {
     "name": "stdout",
     "output_type": "stream",
     "text": [
      "# p: (x-1)^p for small p\n",
      "  0: +1\n",
      "  1: -1 +1x^1\n",
      "  2: +1 -2x^1 +1x^2\n",
      "  3: -1 +3x^1 -3x^2 +1x^3\n",
      "  4: +1 -4x^1 +6x^2 -4x^3 +1x^4\n",
      "  5: -1 +5x^1 -10x^2 +10x^3 -5x^4 +1x^5\n",
      "  6: +1 -6x^1 +15x^2 -20x^3 +15x^4 -6x^5 +1x^6\n",
      "  7: -1 +7x^1 -21x^2 +35x^3 -35x^4 +21x^5 -7x^6 +1x^7\n",
      "  8: +1 -8x^1 +28x^2 -56x^3 +70x^4 -56x^5 +28x^6 -8x^7 +1x^8\n",
      "  9: -1 +9x^1 -36x^2 +84x^3 -126x^4 +126x^5 -84x^6 +36x^7 -9x^8 +1x^9\n",
      " 10: +1 -10x^1 +45x^2 -120x^3 +210x^4 -252x^5 +210x^6 -120x^7 +45x^8 -10x^9 +1x^10\n",
      " 11: -1 +11x^1 -55x^2 +165x^3 -330x^4 +462x^5 -462x^6 +330x^7 -165x^8 +55x^9 -11x^10 +1x^11\n",
      "\n",
      "# small primes using the aks test\n",
      "[2, 3, 5, 7, 11, 13, 17, 19, 23, 29, 31, 37, 41, 43, 47, 53]\n"
     ]
    }
   ],
   "source": [
    "def expand_x_1(p):\n",
    "    ex = [1]\n",
    "    for i in range(p):\n",
    "        ex.append(ex[-1] * -(p-i) / (i+1))\n",
    "    return ex[::-1]\n",
    " \n",
    "def aks_test(p):\n",
    "    if p < 2: return False\n",
    "    ex = expand_x_1(p)\n",
    "    ex[0] += 1\n",
    "    return not any(mult % p for mult in ex[0:-1])\n",
    " \n",
    " \n",
    "print('# p: (x-1)^p for small p')\n",
    "for p in range(12):\n",
    "    print('%3i: %s' % (p, ' '.join('%+i%s' % (e, ('x^%i' % n) if n else '')\n",
    "                                   for n,e in enumerate(expand_x_1(p)))))\n",
    " \n",
    "print('\\n# small primes using the aks test')\n",
    "print([p for p in range(101) if aks_test(p)])"
   ]
  },
  {
   "cell_type": "code",
   "execution_count": 6,
   "metadata": {
    "collapsed": true
   },
   "outputs": [],
   "source": [
    "primes = [p for p in range(10000) if aks_test(p)]"
   ]
  },
  {
   "cell_type": "code",
   "execution_count": 8,
   "metadata": {
    "collapsed": false
   },
   "outputs": [
    {
     "data": {
      "text/plain": [
       "16"
      ]
     },
     "execution_count": 8,
     "metadata": {},
     "output_type": "execute_result"
    }
   ],
   "source": [
    "len(primes)"
   ]
  },
  {
   "cell_type": "code",
   "execution_count": 18,
   "metadata": {
    "collapsed": false
   },
   "outputs": [
    {
     "data": {
      "text/plain": [
       "array([ 1.,  3.,  3.,  1.])"
      ]
     },
     "execution_count": 18,
     "metadata": {},
     "output_type": "execute_result"
    }
   ],
   "source": [
    "np.polynomial.polynomial.polypow([1,1],3)"
   ]
  },
  {
   "cell_type": "code",
   "execution_count": 10,
   "metadata": {
    "collapsed": false
   },
   "outputs": [
    {
     "name": "stdout",
     "output_type": "stream",
     "text": [
      "[2, 3, 5, 7, 11, 13, 17, 19, 23, 29, 31, 37, 41, 43, 47, 53]\n"
     ]
    }
   ],
   "source": [
    "print([p for p in range(101) if aks_test(p)])"
   ]
  },
  {
   "cell_type": "code",
   "execution_count": 13,
   "metadata": {
    "collapsed": false
   },
   "outputs": [],
   "source": [
    "test = [x for x in range(10) if x % 2 == 0]"
   ]
  },
  {
   "cell_type": "code",
   "execution_count": 14,
   "metadata": {
    "collapsed": false
   },
   "outputs": [
    {
     "data": {
      "text/plain": [
       "[0, 2, 4, 6, 8]"
      ]
     },
     "execution_count": 14,
     "metadata": {},
     "output_type": "execute_result"
    }
   ],
   "source": [
    "test"
   ]
  },
  {
   "cell_type": "code",
   "execution_count": 16,
   "metadata": {
    "collapsed": false
   },
   "outputs": [
    {
     "data": {
      "text/plain": [
       "[2, 4, 6]"
      ]
     },
     "execution_count": 16,
     "metadata": {},
     "output_type": "execute_result"
    }
   ],
   "source": [
    "test[1:-1]"
   ]
  },
  {
   "cell_type": "code",
   "execution_count": 17,
   "metadata": {
    "collapsed": true
   },
   "outputs": [],
   "source": [
    "import numpy as np    "
   ]
  },
  {
   "cell_type": "code",
   "execution_count": 21,
   "metadata": {
    "collapsed": true
   },
   "outputs": [],
   "source": [
    "def is_prime(num):\n",
    "    poly = np.polynomial.polynomial.polypow([1,1],num)[1:-1]\n",
    "    if len([x for x in poly if x % num == 0]) == len(poly):\n",
    "        return True\n",
    "    else:\n",
    "        return False"
   ]
  },
  {
   "cell_type": "code",
   "execution_count": 22,
   "metadata": {
    "collapsed": false
   },
   "outputs": [
    {
     "data": {
      "text/plain": [
       "False"
      ]
     },
     "execution_count": 22,
     "metadata": {},
     "output_type": "execute_result"
    }
   ],
   "source": [
    "is_prime(10)"
   ]
  },
  {
   "cell_type": "code",
   "execution_count": 31,
   "metadata": {
    "collapsed": false
   },
   "outputs": [],
   "source": [
    "primes = [p for p in range(2,1000000) if is_probable_prime(p)]"
   ]
  },
  {
   "cell_type": "code",
   "execution_count": 33,
   "metadata": {
    "collapsed": false
   },
   "outputs": [
    {
     "data": {
      "text/plain": [
       "78498"
      ]
     },
     "execution_count": 33,
     "metadata": {},
     "output_type": "execute_result"
    }
   ],
   "source": [
    "len(primes)"
   ]
  },
  {
   "cell_type": "code",
   "execution_count": 1,
   "metadata": {
    "collapsed": true
   },
   "outputs": [],
   "source": [
    "import random\n",
    " \n",
    "_mrpt_num_trials = 5 # number of bases to test\n",
    " \n",
    "def is_probable_prime(n):\n",
    "    \"\"\"\n",
    "    Miller-Rabin primality test.\n",
    " \n",
    "    A return value of False means n is certainly not prime. A return value of\n",
    "    True means n is very likely a prime.\n",
    " \n",
    "    >>> is_probable_prime(1)\n",
    "    Traceback (most recent call last):\n",
    "        ...\n",
    "    AssertionError\n",
    "    >>> is_probable_prime(2)\n",
    "    True\n",
    "    >>> is_probable_prime(3)\n",
    "    True\n",
    "    >>> is_probable_prime(4)\n",
    "    False\n",
    "    >>> is_probable_prime(5)\n",
    "    True\n",
    "    >>> is_probable_prime(123456789)\n",
    "    False\n",
    " \n",
    "    >>> primes_under_1000 = [i for i in range(2, 1000) if is_probable_prime(i)]\n",
    "    >>> len(primes_under_1000)\n",
    "    168\n",
    "    >>> primes_under_1000[-10:]\n",
    "    [937, 941, 947, 953, 967, 971, 977, 983, 991, 997]\n",
    " \n",
    "    >>> is_probable_prime(6438080068035544392301298549614926991513861075340134\\\n",
    "3291807343952413826484237063006136971539473913409092293733259038472039\\\n",
    "7133335969549256322620979036686633213903952966175107096769180017646161\\\n",
    "851573147596390153)\n",
    "    True\n",
    " \n",
    "    >>> is_probable_prime(7438080068035544392301298549614926991513861075340134\\\n",
    "3291807343952413826484237063006136971539473913409092293733259038472039\\\n",
    "7133335969549256322620979036686633213903952966175107096769180017646161\\\n",
    "851573147596390153)\n",
    "    False\n",
    "    \"\"\"\n",
    "    assert n >= 2\n",
    "    # special case 2\n",
    "    if n == 2:\n",
    "        return True\n",
    "    # ensure n is odd\n",
    "    if n % 2 == 0:\n",
    "        return False\n",
    "    # write n-1 as 2**s * d\n",
    "    # repeatedly try to divide n-1 by 2\n",
    "    s = 0\n",
    "    d = n-1\n",
    "    while True:\n",
    "        quotient, remainder = divmod(d, 2)\n",
    "        if remainder == 1:\n",
    "            break\n",
    "        s += 1\n",
    "        d = quotient\n",
    "    assert(2**s * d == n-1)\n",
    " \n",
    "    # test the base a to see whether it is a witness for the compositeness of n\n",
    "    def try_composite(a):\n",
    "        if pow(a, d, n) == 1:\n",
    "            return False\n",
    "        for i in range(s):\n",
    "            if pow(a, 2**i * d, n) == n-1:\n",
    "                return False\n",
    "        return True # n is definitely composite\n",
    " \n",
    "    for i in range(_mrpt_num_trials):\n",
    "        a = random.randrange(2, n)\n",
    "        if try_composite(a):\n",
    "            return False\n",
    " \n",
    "    return True"
   ]
  },
  {
   "cell_type": "code",
   "execution_count": 2,
   "metadata": {
    "collapsed": false
   },
   "outputs": [],
   "source": [
    "primes = [p for p in range(2,1000000) if is_probable_prime(p) p else 0]"
   ]
  },
  {
   "cell_type": "code",
   "execution_count": 3,
   "metadata": {
    "collapsed": true
   },
   "outputs": [],
   "source": [
    "import matplotlib.pyplot as plt"
   ]
  },
  {
   "cell_type": "code",
   "execution_count": 6,
   "metadata": {
    "collapsed": false
   },
   "outputs": [
    {
     "data": {
      "text/plain": [
       "[<matplotlib.lines.Line2D at 0x10829dc50>]"
      ]
     },
     "execution_count": 6,
     "metadata": {},
     "output_type": "execute_result"
    },
    {
     "data": {
      "image/png": "[encoded data removed]",
      "text/plain": [
       "<matplotlib.figure.Figure at 0x10bd75908>"
      ]
     },
     "metadata": {},
     "output_type": "display_data"
    }
   ],
   "source": [
    "plt.scatter(primes, )"
   ]
  },
  {
   "cell_type": "code",
   "execution_count": 5,
   "metadata": {
    "collapsed": true
   },
   "outputs": [],
   "source": [
    "%matplotlib inline"
   ]
  },
  {
   "cell_type": "code",
   "execution_count": 14,
   "metadata": {
    "collapsed": false
   },
   "outputs": [
    {
     "data": {
      "text/plain": [
       "[2, 3, 5, 7]"
      ]
     },
     "execution_count": 14,
     "metadata": {},
     "output_type": "execute_result"
    }
   ],
   "source": [
    "[p for p in range(2,10) if is_probable_prime(p)]"
   ]
  },
  {
   "cell_type": "code",
   "execution_count": 12,
   "metadata": {
    "collapsed": false
   },
   "outputs": [
    {
     "data": {
      "text/plain": [
       "[1, 1, 0, 1, 0, 1, 0, 0]"
      ]
     },
     "execution_count": 12,
     "metadata": {},
     "output_type": "execute_result"
    }
   ],
   "source": [
    "list(map(lambda x: 1 if is_probable_prime(x) else 0,[p for p in range(2,10)]))"
   ]
  },
  {
   "cell_type": "code",
   "execution_count": 17,
   "metadata": {
    "collapsed": false
   },
   "outputs": [
    {
     "data": {
      "text/plain": [
       "<matplotlib.collections.PathCollection at 0x10e26a6d8>"
      ]
     },
     "execution_count": 17,
     "metadata": {},
     "output_type": "execute_result"
    },
    {
     "data": {
      "image/png": "[encoded data removed]",
      "text/plain": [
       "<matplotlib.figure.Figure at 0x10e203278>"
      ]
     },
     "metadata": {},
     "output_type": "display_data"
    }
   ],
   "source": [
    "plt.scatter([p for p in range(2,101)], list(map(lambda x: 1 if is_probable_prime(x) else 0,[p for p in range(2,101)])))"
   ]
  },
  {
   "cell_type": "code",
   "execution_count": 43,
   "metadata": {
    "collapsed": false
   },
   "outputs": [],
   "source": [
    "diffs = []\n",
    "for ix, elem in enumerate(primes):\n",
    "    if ix < len(primes)-1:\n",
    "        diffs.append(primes[ix+1] - elem)"
   ]
  },
  {
   "cell_type": "code",
   "execution_count": 44,
   "metadata": {
    "collapsed": false
   },
   "outputs": [
    {
     "data": {
      "text/plain": [
       "114"
      ]
     },
     "execution_count": 44,
     "metadata": {},
     "output_type": "execute_result"
    }
   ],
   "source": [
    "max(diffs)"
   ]
  },
  {
   "cell_type": "code",
   "execution_count": 47,
   "metadata": {
    "collapsed": false
   },
   "outputs": [],
   "source": [
    "primes2 = []\n",
    "import math\n",
    "for num in range(1,1000000):\n",
    "    if all(num%i!=0 for i in range(2,int(math.sqrt(num))+1)):\n",
    "       primes2.append(num)"
   ]
  },
  {
   "cell_type": "code",
   "execution_count": 48,
   "metadata": {
    "collapsed": false
   },
   "outputs": [],
   "source": [
    "diffs2 = []\n",
    "for ix, elem in enumerate(primes2):\n",
    "    if ix < len(primes2)-1:\n",
    "        diffs2.append(primes2[ix+1] - elem)"
   ]
  },
  {
   "cell_type": "code",
   "execution_count": 49,
   "metadata": {
    "collapsed": false
   },
   "outputs": [
    {
     "data": {
      "text/plain": [
       "114"
      ]
     },
     "execution_count": 49,
     "metadata": {},
     "output_type": "execute_result"
    }
   ],
   "source": [
    "max(diffs2)"
   ]
  },
  {
   "cell_type": "code",
   "execution_count": 50,
   "metadata": {
    "collapsed": false
   },
   "outputs": [
    {
     "data": {
      "text/plain": [
       "78498"
      ]
     },
     "execution_count": 50,
     "metadata": {},
     "output_type": "execute_result"
    }
   ],
   "source": [
    "len(diffs2)"
   ]
  },
  {
   "cell_type": "code",
   "execution_count": 51,
   "metadata": {
    "collapsed": false
   },
   "outputs": [
    {
     "data": {
      "text/plain": [
       "2"
      ]
     },
     "execution_count": 51,
     "metadata": {},
     "output_type": "execute_result"
    }
   ],
   "source": [
    "# min distance between primes above 882377 (primes2[70000])\n",
    "min(diffs2[70000:])"
   ]
  },
  {
   "cell_type": "code",
   "execution_count": 53,
   "metadata": {
    "collapsed": false
   },
   "outputs": [
    {
     "data": {
      "text/plain": [
       "882377"
      ]
     },
     "execution_count": 53,
     "metadata": {},
     "output_type": "execute_result"
    }
   ],
   "source": [
    "primes2[70000]"
   ]
  },
  {
   "cell_type": "code",
   "execution_count": null,
   "metadata": {
    "collapsed": true
   },
   "outputs": [],
   "source": [
    "# conjecture: infinite number of even number separated pairs of primes."
   ]
  }
 ],
 "metadata": {
  "kernelspec": {
   "display_name": "Python 3",
   "language": "python",
   "name": "python3"
  },
  "language_info": {
   "codemirror_mode": {
    "name": "ipython",
    "version": 3
   },
   "file_extension": ".py",
   "mimetype": "text/x-python",
   "name": "python",
   "nbconvert_exporter": "python",
   "pygments_lexer": "ipython3",
   "version": "3.4.3"
  }
 },
 "nbformat": 4,
 "nbformat_minor": 0
}
